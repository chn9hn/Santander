{
 "cells": [
  {
   "cell_type": "code",
   "execution_count": 1,
   "metadata": {
    "collapsed": false
   },
   "outputs": [],
   "source": [
    "import numpy as np\n",
    "import pandas as pd\n",
    "from pandas import Series,DataFrame\n",
    "import seaborn as sns\n",
    "import matplotlib.pyplot as plt\n",
    "\n",
    "sns.set_style('darkgrid')\n",
    "plt.style.use('fivethirtyeight')\n",
    "%matplotlib inline"
   ]
  },
  {
   "cell_type": "code",
   "execution_count": 2,
   "metadata": {
    "collapsed": false
   },
   "outputs": [],
   "source": [
    "# get train & test csv files as a DataFrame\n",
    "limit_rows   = 7000000\n",
    "\n",
    "train_df = pd.read_csv(\"train_encoded.csv\", nrows=limit_rows)\n",
    "\n",
    "unique_ids   = pd.Series(train_df[\"ncodpers\"].unique())\n",
    "limit_people = 1.2e4\n",
    "unique_id    = unique_ids.sample(n=limit_people)\n",
    "train_df     = train_df[train_df.ncodpers.isin(unique_id)]"
   ]
  },
  {
   "cell_type": "code",
   "execution_count": 3,
   "metadata": {
    "collapsed": false
   },
   "outputs": [
    {
     "data": {
      "text/html": [
       "<div>\n",
       "<table border=\"1\" class=\"dataframe\">\n",
       "  <thead>\n",
       "    <tr style=\"text-align: right;\">\n",
       "      <th></th>\n",
       "      <th>ncodpers</th>\n",
       "      <th>ind_empleado</th>\n",
       "      <th>pais_residencia</th>\n",
       "      <th>sexo</th>\n",
       "      <th>age</th>\n",
       "      <th>ind_nuevo</th>\n",
       "      <th>antiguedad</th>\n",
       "      <th>indrel</th>\n",
       "      <th>indrel_1mes</th>\n",
       "      <th>tiprel_1mes</th>\n",
       "      <th>...</th>\n",
       "      <th>ind_nomina_ult1</th>\n",
       "      <th>ind_nom_pens_ult1</th>\n",
       "      <th>ind_recibo_ult1</th>\n",
       "      <th>fecha_dato_month</th>\n",
       "      <th>fecha_dato_year</th>\n",
       "      <th>month_int</th>\n",
       "      <th>fecha_alta_month</th>\n",
       "      <th>fecha_alta_year</th>\n",
       "      <th>fecha_alta_day</th>\n",
       "      <th>fecha_alta_month_int</th>\n",
       "    </tr>\n",
       "  </thead>\n",
       "  <tbody>\n",
       "    <tr>\n",
       "      <th>108</th>\n",
       "      <td>1050499</td>\n",
       "      <td>0</td>\n",
       "      <td>0</td>\n",
       "      <td>1</td>\n",
       "      <td>23</td>\n",
       "      <td>0</td>\n",
       "      <td>35</td>\n",
       "      <td>1</td>\n",
       "      <td>1</td>\n",
       "      <td>1</td>\n",
       "      <td>...</td>\n",
       "      <td>0</td>\n",
       "      <td>0</td>\n",
       "      <td>0</td>\n",
       "      <td>1</td>\n",
       "      <td>0</td>\n",
       "      <td>1</td>\n",
       "      <td>8</td>\n",
       "      <td>-3</td>\n",
       "      <td>10</td>\n",
       "      <td>8</td>\n",
       "    </tr>\n",
       "    <tr>\n",
       "      <th>118</th>\n",
       "      <td>1050560</td>\n",
       "      <td>0</td>\n",
       "      <td>0</td>\n",
       "      <td>1</td>\n",
       "      <td>23</td>\n",
       "      <td>0</td>\n",
       "      <td>35</td>\n",
       "      <td>1</td>\n",
       "      <td>1</td>\n",
       "      <td>0</td>\n",
       "      <td>...</td>\n",
       "      <td>0</td>\n",
       "      <td>0</td>\n",
       "      <td>0</td>\n",
       "      <td>1</td>\n",
       "      <td>0</td>\n",
       "      <td>1</td>\n",
       "      <td>8</td>\n",
       "      <td>-3</td>\n",
       "      <td>10</td>\n",
       "      <td>8</td>\n",
       "    </tr>\n",
       "    <tr>\n",
       "      <th>148</th>\n",
       "      <td>1050548</td>\n",
       "      <td>0</td>\n",
       "      <td>0</td>\n",
       "      <td>0</td>\n",
       "      <td>27</td>\n",
       "      <td>0</td>\n",
       "      <td>35</td>\n",
       "      <td>1</td>\n",
       "      <td>1</td>\n",
       "      <td>0</td>\n",
       "      <td>...</td>\n",
       "      <td>0</td>\n",
       "      <td>0</td>\n",
       "      <td>1</td>\n",
       "      <td>1</td>\n",
       "      <td>0</td>\n",
       "      <td>1</td>\n",
       "      <td>8</td>\n",
       "      <td>-3</td>\n",
       "      <td>10</td>\n",
       "      <td>8</td>\n",
       "    </tr>\n",
       "    <tr>\n",
       "      <th>154</th>\n",
       "      <td>1050874</td>\n",
       "      <td>0</td>\n",
       "      <td>0</td>\n",
       "      <td>1</td>\n",
       "      <td>27</td>\n",
       "      <td>0</td>\n",
       "      <td>35</td>\n",
       "      <td>1</td>\n",
       "      <td>1</td>\n",
       "      <td>0</td>\n",
       "      <td>...</td>\n",
       "      <td>0</td>\n",
       "      <td>0</td>\n",
       "      <td>0</td>\n",
       "      <td>1</td>\n",
       "      <td>0</td>\n",
       "      <td>1</td>\n",
       "      <td>8</td>\n",
       "      <td>-3</td>\n",
       "      <td>10</td>\n",
       "      <td>8</td>\n",
       "    </tr>\n",
       "    <tr>\n",
       "      <th>222</th>\n",
       "      <td>1050919</td>\n",
       "      <td>0</td>\n",
       "      <td>0</td>\n",
       "      <td>1</td>\n",
       "      <td>24</td>\n",
       "      <td>0</td>\n",
       "      <td>35</td>\n",
       "      <td>1</td>\n",
       "      <td>1</td>\n",
       "      <td>1</td>\n",
       "      <td>...</td>\n",
       "      <td>0</td>\n",
       "      <td>0</td>\n",
       "      <td>0</td>\n",
       "      <td>1</td>\n",
       "      <td>0</td>\n",
       "      <td>1</td>\n",
       "      <td>8</td>\n",
       "      <td>-3</td>\n",
       "      <td>10</td>\n",
       "      <td>8</td>\n",
       "    </tr>\n",
       "  </tbody>\n",
       "</table>\n",
       "<p>5 rows × 51 columns</p>\n",
       "</div>"
      ],
      "text/plain": [
       "     ncodpers  ind_empleado  pais_residencia  sexo  age  ind_nuevo  \\\n",
       "108   1050499             0                0     1   23          0   \n",
       "118   1050560             0                0     1   23          0   \n",
       "148   1050548             0                0     0   27          0   \n",
       "154   1050874             0                0     1   27          0   \n",
       "222   1050919             0                0     1   24          0   \n",
       "\n",
       "     antiguedad  indrel  indrel_1mes  tiprel_1mes          ...           \\\n",
       "108          35       1            1            1          ...            \n",
       "118          35       1            1            0          ...            \n",
       "148          35       1            1            0          ...            \n",
       "154          35       1            1            0          ...            \n",
       "222          35       1            1            1          ...            \n",
       "\n",
       "     ind_nomina_ult1  ind_nom_pens_ult1  ind_recibo_ult1  fecha_dato_month  \\\n",
       "108                0                  0                0                 1   \n",
       "118                0                  0                0                 1   \n",
       "148                0                  0                1                 1   \n",
       "154                0                  0                0                 1   \n",
       "222                0                  0                0                 1   \n",
       "\n",
       "     fecha_dato_year  month_int  fecha_alta_month  fecha_alta_year  \\\n",
       "108                0          1                 8               -3   \n",
       "118                0          1                 8               -3   \n",
       "148                0          1                 8               -3   \n",
       "154                0          1                 8               -3   \n",
       "222                0          1                 8               -3   \n",
       "\n",
       "     fecha_alta_day  fecha_alta_month_int  \n",
       "108              10                     8  \n",
       "118              10                     8  \n",
       "148              10                     8  \n",
       "154              10                     8  \n",
       "222              10                     8  \n",
       "\n",
       "[5 rows x 51 columns]"
      ]
     },
     "execution_count": 3,
     "metadata": {},
     "output_type": "execute_result"
    }
   ],
   "source": [
    "train_df.head()"
   ]
  },
  {
   "cell_type": "code",
   "execution_count": 4,
   "metadata": {
    "collapsed": false,
    "scrolled": true
   },
   "outputs": [
    {
     "data": {
      "text/plain": [
       "Index([u'ncodpers', u'ind_empleado', u'pais_residencia', u'sexo', u'age',\n",
       "       u'ind_nuevo', u'antiguedad', u'indrel', u'indrel_1mes', u'tiprel_1mes',\n",
       "       u'indresi', u'indext', u'conyuemp', u'canal_entrada', u'indfall',\n",
       "       u'tipodom', u'cod_prov', u'ind_actividad_cliente', u'renta',\n",
       "       u'segmento', u'ind_ahor_fin_ult1', u'ind_aval_fin_ult1',\n",
       "       u'ind_cco_fin_ult1', u'ind_cder_fin_ult1', u'ind_cno_fin_ult1',\n",
       "       u'ind_ctju_fin_ult1', u'ind_ctma_fin_ult1', u'ind_ctop_fin_ult1',\n",
       "       u'ind_ctpp_fin_ult1', u'ind_deco_fin_ult1', u'ind_deme_fin_ult1',\n",
       "       u'ind_dela_fin_ult1', u'ind_ecue_fin_ult1', u'ind_fond_fin_ult1',\n",
       "       u'ind_hip_fin_ult1', u'ind_plan_fin_ult1', u'ind_pres_fin_ult1',\n",
       "       u'ind_reca_fin_ult1', u'ind_tjcr_fin_ult1', u'ind_valo_fin_ult1',\n",
       "       u'ind_viv_fin_ult1', u'ind_nomina_ult1', u'ind_nom_pens_ult1',\n",
       "       u'ind_recibo_ult1', u'fecha_dato_month', u'fecha_dato_year',\n",
       "       u'month_int', u'fecha_alta_month', u'fecha_alta_year',\n",
       "       u'fecha_alta_day', u'fecha_alta_month_int'],\n",
       "      dtype='object')"
      ]
     },
     "execution_count": 4,
     "metadata": {},
     "output_type": "execute_result"
    }
   ],
   "source": [
    "train_df.columns"
   ]
  },
  {
   "cell_type": "markdown",
   "metadata": {},
   "source": [
    "## Data Cleaning"
   ]
  },
  {
   "cell_type": "markdown",
   "metadata": {},
   "source": [
    "### ind_actividad_cliente\n",
    "Activity index (1, active customer; 0, inactive customer)  \n",
    "should be conducted at the very fist step"
   ]
  },
  {
   "cell_type": "code",
   "execution_count": 5,
   "metadata": {
    "collapsed": false
   },
   "outputs": [
    {
     "data": {
      "text/plain": [
       " 0    47107\n",
       " 1    45466\n",
       "-1      334\n",
       "Name: ind_actividad_cliente, dtype: int64"
      ]
     },
     "execution_count": 5,
     "metadata": {},
     "output_type": "execute_result"
    }
   ],
   "source": [
    "train_df.ind_actividad_cliente.value_counts()"
   ]
  },
  {
   "cell_type": "code",
   "execution_count": 6,
   "metadata": {
    "collapsed": false
   },
   "outputs": [
    {
     "data": {
      "text/plain": [
       "334"
      ]
     },
     "execution_count": 6,
     "metadata": {},
     "output_type": "execute_result"
    }
   ],
   "source": [
    "train_df.ind_actividad_cliente.isin([-1]).sum()"
   ]
  },
  {
   "cell_type": "markdown",
   "metadata": {},
   "source": [
    "these entities should be excluded from the model."
   ]
  },
  {
   "cell_type": "code",
   "execution_count": 7,
   "metadata": {
    "collapsed": false
   },
   "outputs": [],
   "source": [
    "train_df = train_df[train_df.ind_actividad_cliente != -1]"
   ]
  },
  {
   "cell_type": "markdown",
   "metadata": {
    "collapsed": true
   },
   "source": [
    "### ind_nuevo\n",
    " which indicates whether a customer is new or not"
   ]
  },
  {
   "cell_type": "code",
   "execution_count": 8,
   "metadata": {
    "collapsed": false
   },
   "outputs": [
    {
     "data": {
      "text/plain": [
       "array([0, 1], dtype=int64)"
      ]
     },
     "execution_count": 8,
     "metadata": {},
     "output_type": "execute_result"
    }
   ],
   "source": [
    "train_df[\"ind_nuevo\"].unique()"
   ]
  },
  {
   "cell_type": "code",
   "execution_count": 9,
   "metadata": {
    "collapsed": false
   },
   "outputs": [
    {
     "data": {
      "text/plain": [
       "0"
      ]
     },
     "execution_count": 9,
     "metadata": {},
     "output_type": "execute_result"
    }
   ],
   "source": [
    "train_df[\"ind_nuevo\"].isin([-1]).sum()"
   ]
  },
  {
   "cell_type": "markdown",
   "metadata": {},
   "source": [
    "Let's see if we can fill in missing values by looking how many months of history these customers have."
   ]
  },
  {
   "cell_type": "code",
   "execution_count": 10,
   "metadata": {
    "collapsed": false
   },
   "outputs": [
    {
     "data": {
      "text/plain": [
       "nan"
      ]
     },
     "execution_count": 10,
     "metadata": {},
     "output_type": "execute_result"
    }
   ],
   "source": [
    "months_active = train_df.loc[train_df[\"ind_nuevo\"].isin([-1]),:].groupby(\"ncodpers\", sort=False).size()\n",
    "months_active.max()"
   ]
  },
  {
   "cell_type": "markdown",
   "metadata": {},
   "source": [
    "Looks like these are all new customers, so replace accordingly."
   ]
  },
  {
   "cell_type": "code",
   "execution_count": 11,
   "metadata": {
    "collapsed": false
   },
   "outputs": [],
   "source": [
    "train_df.ix[train_df[\"ind_nuevo\"].isin([-1]),\"ind_nuevo\"] = 1"
   ]
  },
  {
   "cell_type": "markdown",
   "metadata": {},
   "source": [
    "### antiguedad\n",
    "Customer seniority (in months)"
   ]
  },
  {
   "cell_type": "code",
   "execution_count": 12,
   "metadata": {
    "collapsed": false,
    "scrolled": true
   },
   "outputs": [
    {
     "data": {
      "text/plain": [
       "array([ 35,  34,  36,  38,  12,  39,  26,  37,  20,  24,  32,  31,  28,\n",
       "        29,   6,  27,  30,  21,  33,  47,  19,  46,  22,  45,  10,  57,\n",
       "        58,  56,  59,  54,  53,  55,  62,  61,  63,  14,  60,  16,   8,\n",
       "        48,  50,  51,  52,  49,  43,  44,  41,  40,  42,  18,  11,   9,\n",
       "        13,  15,   7,   4,  23,  25,  17,   2, 165,  93, 164, 160, 166,\n",
       "       167, 162, 158, 168, 147, 135, 107, 118, 157, 184, 130, 163, 126,\n",
       "       154, 153,  99, 133, 143, 119, 139, 201,  95, 161, 155, 150, 172,\n",
       "       170,  72, 124, 141, 171,  70,  89, 159, 174, 156, 173, 169, 145,\n",
       "       112,  80,  92, 137, 179, 151, 148, 102, 152, 134, 131, 101, 138,\n",
       "       117, 109,  82, 149,  87,  97, 114, 103,  73, 121, 113,  85, 123,\n",
       "       111, 136, 128, 209, 193, 210, 202, 191, 178, 228, 211, 208, 206,\n",
       "       207, 196, 146, 200, 186, 213, 212,  84,  81, 215, 216, 214, 198,\n",
       "       183, 189, 190, 199, 195, 204, 205, 203, 194, 232, 235, 234,  77,\n",
       "       230, 226, 229, 231, 108, 129, 187, 241, 240, 239, 238, 243, 242,\n",
       "       244, 245, 246, 110, 220, 197, 237,  96, 236, 221, 225, 219, 185,\n",
       "       217, 218, 120, 122, 224, 227, 100, 222, 105, 223, 125, 180, 181,\n",
       "       182, 144, 176, 177, 116, 175,  83, 233, 192,  94, 142, 188,  98,\n",
       "        64,  65,  90,  91, 106,  75,  86, 104,  78,  71,  74,  76,  79,\n",
       "        66,  69,  68,  67,  88, 132, 127, 140, 115,   5,   3,   1,   0,\n",
       "       247, 248, 249], dtype=int64)"
      ]
     },
     "execution_count": 12,
     "metadata": {},
     "output_type": "execute_result"
    }
   ],
   "source": [
    "train_df[\"antiguedad\"].unique()"
   ]
  },
  {
   "cell_type": "code",
   "execution_count": 13,
   "metadata": {
    "collapsed": false
   },
   "outputs": [
    {
     "data": {
      "text/plain": [
       "0"
      ]
     },
     "execution_count": 13,
     "metadata": {},
     "output_type": "execute_result"
    }
   ],
   "source": [
    "train_df[\"antiguedad\"].isin([-1]).sum()"
   ]
  },
  {
   "cell_type": "markdown",
   "metadata": {},
   "source": [
    "same as ind_nuevo. Let's see if those are same customers."
   ]
  },
  {
   "cell_type": "code",
   "execution_count": 14,
   "metadata": {
    "collapsed": false
   },
   "outputs": [
    {
     "data": {
      "text/plain": [
       "count    0.0\n",
       "mean     NaN\n",
       "std      NaN\n",
       "min      NaN\n",
       "25%      NaN\n",
       "50%      NaN\n",
       "75%      NaN\n",
       "max      NaN\n",
       "Name: ind_nuevo, dtype: float64"
      ]
     },
     "execution_count": 14,
     "metadata": {},
     "output_type": "execute_result"
    }
   ],
   "source": [
    "train_df.ix[train_df[\"antiguedad\"].isin([-1]),\"ind_nuevo\"].describe()"
   ]
  },
  {
   "cell_type": "markdown",
   "metadata": {},
   "source": [
    "same customers. Let's give them minimum seniority."
   ]
  },
  {
   "cell_type": "code",
   "execution_count": 15,
   "metadata": {
    "collapsed": false
   },
   "outputs": [],
   "source": [
    "train_df.ix[train_df[\"antiguedad\"].isin([-1]),\"antiguedad\"] = train_df[\"antiguedad\"].min()"
   ]
  },
  {
   "cell_type": "markdown",
   "metadata": {},
   "source": [
    "### fetcha_alta\n",
    "Same entries don't have the date they joined the company.\n",
    "- missing values are converted as below when data are squeezed  \n",
    "DF['fecha_alta'] = DF['fecha_alta'].map(lambda x: '2020-00-00' if x == -1 else x)  \n",
    "DF['fecha_alta_month'] = DF['fecha_alta'].map(lambda x: int(x[5:7])).astype(np.int8)  \n",
    "DF['fecha_alta_year'] = DF['fecha_alta'].map(lambda x: int(x[0:4]) - 2015).astype(np.int8)  \n",
    "DF['fecha_alta_day'] = DF['fecha_alta'].map(lambda x: int(x[8:10])).astype(np.int8)  \n",
    "DF['fecha_alta_motnh_int'] = (DF['fecha_alta_month'] + 12 * DF['fecha_dato_year']).astype(np.int8)\n"
   ]
  },
  {
   "cell_type": "code",
   "execution_count": 16,
   "metadata": {
    "collapsed": false
   },
   "outputs": [
    {
     "data": {
      "text/plain": [
       "0"
      ]
     },
     "execution_count": 16,
     "metadata": {},
     "output_type": "execute_result"
    }
   ],
   "source": [
    "train_df[\"fecha_alta_month\"].isin([00]).sum()"
   ]
  },
  {
   "cell_type": "markdown",
   "metadata": {},
   "source": [
    "filling missing values with medians respectively."
   ]
  },
  {
   "cell_type": "code",
   "execution_count": 17,
   "metadata": {
    "collapsed": false
   },
   "outputs": [],
   "source": [
    "# fecha_alta_month\n",
    "monthes = train_df.ix[:,\"fecha_alta_month\"].sort_values().reset_index()\n",
    "median_month = int(np.median(monthes))\n",
    "train_df.ix[train_df.fecha_alta_month.isin([-1]), \"fecha_alta_month\"] = monthes.ix[median_month, \"fecha_alta_month\"]\n",
    "# fecha_alta_day\n",
    "days = train_df.ix[:,\"fecha_alta_day\"].sort_values().reset_index()\n",
    "median_day = int(np.median(days))\n",
    "train_df.ix[train_df.fecha_alta_day.isin([-1]), \"fecha_alta_day\"] = days.ix[median_day, \"fecha_alta_day\"]\n",
    "# fecha_alta_year\n",
    "years = train_df.ix[:,\"fecha_alta_year\"].sort_values().reset_index()\n",
    "median_year = int(np.median(years))\n",
    "train_df.ix[train_df.fecha_alta_year.isin([-1]), \"fecha_alta_year\"] = years.ix[median_year, \"fecha_alta_year\"]\n",
    "# fecha_alta_month_int\n",
    "month_int = train_df.ix[:,\"fecha_alta_month_int\"].sort_values().reset_index()\n",
    "median_month_int = int(np.median(month_int))\n",
    "train_df.ix[train_df.fecha_alta_month_int.isin([-1]), \"fecha_alta_month_int\"] = month_int.ix[median_month_int, \"fecha_alta_month_int\"]"
   ]
  },
  {
   "cell_type": "markdown",
   "metadata": {},
   "source": [
    "### indrel\n",
    "1 (First/Primary), 99 (Primary customer during the month but not at the end of the month)"
   ]
  },
  {
   "cell_type": "code",
   "execution_count": 18,
   "metadata": {
    "collapsed": false
   },
   "outputs": [
    {
     "data": {
      "text/plain": [
       "array([1, 2], dtype=int64)"
      ]
     },
     "execution_count": 18,
     "metadata": {},
     "output_type": "execute_result"
    }
   ],
   "source": [
    "train_df[\"indrel\"].unique()"
   ]
  },
  {
   "cell_type": "code",
   "execution_count": 19,
   "metadata": {
    "collapsed": false
   },
   "outputs": [
    {
     "data": {
      "text/plain": [
       "0"
      ]
     },
     "execution_count": 19,
     "metadata": {},
     "output_type": "execute_result"
    }
   ],
   "source": [
    "train_df[\"indrel\"].isin([-1]).sum()"
   ]
  },
  {
   "cell_type": "code",
   "execution_count": 20,
   "metadata": {
    "collapsed": false
   },
   "outputs": [
    {
     "data": {
      "text/plain": [
       "1    92442\n",
       "2      131\n",
       "Name: indrel, dtype: int64"
      ]
     },
     "execution_count": 20,
     "metadata": {},
     "output_type": "execute_result"
    }
   ],
   "source": [
    "train_df[\"indrel\"].value_counts()"
   ]
  },
  {
   "cell_type": "markdown",
   "metadata": {},
   "source": [
    "filling with the most frequent values"
   ]
  },
  {
   "cell_type": "code",
   "execution_count": 21,
   "metadata": {
    "collapsed": true
   },
   "outputs": [],
   "source": [
    "train_df.ix[train_df.indrel.isin([-1]),\"indrel\"] = 1"
   ]
  },
  {
   "cell_type": "markdown",
   "metadata": {},
   "source": [
    "### tipodom\n",
    "Addres type. 1, primary address"
   ]
  },
  {
   "cell_type": "code",
   "execution_count": 22,
   "metadata": {
    "collapsed": false
   },
   "outputs": [
    {
     "data": {
      "text/plain": [
       "1    92573\n",
       "Name: tipodom, dtype: int64"
      ]
     },
     "execution_count": 22,
     "metadata": {},
     "output_type": "execute_result"
    }
   ],
   "source": [
    "train_df[\"tipodom\"].value_counts()"
   ]
  },
  {
   "cell_type": "markdown",
   "metadata": {},
   "source": [
    "doens't seem to be meaningful. so drop it."
   ]
  },
  {
   "cell_type": "code",
   "execution_count": 23,
   "metadata": {
    "collapsed": false
   },
   "outputs": [],
   "source": [
    "train_df.drop([\"tipodom\"],axis=1,inplace=True)"
   ]
  },
  {
   "cell_type": "markdown",
   "metadata": {},
   "source": [
    "### age"
   ]
  },
  {
   "cell_type": "code",
   "execution_count": 24,
   "metadata": {
    "collapsed": false,
    "scrolled": true
   },
   "outputs": [
    {
     "data": {
      "image/png": "[encoded data removed]",
      "text/plain": [
       "<matplotlib.figure.Figure at 0x9eba4fd0>"
      ]
     },
     "metadata": {},
     "output_type": "display_data"
    }
   ],
   "source": [
    "with sns.plotting_context(\"notebook\",font_scale=1.5):\n",
    "    sns.set_style('darkgrid')\n",
    "    sns.distplot(train_df[\"age\"], bins=80, kde=False)\n",
    "    sns.plt.title(\"age Distribution\")\n",
    "    plt.ylabel(\"Count\")"
   ]
  },
  {
   "cell_type": "code",
   "execution_count": 25,
   "metadata": {
    "collapsed": false
   },
   "outputs": [
    {
     "data": {
      "text/plain": [
       "0"
      ]
     },
     "execution_count": 25,
     "metadata": {},
     "output_type": "execute_result"
    }
   ],
   "source": [
    "train_df.age[train_df.age==-2].count()"
   ]
  },
  {
   "cell_type": "markdown",
   "metadata": {},
   "source": [
    "In addition to NA, there are people with very small and very high ages. It's also interesting that the distribution is bimodal.   \n",
    "There are a large number of university aged students, and then another peak around middle-age.  \n",
    "Let's separate the distribution and move the outliers to the mean of the closest one."
   ]
  },
  {
   "cell_type": "code",
   "execution_count": 26,
   "metadata": {
    "collapsed": false
   },
   "outputs": [],
   "source": [
    "train_df.ix[(train_df.age > -2)&(train_df.age < 18),\"age\"]  = train_df.ix[(train_df.age >= 18) & (train_df.age <= 30),\"age\"].mean()\n",
    "train_df.ix[train_df.age > 100,\"age\"] = train_df.ix[(train_df.age >= 30) & (train_df.age <= 100),\"age\"].mean()\n",
    "train_df.ix[train_df[\"age\"]==-2,\"age\"] = train_df[\"age\"].mean()\n",
    "train_df[\"age\"] = train_df[\"age\"].astype(int)"
   ]
  },
  {
   "cell_type": "code",
   "execution_count": 27,
   "metadata": {
    "collapsed": false,
    "scrolled": true
   },
   "outputs": [
    {
     "data": {
      "image/png": "[encoded data removed]",
      "text/plain": [
       "<matplotlib.figure.Figure at 0x9b3e390>"
      ]
     },
     "metadata": {},
     "output_type": "display_data"
    }
   ],
   "source": [
    "with sns.plotting_context(\"paper\",font_scale=1.5):\n",
    "    sns.set_style('darkgrid')\n",
    "    sns.distplot(train_df[\"age\"], bins=80, kde=False)\n",
    "    sns.plt.title(\"age Distribution\")\n",
    "    plt.ylabel(\"Count\")"
   ]
  },
  {
   "cell_type": "markdown",
   "metadata": {},
   "source": [
    "### cod_prov\n",
    "Province code (customer's address)"
   ]
  },
  {
   "cell_type": "code",
   "execution_count": 28,
   "metadata": {
    "collapsed": false
   },
   "outputs": [
    {
     "data": {
      "text/plain": [
       "448"
      ]
     },
     "execution_count": 28,
     "metadata": {},
     "output_type": "execute_result"
    }
   ],
   "source": [
    "train_df.cod_prov.isin([-1]).sum()"
   ]
  },
  {
   "cell_type": "code",
   "execution_count": 29,
   "metadata": {
    "collapsed": false
   },
   "outputs": [],
   "source": [
    "train_df.ix[train_df.cod_prov.isin([-1]),\"cod_prov\"] = train_df.cod_prov.median()"
   ]
  },
  {
   "cell_type": "markdown",
   "metadata": {},
   "source": [
    "### renta\n",
    ": gross income"
   ]
  },
  {
   "cell_type": "code",
   "execution_count": 30,
   "metadata": {
    "collapsed": false
   },
   "outputs": [
    {
     "data": {
      "text/plain": [
       "16495"
      ]
     },
     "execution_count": 30,
     "metadata": {},
     "output_type": "execute_result"
    }
   ],
   "source": [
    "train_df.renta[train_df.renta==-1].count()"
   ]
  },
  {
   "cell_type": "markdown",
   "metadata": {},
   "source": [
    "Here is a feature that is missing a lot of values. Filling missing values with a median might not be accurate.  \n",
    "let's take a look at the median income by region and age"
   ]
  },
  {
   "cell_type": "code",
   "execution_count": 31,
   "metadata": {
    "collapsed": false
   },
   "outputs": [
    {
     "data": {
      "text/html": [
       "<div>\n",
       "<table border=\"1\" class=\"dataframe\">\n",
       "  <thead>\n",
       "    <tr>\n",
       "      <th></th>\n",
       "      <th>cod_prov</th>\n",
       "      <th>renta</th>\n",
       "    </tr>\n",
       "    <tr>\n",
       "      <th></th>\n",
       "      <th></th>\n",
       "      <th>MedianIncome</th>\n",
       "    </tr>\n",
       "  </thead>\n",
       "  <tbody>\n",
       "    <tr>\n",
       "      <th>0</th>\n",
       "      <td>27.0</td>\n",
       "      <td>58636.828125</td>\n",
       "    </tr>\n",
       "    <tr>\n",
       "      <th>1</th>\n",
       "      <td>49.0</td>\n",
       "      <td>59061.781250</td>\n",
       "    </tr>\n",
       "    <tr>\n",
       "      <th>2</th>\n",
       "      <td>25.0</td>\n",
       "      <td>61603.980469</td>\n",
       "    </tr>\n",
       "    <tr>\n",
       "      <th>3</th>\n",
       "      <td>45.0</td>\n",
       "      <td>62196.300781</td>\n",
       "    </tr>\n",
       "    <tr>\n",
       "      <th>4</th>\n",
       "      <td>21.0</td>\n",
       "      <td>63831.601562</td>\n",
       "    </tr>\n",
       "  </tbody>\n",
       "</table>\n",
       "</div>"
      ],
      "text/plain": [
       "  cod_prov         renta\n",
       "            MedianIncome\n",
       "0     27.0  58636.828125\n",
       "1     49.0  59061.781250\n",
       "2     25.0  61603.980469\n",
       "3     45.0  62196.300781\n",
       "4     21.0  63831.601562"
      ]
     },
     "execution_count": 31,
     "metadata": {},
     "output_type": "execute_result"
    }
   ],
   "source": [
    "incomes = train_df.ix[train_df.renta!=-1,:].groupby(\"cod_prov\").agg({\"renta\":{\"MedianIncome\":np.median}})\n",
    "incomes.sort_values(by=(\"renta\",\"MedianIncome\"),inplace=True)\n",
    "incomes.reset_index(inplace=True)\n",
    "incomes.cod_prov = incomes.cod_prov.astype(\"category\", categories=[i for i in train_df.cod_prov.unique()],ordered=False)\n",
    "incomes.head()"
   ]
  },
  {
   "cell_type": "code",
   "execution_count": 32,
   "metadata": {
    "collapsed": false
   },
   "outputs": [
    {
     "data": {
      "text/plain": [
       "(40000, 180000)"
      ]
     },
     "execution_count": 32,
     "metadata": {},
     "output_type": "execute_result"
    },
    {
     "data": {
      "image/png": "[encoded data removed]",
      "text/plain": [
       "<matplotlib.figure.Figure at 0x353930b8>"
      ]
     },
     "metadata": {},
     "output_type": "display_data"
    }
   ],
   "source": [
    "with sns.plotting_context(\"paper\"):\n",
    "    sns.set_style(\"darkgrid\")\n",
    "    sns.factorplot(x=\"cod_prov\", y=(\"renta\",\"MedianIncome\"), data=incomes, size=6, linestyles=\"None\", order=(i for i in incomes.cod_prov))\n",
    "\n",
    "plt.title(\"Income Distribution by City\",size=20)\n",
    "\n",
    "plt.xticks(rotation=90)\n",
    "plt.xlabel(\"City Code\",size=15)\n",
    "\n",
    "plt.ylabel(\"Median Income\",size=15)\n",
    "plt.ylim(40000,180000)"
   ]
  },
  {
   "cell_type": "markdown",
   "metadata": {},
   "source": [
    "There's a lot of variation, so I think assigning missing incomes by providence is a good idea. First group the data by city, and reduce to get the median. This intermediate data frame is joined by the original city names to expand the aggregated median incomes, ordered so that there is a 1-to-1 mapping between the rows, and finally the missing values are replaced."
   ]
  },
  {
   "cell_type": "code",
   "execution_count": 33,
   "metadata": {
    "collapsed": false
   },
   "outputs": [],
   "source": [
    "grouped = train_df.groupby(\"cod_prov\").agg({\"renta\":lambda x: x.median()}).reset_index()\n",
    "new_incomes = pd.merge(train_df,grouped,how=\"inner\",on=\"cod_prov\").ix[:, [\"cod_prov\",\"renta_y\"]]\n",
    "new_incomes = new_incomes.rename(columns={\"renta_y\":\"renta\"}).sort_values(\"renta\").sort_values(\"cod_prov\")\n",
    "train_df.sort_values(\"cod_prov\",inplace=True)\n",
    "train_df = train_df.reset_index()\n",
    "new_incomes = new_incomes.reset_index()"
   ]
  },
  {
   "cell_type": "code",
   "execution_count": 36,
   "metadata": {
    "collapsed": false
   },
   "outputs": [],
   "source": [
    "train_df.ix[train_df.renta.isin([-1]),\"renta\"] = new_incomes.ix[train_df.renta.isin([-1]),\"renta\"].reset_index()\n",
    "train_df.ix[train_df.renta.isin([-1]),\"renta\"] = train_df.ix[train_df.renta.isin([not -1]),\"renta\"].median()"
   ]
  },
  {
   "cell_type": "markdown",
   "metadata": {},
   "source": [
    "### left features\n",
    "There are many categorical features left to be cleaned. First, let's take a look at them."
   ]
  },
  {
   "cell_type": "code",
   "execution_count": 37,
   "metadata": {
    "collapsed": false,
    "scrolled": true
   },
   "outputs": [
    {
     "data": {
      "text/plain": [
       "index                    False\n",
       "ncodpers                 False\n",
       "ind_empleado             False\n",
       "pais_residencia          False\n",
       "sexo                     False\n",
       "age                      False\n",
       "ind_nuevo                False\n",
       "antiguedad               False\n",
       "indrel                   False\n",
       "indrel_1mes               True\n",
       "tiprel_1mes               True\n",
       "indresi                  False\n",
       "indext                   False\n",
       "conyuemp                  True\n",
       "canal_entrada            False\n",
       "indfall                  False\n",
       "cod_prov                 False\n",
       "ind_actividad_cliente    False\n",
       "renta                    False\n",
       "segmento                  True\n",
       "ind_ahor_fin_ult1        False\n",
       "ind_aval_fin_ult1        False\n",
       "ind_cco_fin_ult1         False\n",
       "ind_cder_fin_ult1        False\n",
       "ind_cno_fin_ult1         False\n",
       "ind_ctju_fin_ult1        False\n",
       "ind_ctma_fin_ult1        False\n",
       "ind_ctop_fin_ult1        False\n",
       "ind_ctpp_fin_ult1        False\n",
       "ind_deco_fin_ult1        False\n",
       "ind_deme_fin_ult1        False\n",
       "ind_dela_fin_ult1        False\n",
       "ind_ecue_fin_ult1        False\n",
       "ind_fond_fin_ult1        False\n",
       "ind_hip_fin_ult1         False\n",
       "ind_plan_fin_ult1        False\n",
       "ind_pres_fin_ult1        False\n",
       "ind_reca_fin_ult1        False\n",
       "ind_tjcr_fin_ult1        False\n",
       "ind_valo_fin_ult1        False\n",
       "ind_viv_fin_ult1         False\n",
       "ind_nomina_ult1           True\n",
       "ind_nom_pens_ult1         True\n",
       "ind_recibo_ult1          False\n",
       "fecha_dato_month         False\n",
       "fecha_dato_year          False\n",
       "month_int                False\n",
       "fecha_alta_month         False\n",
       "fecha_alta_year          False\n",
       "fecha_alta_day           False\n",
       "fecha_alta_month_int     False\n",
       "dtype: bool"
      ]
     },
     "execution_count": 37,
     "metadata": {},
     "output_type": "execute_result"
    }
   ],
   "source": [
    "train_df.isin([-1]).any()"
   ]
  },
  {
   "cell_type": "code",
   "execution_count": 44,
   "metadata": {
    "collapsed": false
   },
   "outputs": [
    {
     "name": "stdout",
     "output_type": "stream",
     "text": [
      "Unique values for indrel_1mes:\n",
      "[ 1 -1  3  2 -2  4]\n",
      "\n",
      "Unique values for tiprel_1mes:\n",
      "[ 0  1 -1  2  4]\n",
      "\n",
      "Unique values for conyuemp:\n",
      "[-1  0]\n",
      "\n",
      "Unique values for segmento:\n",
      "[ 2  1  3 -1]\n",
      "\n",
      "Unique values for ind_nomina_ult1:\n",
      "[ 0  1 -1]\n",
      "\n",
      "Unique values for ind_nom_pens_ult1:\n",
      "[ 0  1 -1]\n",
      "\n"
     ]
    }
   ],
   "source": [
    "missing_features = [\"indrel_1mes\", \"tiprel_1mes\", \"conyuemp\", \"segmento\", \"ind_nomina_ult1\", \"ind_nom_pens_ult1\"]\n",
    "for col in missing_features:\n",
    "    print(\"Unique values for {0}:\\n{1}\\n\".format(col,train_df[col].unique()))"
   ]
  },
  {
   "cell_type": "markdown",
   "metadata": {},
   "source": [
    "conyuemp has one type of values to drop it."
   ]
  },
  {
   "cell_type": "code",
   "execution_count": 45,
   "metadata": {
    "collapsed": false
   },
   "outputs": [],
   "source": [
    "train_df.drop([\"conyuemp\"], axis=1, inplace=True)"
   ]
  },
  {
   "cell_type": "markdown",
   "metadata": {},
   "source": [
    "### indrel_1mes"
   ]
  },
  {
   "cell_type": "code",
   "execution_count": 46,
   "metadata": {
    "collapsed": false
   },
   "outputs": [
    {
     "data": {
      "text/plain": [
       " 1    91582\n",
       "-1      970\n",
       " 3       13\n",
       " 2        4\n",
       "-2        3\n",
       " 4        1\n",
       "Name: indrel_1mes, dtype: int64"
      ]
     },
     "execution_count": 46,
     "metadata": {},
     "output_type": "execute_result"
    }
   ],
   "source": [
    "train_df[\"indrel_1mes\"].value_counts()"
   ]
  },
  {
   "cell_type": "markdown",
   "metadata": {},
   "source": [
    "filling missing values with the most frequent value, which is 1."
   ]
  },
  {
   "cell_type": "code",
   "execution_count": 125,
   "metadata": {
    "collapsed": true
   },
   "outputs": [],
   "source": [
    "train_df.ix[train_df.indrel_1mes.isin([-1]), \"indrel_1mes\"] = 1"
   ]
  },
  {
   "cell_type": "markdown",
   "metadata": {},
   "source": [
    "### tiprel_1mes\n",
    "Customer relation type at the beginning of the month, 0 (active), 1 (inactive), 2 (former customer), 4 (Potential)"
   ]
  },
  {
   "cell_type": "code",
   "execution_count": 126,
   "metadata": {
    "collapsed": false
   },
   "outputs": [
    {
     "data": {
      "text/plain": [
       " 1    46995\n",
       " 0    44986\n",
       "-1      989\n",
       " 2       17\n",
       " 4        5\n",
       "Name: tiprel_1mes, dtype: int64"
      ]
     },
     "execution_count": 126,
     "metadata": {},
     "output_type": "execute_result"
    }
   ],
   "source": [
    "train_df[\"tiprel_1mes\"].value_counts()"
   ]
  },
  {
   "cell_type": "code",
   "execution_count": 128,
   "metadata": {
    "collapsed": true
   },
   "outputs": [],
   "source": [
    "train_df.ix[train_df.tiprel_1mes.isin([-1]), \"tiprel_1mes\"] = 0"
   ]
  },
  {
   "cell_type": "markdown",
   "metadata": {},
   "source": [
    "### segmento\n",
    "segmentation: 01 - VIP, 02 - Individuals 03 - college graduated"
   ]
  },
  {
   "cell_type": "code",
   "execution_count": 129,
   "metadata": {
    "collapsed": false
   },
   "outputs": [
    {
     "data": {
      "text/plain": [
       " 2    54719\n",
       " 3    32862\n",
       " 1     4257\n",
       "-1     1154\n",
       "Name: segmento, dtype: int64"
      ]
     },
     "execution_count": 129,
     "metadata": {},
     "output_type": "execute_result"
    }
   ],
   "source": [
    "train_df[\"segmento\"].value_counts()"
   ]
  },
  {
   "cell_type": "code",
   "execution_count": 134,
   "metadata": {
    "collapsed": false,
    "scrolled": true
   },
   "outputs": [],
   "source": [
    "train_df.ix[train_df.segmento.isin([-1]), \"segmento\"] = 2"
   ]
  },
  {
   "cell_type": "markdown",
   "metadata": {},
   "source": [
    "### ind_nomina_ult1, ind_nom_pens_ult1"
   ]
  },
  {
   "cell_type": "code",
   "execution_count": 138,
   "metadata": {
    "collapsed": false
   },
   "outputs": [
    {
     "data": {
      "text/plain": [
       " 0    87139\n",
       " 1     5850\n",
       "-1        3\n",
       "Name: ind_nomina_ult1, dtype: int64"
      ]
     },
     "execution_count": 138,
     "metadata": {},
     "output_type": "execute_result"
    }
   ],
   "source": [
    "train_df[\"ind_nomina_ult1\"].value_counts()"
   ]
  },
  {
   "cell_type": "code",
   "execution_count": 139,
   "metadata": {
    "collapsed": false
   },
   "outputs": [
    {
     "data": {
      "text/plain": [
       " 0    86627\n",
       " 1     6362\n",
       "-1        3\n",
       "Name: ind_nom_pens_ult1, dtype: int64"
      ]
     },
     "execution_count": 139,
     "metadata": {},
     "output_type": "execute_result"
    }
   ],
   "source": [
    "train_df[\"ind_nom_pens_ult1\"].value_counts()"
   ]
  },
  {
   "cell_type": "markdown",
   "metadata": {},
   "source": [
    "The numer of missing values is very small. just replace them with the most common value."
   ]
  },
  {
   "cell_type": "code",
   "execution_count": 146,
   "metadata": {
    "collapsed": false
   },
   "outputs": [],
   "source": [
    "train_df.loc[train_df.ind_nomina_ult1.isin([-1]), \"ind_nomina_ult1\"] = 0\n",
    "train_df.loc[train_df.ind_nom_pens_ult1.isin([-1]), \"ind_nom_pens_ult1\"] = 0"
   ]
  },
  {
   "cell_type": "code",
   "execution_count": 154,
   "metadata": {
    "collapsed": false
   },
   "outputs": [
    {
     "data": {
      "text/plain": [
       "0"
      ]
     },
     "execution_count": 154,
     "metadata": {},
     "output_type": "execute_result"
    }
   ],
   "source": [
    "train_df.isin([-1]).any().sum()"
   ]
  }
 ],
 "metadata": {
  "kernelspec": {
   "display_name": "Python 2",
   "language": "python",
   "name": "python2"
  },
  "language_info": {
   "codemirror_mode": {
    "name": "ipython",
    "version": 2
   },
   "file_extension": ".py",
   "mimetype": "text/x-python",
   "name": "python",
   "nbconvert_exporter": "python",
   "pygments_lexer": "ipython2",
   "version": "2.7.12"
  }
 },
 "nbformat": 4,
 "nbformat_minor": 0
}
