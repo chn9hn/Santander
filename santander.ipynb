{
 "cells": [
  {
   "cell_type": "code",
   "execution_count": 1,
   "metadata": {
    "collapsed": true
   },
   "outputs": [],
   "source": [
    "import os\n",
    "mingw_path = 'C:\\Program Files\\mingw-w64\\x86_64-6.2.0-posix-seh-rt_v5-rev1\\mingw64\\bin'\n",
    "os.environ['PATH'] = mingw_path + ';' + os.environ['PATH']"
   ]
  },
  {
   "cell_type": "code",
   "execution_count": 119,
   "metadata": {
    "collapsed": false
   },
   "outputs": [],
   "source": [
    "import numpy as np\n",
    "import pandas as pd\n",
    "from pandas import Series,DataFrame\n",
    "import seaborn as sns\n",
    "import matplotlib.pyplot as plt\n",
    "\n",
    "sns.set_style('darkgrid')\n",
    "plt.style.use('fivethirtyeight')\n",
    "%matplotlib inline\n",
    "\n",
    "from sklearn.ensemble import RandomForestClassifier\n",
    "from sklearn.feature_selection import SelectKBest\n",
    "import operator\n",
    "from sklearn.svm import SVC\n",
    "\n",
    "import xgboost as xgb\n",
    "from xgboost import XGBClassifier\n",
    "\n",
    "from sklearn.cross_validation import KFold, StratifiedKFold\n",
    "from sklearn.cross_validation import train_test_split\n",
    "\n",
    "# bagging\n",
    "from sklearn.tree import DecisionTreeClassifier\n",
    "from sklearn.ensemble import BaggingClassifier"
   ]
  },
  {
   "cell_type": "code",
   "execution_count": 3,
   "metadata": {
    "collapsed": false
   },
   "outputs": [
    {
     "name": "stderr",
     "output_type": "stream",
     "text": [
      "C:\\Users\\prill\\Anaconda2\\lib\\site-packages\\pandas\\core\\generic.py:2569: VisibleDeprecationWarning: using a non-integer number instead of an integer will result in an error in the future\n",
      "  locs = rs.choice(axis_length, size=n, replace=replace, p=weights)\n"
     ]
    }
   ],
   "source": [
    "limit_rows   = 7000000\n",
    "train_df = pd.read_csv(\"train_encoded.csv\", nrows=limit_rows)\n",
    "\n",
    "#reader = pd.read_csv('train_ver2.csv', chunksize=100000, header=0)\n",
    "#train_df = pd.concat([chunk for chunk in reader])\n",
    "\n",
    "unique_ids   = pd.Series(train_df[\"ncodpers\"].unique())\n",
    "limit_people = 1.2e4\n",
    "unique_id    = unique_ids.sample(n=limit_people)\n",
    "train_df     = train_df[train_df.ncodpers.isin(unique_id)]"
   ]
  },
  {
   "cell_type": "code",
   "execution_count": 4,
   "metadata": {
    "collapsed": false
   },
   "outputs": [
    {
     "data": {
      "text/html": [
       "<div>\n",
       "<table border=\"1\" class=\"dataframe\">\n",
       "  <thead>\n",
       "    <tr style=\"text-align: right;\">\n",
       "      <th></th>\n",
       "      <th>ncodpers</th>\n",
       "      <th>ind_empleado</th>\n",
       "      <th>pais_residencia</th>\n",
       "      <th>sexo</th>\n",
       "      <th>age</th>\n",
       "      <th>ind_nuevo</th>\n",
       "      <th>antiguedad</th>\n",
       "      <th>indrel</th>\n",
       "      <th>indrel_1mes</th>\n",
       "      <th>tiprel_1mes</th>\n",
       "      <th>...</th>\n",
       "      <th>ind_nomina_ult1</th>\n",
       "      <th>ind_nom_pens_ult1</th>\n",
       "      <th>ind_recibo_ult1</th>\n",
       "      <th>fecha_dato_month</th>\n",
       "      <th>fecha_dato_year</th>\n",
       "      <th>month_int</th>\n",
       "      <th>fecha_alta_month</th>\n",
       "      <th>fecha_alta_year</th>\n",
       "      <th>fecha_alta_day</th>\n",
       "      <th>fecha_alta_month_int</th>\n",
       "    </tr>\n",
       "  </thead>\n",
       "  <tbody>\n",
       "    <tr>\n",
       "      <th>83</th>\n",
       "      <td>1050514</td>\n",
       "      <td>0</td>\n",
       "      <td>0</td>\n",
       "      <td>1</td>\n",
       "      <td>28</td>\n",
       "      <td>0</td>\n",
       "      <td>35</td>\n",
       "      <td>1</td>\n",
       "      <td>1</td>\n",
       "      <td>1</td>\n",
       "      <td>...</td>\n",
       "      <td>0</td>\n",
       "      <td>0</td>\n",
       "      <td>0</td>\n",
       "      <td>1</td>\n",
       "      <td>0</td>\n",
       "      <td>1</td>\n",
       "      <td>8</td>\n",
       "      <td>-3</td>\n",
       "      <td>10</td>\n",
       "      <td>8</td>\n",
       "    </tr>\n",
       "    <tr>\n",
       "      <th>353</th>\n",
       "      <td>1050289</td>\n",
       "      <td>0</td>\n",
       "      <td>0</td>\n",
       "      <td>0</td>\n",
       "      <td>33</td>\n",
       "      <td>0</td>\n",
       "      <td>35</td>\n",
       "      <td>1</td>\n",
       "      <td>1</td>\n",
       "      <td>0</td>\n",
       "      <td>...</td>\n",
       "      <td>0</td>\n",
       "      <td>0</td>\n",
       "      <td>0</td>\n",
       "      <td>1</td>\n",
       "      <td>0</td>\n",
       "      <td>1</td>\n",
       "      <td>8</td>\n",
       "      <td>-3</td>\n",
       "      <td>10</td>\n",
       "      <td>8</td>\n",
       "    </tr>\n",
       "    <tr>\n",
       "      <th>401</th>\n",
       "      <td>1050088</td>\n",
       "      <td>0</td>\n",
       "      <td>0</td>\n",
       "      <td>1</td>\n",
       "      <td>22</td>\n",
       "      <td>0</td>\n",
       "      <td>35</td>\n",
       "      <td>1</td>\n",
       "      <td>1</td>\n",
       "      <td>0</td>\n",
       "      <td>...</td>\n",
       "      <td>0</td>\n",
       "      <td>0</td>\n",
       "      <td>0</td>\n",
       "      <td>1</td>\n",
       "      <td>0</td>\n",
       "      <td>1</td>\n",
       "      <td>8</td>\n",
       "      <td>-3</td>\n",
       "      <td>10</td>\n",
       "      <td>8</td>\n",
       "    </tr>\n",
       "    <tr>\n",
       "      <th>448</th>\n",
       "      <td>1050167</td>\n",
       "      <td>0</td>\n",
       "      <td>0</td>\n",
       "      <td>0</td>\n",
       "      <td>31</td>\n",
       "      <td>0</td>\n",
       "      <td>35</td>\n",
       "      <td>1</td>\n",
       "      <td>1</td>\n",
       "      <td>1</td>\n",
       "      <td>...</td>\n",
       "      <td>0</td>\n",
       "      <td>0</td>\n",
       "      <td>0</td>\n",
       "      <td>1</td>\n",
       "      <td>0</td>\n",
       "      <td>1</td>\n",
       "      <td>8</td>\n",
       "      <td>-3</td>\n",
       "      <td>10</td>\n",
       "      <td>8</td>\n",
       "    </tr>\n",
       "    <tr>\n",
       "      <th>481</th>\n",
       "      <td>1050400</td>\n",
       "      <td>0</td>\n",
       "      <td>0</td>\n",
       "      <td>1</td>\n",
       "      <td>24</td>\n",
       "      <td>0</td>\n",
       "      <td>35</td>\n",
       "      <td>1</td>\n",
       "      <td>1</td>\n",
       "      <td>1</td>\n",
       "      <td>...</td>\n",
       "      <td>0</td>\n",
       "      <td>0</td>\n",
       "      <td>0</td>\n",
       "      <td>1</td>\n",
       "      <td>0</td>\n",
       "      <td>1</td>\n",
       "      <td>8</td>\n",
       "      <td>-3</td>\n",
       "      <td>10</td>\n",
       "      <td>8</td>\n",
       "    </tr>\n",
       "  </tbody>\n",
       "</table>\n",
       "<p>5 rows × 51 columns</p>\n",
       "</div>"
      ],
      "text/plain": [
       "     ncodpers  ind_empleado  pais_residencia  sexo  age  ind_nuevo  \\\n",
       "83    1050514             0                0     1   28          0   \n",
       "353   1050289             0                0     0   33          0   \n",
       "401   1050088             0                0     1   22          0   \n",
       "448   1050167             0                0     0   31          0   \n",
       "481   1050400             0                0     1   24          0   \n",
       "\n",
       "     antiguedad  indrel  indrel_1mes  tiprel_1mes          ...           \\\n",
       "83           35       1            1            1          ...            \n",
       "353          35       1            1            0          ...            \n",
       "401          35       1            1            0          ...            \n",
       "448          35       1            1            1          ...            \n",
       "481          35       1            1            1          ...            \n",
       "\n",
       "     ind_nomina_ult1  ind_nom_pens_ult1  ind_recibo_ult1  fecha_dato_month  \\\n",
       "83                 0                  0                0                 1   \n",
       "353                0                  0                0                 1   \n",
       "401                0                  0                0                 1   \n",
       "448                0                  0                0                 1   \n",
       "481                0                  0                0                 1   \n",
       "\n",
       "     fecha_dato_year  month_int  fecha_alta_month  fecha_alta_year  \\\n",
       "83                 0          1                 8               -3   \n",
       "353                0          1                 8               -3   \n",
       "401                0          1                 8               -3   \n",
       "448                0          1                 8               -3   \n",
       "481                0          1                 8               -3   \n",
       "\n",
       "     fecha_alta_day  fecha_alta_month_int  \n",
       "83               10                     8  \n",
       "353              10                     8  \n",
       "401              10                     8  \n",
       "448              10                     8  \n",
       "481              10                     8  \n",
       "\n",
       "[5 rows x 51 columns]"
      ]
     },
     "execution_count": 4,
     "metadata": {},
     "output_type": "execute_result"
    }
   ],
   "source": [
    "train_df.head()"
   ]
  },
  {
   "cell_type": "code",
   "execution_count": 5,
   "metadata": {
    "collapsed": false,
    "scrolled": true
   },
   "outputs": [
    {
     "data": {
      "text/html": [
       "<div>\n",
       "<table border=\"1\" class=\"dataframe\">\n",
       "  <thead>\n",
       "    <tr style=\"text-align: right;\">\n",
       "      <th></th>\n",
       "      <th>ncodpers</th>\n",
       "      <th>ind_empleado</th>\n",
       "      <th>pais_residencia</th>\n",
       "      <th>sexo</th>\n",
       "      <th>age</th>\n",
       "      <th>ind_nuevo</th>\n",
       "      <th>antiguedad</th>\n",
       "      <th>indrel</th>\n",
       "      <th>indrel_1mes</th>\n",
       "      <th>tiprel_1mes</th>\n",
       "      <th>...</th>\n",
       "      <th>ind_actividad_cliente</th>\n",
       "      <th>renta</th>\n",
       "      <th>segmento</th>\n",
       "      <th>fecha_dato_month</th>\n",
       "      <th>fecha_dato_year</th>\n",
       "      <th>month_int</th>\n",
       "      <th>fecha_alta_month</th>\n",
       "      <th>fecha_alta_year</th>\n",
       "      <th>fecha_alta_day</th>\n",
       "      <th>fecha_alta_month_int</th>\n",
       "    </tr>\n",
       "  </thead>\n",
       "  <tbody>\n",
       "    <tr>\n",
       "      <th>0</th>\n",
       "      <td>15889</td>\n",
       "      <td>3</td>\n",
       "      <td>0</td>\n",
       "      <td>0</td>\n",
       "      <td>56</td>\n",
       "      <td>0</td>\n",
       "      <td>256</td>\n",
       "      <td>1</td>\n",
       "      <td>1</td>\n",
       "      <td>0</td>\n",
       "      <td>...</td>\n",
       "      <td>1</td>\n",
       "      <td>326124.906250</td>\n",
       "      <td>1</td>\n",
       "      <td>6</td>\n",
       "      <td>1</td>\n",
       "      <td>18</td>\n",
       "      <td>1</td>\n",
       "      <td>-20</td>\n",
       "      <td>16</td>\n",
       "      <td>13</td>\n",
       "    </tr>\n",
       "    <tr>\n",
       "      <th>1</th>\n",
       "      <td>1170544</td>\n",
       "      <td>0</td>\n",
       "      <td>0</td>\n",
       "      <td>1</td>\n",
       "      <td>36</td>\n",
       "      <td>0</td>\n",
       "      <td>34</td>\n",
       "      <td>1</td>\n",
       "      <td>1</td>\n",
       "      <td>1</td>\n",
       "      <td>...</td>\n",
       "      <td>0</td>\n",
       "      <td>-2.000000</td>\n",
       "      <td>2</td>\n",
       "      <td>6</td>\n",
       "      <td>1</td>\n",
       "      <td>18</td>\n",
       "      <td>8</td>\n",
       "      <td>-2</td>\n",
       "      <td>28</td>\n",
       "      <td>20</td>\n",
       "    </tr>\n",
       "    <tr>\n",
       "      <th>2</th>\n",
       "      <td>1170545</td>\n",
       "      <td>0</td>\n",
       "      <td>0</td>\n",
       "      <td>0</td>\n",
       "      <td>22</td>\n",
       "      <td>0</td>\n",
       "      <td>34</td>\n",
       "      <td>1</td>\n",
       "      <td>1</td>\n",
       "      <td>0</td>\n",
       "      <td>...</td>\n",
       "      <td>1</td>\n",
       "      <td>-2.000000</td>\n",
       "      <td>3</td>\n",
       "      <td>6</td>\n",
       "      <td>1</td>\n",
       "      <td>18</td>\n",
       "      <td>8</td>\n",
       "      <td>-2</td>\n",
       "      <td>28</td>\n",
       "      <td>20</td>\n",
       "    </tr>\n",
       "    <tr>\n",
       "      <th>3</th>\n",
       "      <td>1170547</td>\n",
       "      <td>0</td>\n",
       "      <td>0</td>\n",
       "      <td>1</td>\n",
       "      <td>22</td>\n",
       "      <td>0</td>\n",
       "      <td>34</td>\n",
       "      <td>1</td>\n",
       "      <td>1</td>\n",
       "      <td>1</td>\n",
       "      <td>...</td>\n",
       "      <td>0</td>\n",
       "      <td>148402.984375</td>\n",
       "      <td>3</td>\n",
       "      <td>6</td>\n",
       "      <td>1</td>\n",
       "      <td>18</td>\n",
       "      <td>8</td>\n",
       "      <td>-2</td>\n",
       "      <td>28</td>\n",
       "      <td>20</td>\n",
       "    </tr>\n",
       "    <tr>\n",
       "      <th>4</th>\n",
       "      <td>1170548</td>\n",
       "      <td>0</td>\n",
       "      <td>0</td>\n",
       "      <td>1</td>\n",
       "      <td>22</td>\n",
       "      <td>0</td>\n",
       "      <td>34</td>\n",
       "      <td>1</td>\n",
       "      <td>1</td>\n",
       "      <td>1</td>\n",
       "      <td>...</td>\n",
       "      <td>0</td>\n",
       "      <td>106885.796875</td>\n",
       "      <td>3</td>\n",
       "      <td>6</td>\n",
       "      <td>1</td>\n",
       "      <td>18</td>\n",
       "      <td>8</td>\n",
       "      <td>-2</td>\n",
       "      <td>28</td>\n",
       "      <td>20</td>\n",
       "    </tr>\n",
       "  </tbody>\n",
       "</table>\n",
       "<p>5 rows × 27 columns</p>\n",
       "</div>"
      ],
      "text/plain": [
       "   ncodpers  ind_empleado  pais_residencia  sexo  age  ind_nuevo  antiguedad  \\\n",
       "0     15889             3                0     0   56          0         256   \n",
       "1   1170544             0                0     1   36          0          34   \n",
       "2   1170545             0                0     0   22          0          34   \n",
       "3   1170547             0                0     1   22          0          34   \n",
       "4   1170548             0                0     1   22          0          34   \n",
       "\n",
       "   indrel  indrel_1mes  tiprel_1mes          ...           \\\n",
       "0       1            1            0          ...            \n",
       "1       1            1            1          ...            \n",
       "2       1            1            0          ...            \n",
       "3       1            1            1          ...            \n",
       "4       1            1            1          ...            \n",
       "\n",
       "   ind_actividad_cliente          renta  segmento  fecha_dato_month  \\\n",
       "0                      1  326124.906250         1                 6   \n",
       "1                      0      -2.000000         2                 6   \n",
       "2                      1      -2.000000         3                 6   \n",
       "3                      0  148402.984375         3                 6   \n",
       "4                      0  106885.796875         3                 6   \n",
       "\n",
       "   fecha_dato_year  month_int  fecha_alta_month  fecha_alta_year  \\\n",
       "0                1         18                 1              -20   \n",
       "1                1         18                 8               -2   \n",
       "2                1         18                 8               -2   \n",
       "3                1         18                 8               -2   \n",
       "4                1         18                 8               -2   \n",
       "\n",
       "   fecha_alta_day  fecha_alta_month_int  \n",
       "0              16                    13  \n",
       "1              28                    20  \n",
       "2              28                    20  \n",
       "3              28                    20  \n",
       "4              28                    20  \n",
       "\n",
       "[5 rows x 27 columns]"
      ]
     },
     "execution_count": 5,
     "metadata": {},
     "output_type": "execute_result"
    }
   ],
   "source": [
    "test_df = pd.read_csv(\"test_encoded.csv\")\n",
    "test_df.head()"
   ]
  },
  {
   "cell_type": "markdown",
   "metadata": {},
   "source": [
    "## 1. Data Cleaning"
   ]
  },
  {
   "cell_type": "code",
   "execution_count": 6,
   "metadata": {
    "collapsed": false,
    "scrolled": true
   },
   "outputs": [
    {
     "data": {
      "text/plain": [
       "ncodpers                 False\n",
       "ind_empleado              True\n",
       "pais_residencia          False\n",
       "sexo                      True\n",
       "age                      False\n",
       "ind_nuevo                 True\n",
       "antiguedad                True\n",
       "indrel                    True\n",
       "indrel_1mes               True\n",
       "tiprel_1mes               True\n",
       "indresi                   True\n",
       "indext                    True\n",
       "conyuemp                  True\n",
       "canal_entrada            False\n",
       "indfall                   True\n",
       "tipodom                   True\n",
       "cod_prov                  True\n",
       "ind_actividad_cliente     True\n",
       "renta                     True\n",
       "segmento                  True\n",
       "ind_ahor_fin_ult1        False\n",
       "ind_aval_fin_ult1        False\n",
       "ind_cco_fin_ult1         False\n",
       "ind_cder_fin_ult1        False\n",
       "ind_cno_fin_ult1         False\n",
       "ind_ctju_fin_ult1        False\n",
       "ind_ctma_fin_ult1        False\n",
       "ind_ctop_fin_ult1        False\n",
       "ind_ctpp_fin_ult1        False\n",
       "ind_deco_fin_ult1        False\n",
       "ind_deme_fin_ult1        False\n",
       "ind_dela_fin_ult1        False\n",
       "ind_ecue_fin_ult1        False\n",
       "ind_fond_fin_ult1        False\n",
       "ind_hip_fin_ult1         False\n",
       "ind_plan_fin_ult1        False\n",
       "ind_pres_fin_ult1        False\n",
       "ind_reca_fin_ult1        False\n",
       "ind_tjcr_fin_ult1        False\n",
       "ind_valo_fin_ult1        False\n",
       "ind_viv_fin_ult1         False\n",
       "ind_nomina_ult1           True\n",
       "ind_nom_pens_ult1         True\n",
       "ind_recibo_ult1          False\n",
       "fecha_dato_month         False\n",
       "fecha_dato_year          False\n",
       "month_int                False\n",
       "fecha_alta_month         False\n",
       "fecha_alta_year           True\n",
       "fecha_alta_day           False\n",
       "fecha_alta_month_int     False\n",
       "dtype: bool"
      ]
     },
     "execution_count": 6,
     "metadata": {},
     "output_type": "execute_result"
    }
   ],
   "source": [
    "train_df.isin([-1]).any()"
   ]
  },
  {
   "cell_type": "code",
   "execution_count": 7,
   "metadata": {
    "collapsed": false,
    "scrolled": true
   },
   "outputs": [
    {
     "data": {
      "text/plain": [
       "ncodpers                 False\n",
       "ind_empleado             False\n",
       "pais_residencia          False\n",
       "sexo                      True\n",
       "age                      False\n",
       "ind_nuevo                False\n",
       "antiguedad               False\n",
       "indrel                   False\n",
       "indrel_1mes               True\n",
       "tiprel_1mes               True\n",
       "indresi                  False\n",
       "indext                   False\n",
       "conyuemp                  True\n",
       "canal_entrada            False\n",
       "indfall                  False\n",
       "tipodom                  False\n",
       "cod_prov                  True\n",
       "ind_actividad_cliente    False\n",
       "renta                    False\n",
       "segmento                  True\n",
       "fecha_dato_month         False\n",
       "fecha_dato_year          False\n",
       "month_int                False\n",
       "fecha_alta_month         False\n",
       "fecha_alta_year           True\n",
       "fecha_alta_day           False\n",
       "fecha_alta_month_int     False\n",
       "dtype: bool"
      ]
     },
     "execution_count": 7,
     "metadata": {},
     "output_type": "execute_result"
    }
   ],
   "source": [
    "test_df.isin([-1]).any()"
   ]
  },
  {
   "cell_type": "markdown",
   "metadata": {},
   "source": [
    "### ind_actividad_cliente\n",
    "Activity index (1, active customer; 0, inactive customer)  \n",
    "should be conducted at the very fist step"
   ]
  },
  {
   "cell_type": "code",
   "execution_count": 8,
   "metadata": {
    "collapsed": false
   },
   "outputs": [
    {
     "data": {
      "text/plain": [
       " 0    47824\n",
       " 1    44725\n",
       "-1      332\n",
       "Name: ind_actividad_cliente, dtype: int64"
      ]
     },
     "execution_count": 8,
     "metadata": {},
     "output_type": "execute_result"
    }
   ],
   "source": [
    "train_df.ind_actividad_cliente.value_counts()"
   ]
  },
  {
   "cell_type": "code",
   "execution_count": 9,
   "metadata": {
    "collapsed": false
   },
   "outputs": [
    {
     "data": {
      "text/plain": [
       "332"
      ]
     },
     "execution_count": 9,
     "metadata": {},
     "output_type": "execute_result"
    }
   ],
   "source": [
    "train_df.ind_actividad_cliente.isin([-1]).sum()"
   ]
  },
  {
   "cell_type": "markdown",
   "metadata": {},
   "source": [
    "these entities should be excluded from the model."
   ]
  },
  {
   "cell_type": "code",
   "execution_count": 10,
   "metadata": {
    "collapsed": false
   },
   "outputs": [],
   "source": [
    "train_df = train_df[train_df.ind_actividad_cliente != -1]\n",
    "test_df = test_df[test_df.ind_actividad_cliente != -1]"
   ]
  },
  {
   "cell_type": "markdown",
   "metadata": {
    "collapsed": true
   },
   "source": [
    "### ind_nuevo\n",
    " which indicates whether a customer is new or not"
   ]
  },
  {
   "cell_type": "code",
   "execution_count": 11,
   "metadata": {
    "collapsed": false
   },
   "outputs": [
    {
     "data": {
      "text/plain": [
       "array([0, 1], dtype=int64)"
      ]
     },
     "execution_count": 11,
     "metadata": {},
     "output_type": "execute_result"
    }
   ],
   "source": [
    "train_df[\"ind_nuevo\"].unique()"
   ]
  },
  {
   "cell_type": "code",
   "execution_count": 12,
   "metadata": {
    "collapsed": false
   },
   "outputs": [
    {
     "data": {
      "text/plain": [
       "0"
      ]
     },
     "execution_count": 12,
     "metadata": {},
     "output_type": "execute_result"
    }
   ],
   "source": [
    "train_df[\"ind_nuevo\"].isin([-1]).sum()"
   ]
  },
  {
   "cell_type": "markdown",
   "metadata": {},
   "source": [
    "Let's see if we can fill in missing values by looking how many months of history these customers have."
   ]
  },
  {
   "cell_type": "code",
   "execution_count": 13,
   "metadata": {
    "collapsed": false
   },
   "outputs": [
    {
     "data": {
      "text/plain": [
       "nan"
      ]
     },
     "execution_count": 13,
     "metadata": {},
     "output_type": "execute_result"
    }
   ],
   "source": [
    "months_active = train_df.loc[train_df[\"ind_nuevo\"].isin([-1]),:].groupby(\"ncodpers\", sort=False).size()\n",
    "months_active.max()"
   ]
  },
  {
   "cell_type": "markdown",
   "metadata": {},
   "source": [
    "Looks like these are all new customers, so replace accordingly."
   ]
  },
  {
   "cell_type": "code",
   "execution_count": 14,
   "metadata": {
    "collapsed": false
   },
   "outputs": [],
   "source": [
    "train_df.ix[train_df[\"ind_nuevo\"].isin([-1]),\"ind_nuevo\"] = 1"
   ]
  },
  {
   "cell_type": "markdown",
   "metadata": {},
   "source": [
    "### antiguedad\n",
    "Customer seniority (in months)"
   ]
  },
  {
   "cell_type": "code",
   "execution_count": 15,
   "metadata": {
    "collapsed": false
   },
   "outputs": [
    {
     "data": {
      "text/plain": [
       "0"
      ]
     },
     "execution_count": 15,
     "metadata": {},
     "output_type": "execute_result"
    }
   ],
   "source": [
    "train_df[\"antiguedad\"].isin([-1]).sum()"
   ]
  },
  {
   "cell_type": "markdown",
   "metadata": {},
   "source": [
    "same as ind_nuevo. Let's see if those are same customers."
   ]
  },
  {
   "cell_type": "code",
   "execution_count": 16,
   "metadata": {
    "collapsed": false
   },
   "outputs": [
    {
     "data": {
      "text/plain": [
       "count    0.0\n",
       "mean     NaN\n",
       "std      NaN\n",
       "min      NaN\n",
       "25%      NaN\n",
       "50%      NaN\n",
       "75%      NaN\n",
       "max      NaN\n",
       "Name: ind_nuevo, dtype: float64"
      ]
     },
     "execution_count": 16,
     "metadata": {},
     "output_type": "execute_result"
    }
   ],
   "source": [
    "train_df.ix[train_df[\"antiguedad\"].isin([-1]),\"ind_nuevo\"].describe()"
   ]
  },
  {
   "cell_type": "markdown",
   "metadata": {},
   "source": [
    "same customers. Let's give them minimum seniority."
   ]
  },
  {
   "cell_type": "code",
   "execution_count": 17,
   "metadata": {
    "collapsed": false
   },
   "outputs": [],
   "source": [
    "train_df.ix[train_df[\"antiguedad\"].isin([-1]),\"antiguedad\"] = train_df[\"antiguedad\"].min()\n",
    "train_df.ix[train_df[\"antiguedad\"].isin([-2]),\"antiguedad\"] = train_df[\"antiguedad\"].min()"
   ]
  },
  {
   "cell_type": "markdown",
   "metadata": {},
   "source": [
    "### fetcha_alta\n",
    "Same entries don't have the date they joined the company.\n",
    "- missing values are converted as below when data are squeezed  \n",
    "DF['fecha_alta'] = DF['fecha_alta'].map(lambda x: '2020-00-00' if x == -1 else x)  \n",
    "DF['fecha_alta_month'] = DF['fecha_alta'].map(lambda x: int(x[5:7])).astype(np.int8)  \n",
    "DF['fecha_alta_year'] = DF['fecha_alta'].map(lambda x: int(x[0:4]) - 2015).astype(np.int8)  \n",
    "DF['fecha_alta_day'] = DF['fecha_alta'].map(lambda x: int(x[8:10])).astype(np.int8)  \n",
    "DF['fecha_alta_motnh_int'] = (DF['fecha_alta_month'] + 12 * DF['fecha_dato_year']).astype(np.int8)\n"
   ]
  },
  {
   "cell_type": "code",
   "execution_count": 18,
   "metadata": {
    "collapsed": false
   },
   "outputs": [
    {
     "data": {
      "text/plain": [
       "0"
      ]
     },
     "execution_count": 18,
     "metadata": {},
     "output_type": "execute_result"
    }
   ],
   "source": [
    "train_df[\"fecha_alta_month\"].isin([00]).sum()"
   ]
  },
  {
   "cell_type": "markdown",
   "metadata": {},
   "source": [
    "filling missing values with medians respectively."
   ]
  },
  {
   "cell_type": "code",
   "execution_count": 19,
   "metadata": {
    "collapsed": false
   },
   "outputs": [],
   "source": [
    "# fecha_alta_month\n",
    "monthes = train_df.ix[:,\"fecha_alta_month\"].sort_values().reset_index()\n",
    "median_month = int(np.median(monthes))\n",
    "train_df.ix[train_df.fecha_alta_month.isin([-1]), \"fecha_alta_month\"] = monthes.ix[median_month, \"fecha_alta_month\"]\n",
    "# fecha_alta_day\n",
    "days = train_df.ix[:,\"fecha_alta_day\"].sort_values().reset_index()\n",
    "median_day = int(np.median(days))\n",
    "train_df.ix[train_df.fecha_alta_day.isin([-1]), \"fecha_alta_day\"] = days.ix[median_day, \"fecha_alta_day\"]\n",
    "# fecha_alta_year\n",
    "years = train_df.ix[:,\"fecha_alta_year\"].sort_values().reset_index()\n",
    "median_year = int(np.median(years))\n",
    "train_df.ix[train_df.fecha_alta_year.isin([-1]), \"fecha_alta_year\"] = years.ix[median_year, \"fecha_alta_year\"]\n",
    "# fecha_alta_month_int\n",
    "month_int = train_df.ix[:,\"fecha_alta_month_int\"].sort_values().reset_index()\n",
    "median_month_int = int(np.median(month_int))\n",
    "train_df.ix[train_df.fecha_alta_month_int.isin([-1]), \"fecha_alta_month_int\"] = month_int.ix[median_month_int, \"fecha_alta_month_int\"]"
   ]
  },
  {
   "cell_type": "markdown",
   "metadata": {},
   "source": [
    "### indrel\n",
    "1 (First/Primary), 99 (Primary customer during the month but not at the end of the month)"
   ]
  },
  {
   "cell_type": "code",
   "execution_count": 20,
   "metadata": {
    "collapsed": false
   },
   "outputs": [
    {
     "data": {
      "text/plain": [
       "array([1, 2], dtype=int64)"
      ]
     },
     "execution_count": 20,
     "metadata": {},
     "output_type": "execute_result"
    }
   ],
   "source": [
    "train_df[\"indrel\"].unique()"
   ]
  },
  {
   "cell_type": "code",
   "execution_count": 21,
   "metadata": {
    "collapsed": false
   },
   "outputs": [
    {
     "data": {
      "text/plain": [
       "0"
      ]
     },
     "execution_count": 21,
     "metadata": {},
     "output_type": "execute_result"
    }
   ],
   "source": [
    "train_df[\"indrel\"].isin([-1]).sum()"
   ]
  },
  {
   "cell_type": "code",
   "execution_count": 22,
   "metadata": {
    "collapsed": false
   },
   "outputs": [
    {
     "data": {
      "text/plain": [
       "1    92374\n",
       "2      175\n",
       "Name: indrel, dtype: int64"
      ]
     },
     "execution_count": 22,
     "metadata": {},
     "output_type": "execute_result"
    }
   ],
   "source": [
    "train_df[\"indrel\"].value_counts()"
   ]
  },
  {
   "cell_type": "markdown",
   "metadata": {},
   "source": [
    "filling with the most frequent values"
   ]
  },
  {
   "cell_type": "code",
   "execution_count": 23,
   "metadata": {
    "collapsed": true
   },
   "outputs": [],
   "source": [
    "train_df.ix[train_df.indrel.isin([-1]),\"indrel\"] = 1"
   ]
  },
  {
   "cell_type": "markdown",
   "metadata": {},
   "source": [
    "### tipodom\n",
    "Addres type. 1, primary address"
   ]
  },
  {
   "cell_type": "code",
   "execution_count": 24,
   "metadata": {
    "collapsed": false
   },
   "outputs": [
    {
     "data": {
      "text/plain": [
       "1    92549\n",
       "Name: tipodom, dtype: int64"
      ]
     },
     "execution_count": 24,
     "metadata": {},
     "output_type": "execute_result"
    }
   ],
   "source": [
    "train_df[\"tipodom\"].value_counts()"
   ]
  },
  {
   "cell_type": "markdown",
   "metadata": {},
   "source": [
    "doens't seem to be meaningful. so drop it."
   ]
  },
  {
   "cell_type": "code",
   "execution_count": 25,
   "metadata": {
    "collapsed": false
   },
   "outputs": [],
   "source": [
    "train_df.drop([\"tipodom\"],axis=1,inplace=True)\n",
    "test_df.drop([\"tipodom\"],axis=1,inplace=True)"
   ]
  },
  {
   "cell_type": "markdown",
   "metadata": {},
   "source": [
    "### age"
   ]
  },
  {
   "cell_type": "code",
   "execution_count": 26,
   "metadata": {
    "collapsed": false,
    "scrolled": true
   },
   "outputs": [
    {
     "data": {
      "image/png": "[encoded data removed]",
      "text/plain": [
       "<matplotlib.figure.Figure at 0xa9d3f98>"
      ]
     },
     "metadata": {},
     "output_type": "display_data"
    }
   ],
   "source": [
    "with sns.plotting_context(\"notebook\",font_scale=1.5):\n",
    "    sns.set_style('darkgrid')\n",
    "    sns.distplot(train_df[\"age\"], bins=80, kde=False)\n",
    "    sns.plt.title(\"age Distribution\")\n",
    "    plt.ylabel(\"Count\")"
   ]
  },
  {
   "cell_type": "code",
   "execution_count": 27,
   "metadata": {
    "collapsed": false
   },
   "outputs": [],
   "source": [
    "train_df.ix[(train_df.age > -2)&(train_df.age < 18),\"age\"]  = train_df.ix[(train_df.age >= 18) & (train_df.age <= 30),\"age\"].mean()\n",
    "train_df.ix[train_df.age > 100,\"age\"] = train_df.ix[(train_df.age >= 30) & (train_df.age <= 100),\"age\"].mean()\n",
    "train_df.ix[train_df[\"age\"]==-2,\"age\"] = train_df[\"age\"].mean()\n",
    "train_df[\"age\"] = train_df[\"age\"].astype(int)"
   ]
  },
  {
   "cell_type": "code",
   "execution_count": 28,
   "metadata": {
    "collapsed": false,
    "scrolled": true
   },
   "outputs": [
    {
     "data": {
      "image/png": "[encoded data removed]",
      "text/plain": [
       "<matplotlib.figure.Figure at 0x4028d68>"
      ]
     },
     "metadata": {},
     "output_type": "display_data"
    }
   ],
   "source": [
    "with sns.plotting_context(\"paper\",font_scale=1.5):\n",
    "    sns.set_style('darkgrid')\n",
    "    sns.distplot(train_df[\"age\"], bins=80, kde=False)\n",
    "    sns.plt.title(\"age Distribution\")\n",
    "    plt.ylabel(\"Count\")"
   ]
  },
  {
   "cell_type": "markdown",
   "metadata": {},
   "source": [
    "### cod_prov\n",
    "Province code (customer's address)"
   ]
  },
  {
   "cell_type": "code",
   "execution_count": 29,
   "metadata": {
    "collapsed": false
   },
   "outputs": [
    {
     "data": {
      "text/plain": [
       "407"
      ]
     },
     "execution_count": 29,
     "metadata": {},
     "output_type": "execute_result"
    }
   ],
   "source": [
    "train_df.cod_prov.isin([-1]).sum()"
   ]
  },
  {
   "cell_type": "code",
   "execution_count": 30,
   "metadata": {
    "collapsed": false
   },
   "outputs": [
    {
     "data": {
      "text/plain": [
       "3996"
      ]
     },
     "execution_count": 30,
     "metadata": {},
     "output_type": "execute_result"
    }
   ],
   "source": [
    "test_df.cod_prov.isin([-1]).sum()"
   ]
  },
  {
   "cell_type": "code",
   "execution_count": 31,
   "metadata": {
    "collapsed": false
   },
   "outputs": [],
   "source": [
    "train_df.ix[train_df.cod_prov.isin([-1]),\"cod_prov\"] = train_df.cod_prov.median()\n",
    "test_df.ix[test_df.cod_prov.isin([-1]),\"cod_prov\"] = test_df.cod_prov.median()"
   ]
  },
  {
   "cell_type": "markdown",
   "metadata": {},
   "source": [
    "### renta\n",
    ": gross income"
   ]
  },
  {
   "cell_type": "code",
   "execution_count": 32,
   "metadata": {
    "collapsed": false,
    "scrolled": true
   },
   "outputs": [
    {
     "data": {
      "text/plain": [
       "16200"
      ]
     },
     "execution_count": 32,
     "metadata": {},
     "output_type": "execute_result"
    }
   ],
   "source": [
    "train_df.renta[train_df.renta==-1].count()"
   ]
  },
  {
   "cell_type": "code",
   "execution_count": 33,
   "metadata": {
    "collapsed": false
   },
   "outputs": [
    {
     "data": {
      "text/plain": [
       "0"
      ]
     },
     "execution_count": 33,
     "metadata": {},
     "output_type": "execute_result"
    }
   ],
   "source": [
    "train_df.renta.isnull().sum()"
   ]
  },
  {
   "cell_type": "code",
   "execution_count": 34,
   "metadata": {
    "collapsed": false
   },
   "outputs": [
    {
     "data": {
      "text/plain": [
       "0"
      ]
     },
     "execution_count": 34,
     "metadata": {},
     "output_type": "execute_result"
    }
   ],
   "source": [
    "test_df.renta.isin([-1]).sum()"
   ]
  },
  {
   "cell_type": "markdown",
   "metadata": {},
   "source": [
    "Here is a feature that is missing a lot of values. Filling missing values with a median might not be accurate.  \n",
    "let's take a look at the median income by region"
   ]
  },
  {
   "cell_type": "code",
   "execution_count": 35,
   "metadata": {
    "collapsed": false,
    "scrolled": true
   },
   "outputs": [
    {
     "data": {
      "text/html": [
       "<div>\n",
       "<table border=\"1\" class=\"dataframe\">\n",
       "  <thead>\n",
       "    <tr>\n",
       "      <th></th>\n",
       "      <th>cod_prov</th>\n",
       "      <th>renta</th>\n",
       "    </tr>\n",
       "    <tr>\n",
       "      <th></th>\n",
       "      <th></th>\n",
       "      <th>MedianIncome</th>\n",
       "    </tr>\n",
       "  </thead>\n",
       "  <tbody>\n",
       "    <tr>\n",
       "      <th>0</th>\n",
       "      <td>6.0</td>\n",
       "      <td>57374.460938</td>\n",
       "    </tr>\n",
       "    <tr>\n",
       "      <th>1</th>\n",
       "      <td>10.0</td>\n",
       "      <td>59625.300781</td>\n",
       "    </tr>\n",
       "    <tr>\n",
       "      <th>2</th>\n",
       "      <td>27.0</td>\n",
       "      <td>61529.101562</td>\n",
       "    </tr>\n",
       "    <tr>\n",
       "      <th>3</th>\n",
       "      <td>13.0</td>\n",
       "      <td>61808.761719</td>\n",
       "    </tr>\n",
       "    <tr>\n",
       "      <th>4</th>\n",
       "      <td>5.0</td>\n",
       "      <td>63724.859375</td>\n",
       "    </tr>\n",
       "  </tbody>\n",
       "</table>\n",
       "</div>"
      ],
      "text/plain": [
       "  cod_prov         renta\n",
       "            MedianIncome\n",
       "0      6.0  57374.460938\n",
       "1     10.0  59625.300781\n",
       "2     27.0  61529.101562\n",
       "3     13.0  61808.761719\n",
       "4      5.0  63724.859375"
      ]
     },
     "execution_count": 35,
     "metadata": {},
     "output_type": "execute_result"
    }
   ],
   "source": [
    "incomes = train_df.ix[train_df.renta!=(-1 or NAN),:].groupby(\"cod_prov\").agg({\"renta\":{\"MedianIncome\":np.median}})\n",
    "incomes.sort_values(by=(\"renta\",\"MedianIncome\"),inplace=True)\n",
    "incomes.reset_index(inplace=True)\n",
    "incomes.cod_prov = incomes.cod_prov.astype(\"category\", categories=[i for i in train_df.cod_prov.unique()],ordered=False)\n",
    "incomes.head()"
   ]
  },
  {
   "cell_type": "code",
   "execution_count": 36,
   "metadata": {
    "collapsed": false
   },
   "outputs": [
    {
     "data": {
      "text/plain": [
       "(40000, 180000)"
      ]
     },
     "execution_count": 36,
     "metadata": {},
     "output_type": "execute_result"
    },
    {
     "data": {
      "image/png": "[encoded data removed]",
      "text/plain": [
       "<matplotlib.figure.Figure at 0x4046e128>"
      ]
     },
     "metadata": {},
     "output_type": "display_data"
    }
   ],
   "source": [
    "with sns.plotting_context(\"paper\"):\n",
    "    sns.set_style(\"darkgrid\")\n",
    "    sns.factorplot(x=\"cod_prov\", y=(\"renta\",\"MedianIncome\"), data=incomes, size=6, linestyles=\"None\", order=(i for i in incomes.cod_prov))\n",
    "\n",
    "plt.title(\"Income Distribution by City\",size=20)\n",
    "\n",
    "plt.xticks(rotation=90)\n",
    "plt.xlabel(\"City Code\",size=15)\n",
    "\n",
    "plt.ylabel(\"Median Income\",size=15)\n",
    "plt.ylim(40000,180000)"
   ]
  },
  {
   "cell_type": "code",
   "execution_count": 37,
   "metadata": {
    "collapsed": false
   },
   "outputs": [],
   "source": [
    "grouped = train_df.groupby(\"cod_prov\").agg({\"renta\":lambda x: x.median()}).reset_index()\n",
    "new_incomes = pd.merge(train_df,grouped,how=\"inner\",on=\"cod_prov\").ix[:, [\"cod_prov\",\"renta_y\"]]\n",
    "new_incomes = new_incomes.rename(columns={\"renta_y\":\"renta\"}).sort_values(\"renta\").sort_values(\"cod_prov\")\n",
    "train_df.sort_values(\"cod_prov\",inplace=True)\n",
    "train_df = train_df.reset_index()\n",
    "new_incomes = new_incomes.reset_index()\n",
    "\n",
    "grouped2 = test_df.groupby(\"cod_prov\").agg({\"renta\":lambda x: x.median()}).reset_index()\n",
    "new_incomes2 = pd.merge(test_df,grouped,how=\"inner\",on=\"cod_prov\").ix[:, [\"cod_prov\",\"renta_y\"]]\n",
    "new_incomes2 = new_incomes2.rename(columns={\"renta_y\":\"renta\"}).sort_values(\"renta\").sort_values(\"cod_prov\")\n",
    "test_df.sort_values(\"cod_prov\",inplace=True)\n",
    "test_df = test_df.reset_index()\n",
    "new_incomes2 = new_incomes2.reset_index()"
   ]
  },
  {
   "cell_type": "code",
   "execution_count": 38,
   "metadata": {
    "collapsed": false
   },
   "outputs": [
    {
     "name": "stderr",
     "output_type": "stream",
     "text": [
      "C:\\Users\\prill\\Anaconda2\\lib\\site-packages\\pandas\\computation\\expressions.py:181: UserWarning: evaluating in Python space because the '+' operator is not supported by numexpr for the bool dtype, use '|' instead\n",
      "  unsupported[op_str]))\n"
     ]
    }
   ],
   "source": [
    "train_df.ix[train_df.renta.isin([-1]) + train_df.renta.isnull(),\"renta\"] \\\n",
    "= new_incomes.ix[train_df.renta.isin([-1]) + train_df.renta.isnull(),\"renta\"].reset_index()\n",
    "train_df.ix[train_df.renta.isin([-1]) + train_df.renta.isnull(),\"renta\"] \\\n",
    "= train_df.ix[train_df.renta.isin([not -1]) + train_df.renta.notnull(),\"renta\"].median()\n",
    "\n",
    "test_df.ix[test_df.renta.isin([-1]) + test_df.renta.isnull(),\"renta\"] \\\n",
    "= new_incomes2.ix[test_df.renta.isin([-1]) + test_df.renta.isnull(),\"renta\"].reset_index()\n",
    "test_df.ix[test_df.renta.isin([-1]) + test_df.renta.isnull(),\"renta\"] \\\n",
    "= test_df.ix[test_df.renta.isin([not -1]) + test_df.renta.notnull(),\"renta\"].median()"
   ]
  },
  {
   "cell_type": "code",
   "execution_count": 39,
   "metadata": {
    "collapsed": false
   },
   "outputs": [
    {
     "data": {
      "text/plain": [
       "0"
      ]
     },
     "execution_count": 39,
     "metadata": {},
     "output_type": "execute_result"
    }
   ],
   "source": [
    "train_df[\"renta\"].isnull().sum()"
   ]
  },
  {
   "cell_type": "code",
   "execution_count": 40,
   "metadata": {
    "collapsed": false
   },
   "outputs": [
    {
     "data": {
      "text/plain": [
       "0"
      ]
     },
     "execution_count": 40,
     "metadata": {},
     "output_type": "execute_result"
    }
   ],
   "source": [
    "train_df[\"renta\"].isin([-1]).sum()"
   ]
  },
  {
   "cell_type": "markdown",
   "metadata": {},
   "source": [
    "### left features\n",
    "There are many categorical features left to be cleaned. First, let's take a look at them."
   ]
  },
  {
   "cell_type": "code",
   "execution_count": 41,
   "metadata": {
    "collapsed": false,
    "scrolled": true
   },
   "outputs": [
    {
     "data": {
      "text/plain": [
       "index                    False\n",
       "ncodpers                 False\n",
       "ind_empleado             False\n",
       "pais_residencia          False\n",
       "sexo                     False\n",
       "age                      False\n",
       "ind_nuevo                False\n",
       "antiguedad               False\n",
       "indrel                   False\n",
       "indrel_1mes               True\n",
       "tiprel_1mes               True\n",
       "indresi                  False\n",
       "indext                   False\n",
       "conyuemp                  True\n",
       "canal_entrada            False\n",
       "indfall                  False\n",
       "cod_prov                 False\n",
       "ind_actividad_cliente    False\n",
       "renta                    False\n",
       "segmento                  True\n",
       "ind_ahor_fin_ult1        False\n",
       "ind_aval_fin_ult1        False\n",
       "ind_cco_fin_ult1         False\n",
       "ind_cder_fin_ult1        False\n",
       "ind_cno_fin_ult1         False\n",
       "ind_ctju_fin_ult1        False\n",
       "ind_ctma_fin_ult1        False\n",
       "ind_ctop_fin_ult1        False\n",
       "ind_ctpp_fin_ult1        False\n",
       "ind_deco_fin_ult1        False\n",
       "ind_deme_fin_ult1        False\n",
       "ind_dela_fin_ult1        False\n",
       "ind_ecue_fin_ult1        False\n",
       "ind_fond_fin_ult1        False\n",
       "ind_hip_fin_ult1         False\n",
       "ind_plan_fin_ult1        False\n",
       "ind_pres_fin_ult1        False\n",
       "ind_reca_fin_ult1        False\n",
       "ind_tjcr_fin_ult1        False\n",
       "ind_valo_fin_ult1        False\n",
       "ind_viv_fin_ult1         False\n",
       "ind_nomina_ult1           True\n",
       "ind_nom_pens_ult1         True\n",
       "ind_recibo_ult1          False\n",
       "fecha_dato_month         False\n",
       "fecha_dato_year          False\n",
       "month_int                False\n",
       "fecha_alta_month         False\n",
       "fecha_alta_year          False\n",
       "fecha_alta_day           False\n",
       "fecha_alta_month_int     False\n",
       "dtype: bool"
      ]
     },
     "execution_count": 41,
     "metadata": {},
     "output_type": "execute_result"
    }
   ],
   "source": [
    "train_df.isin([-1]).any()"
   ]
  },
  {
   "cell_type": "code",
   "execution_count": 42,
   "metadata": {
    "collapsed": false
   },
   "outputs": [
    {
     "name": "stdout",
     "output_type": "stream",
     "text": [
      "Unique values for indrel_1mes:\n",
      "[ 1 -1  3 -2  2  4]\n",
      "\n",
      "Unique values for tiprel_1mes:\n",
      "[ 0  1 -1  2  4]\n",
      "\n",
      "Unique values for conyuemp:\n",
      "[-1  0]\n",
      "\n",
      "Unique values for segmento:\n",
      "[ 2  1  3 -1]\n",
      "\n",
      "Unique values for ind_nomina_ult1:\n",
      "[ 0  1 -1]\n",
      "\n",
      "Unique values for ind_nom_pens_ult1:\n",
      "[ 0  1 -1]\n",
      "\n"
     ]
    }
   ],
   "source": [
    "missing_features = [\"indrel_1mes\", \"tiprel_1mes\", \"conyuemp\", \"segmento\", \"ind_nomina_ult1\", \"ind_nom_pens_ult1\"]\n",
    "for col in missing_features:\n",
    "    print(\"Unique values for {0}:\\n{1}\\n\".format(col,train_df[col].unique()))"
   ]
  },
  {
   "cell_type": "markdown",
   "metadata": {},
   "source": [
    "conyuemp has one type of values to drop it."
   ]
  },
  {
   "cell_type": "code",
   "execution_count": 43,
   "metadata": {
    "collapsed": true
   },
   "outputs": [],
   "source": [
    "train_df.drop([\"conyuemp\"], axis=1, inplace=True)\n",
    "test_df.drop([\"conyuemp\"], axis=1, inplace=True)"
   ]
  },
  {
   "cell_type": "markdown",
   "metadata": {},
   "source": [
    "### indrel_1mes"
   ]
  },
  {
   "cell_type": "code",
   "execution_count": 44,
   "metadata": {
    "collapsed": false
   },
   "outputs": [
    {
     "data": {
      "text/plain": [
       " 1    91503\n",
       "-1     1019\n",
       " 3       16\n",
       "-2        5\n",
       " 2        4\n",
       " 4        2\n",
       "Name: indrel_1mes, dtype: int64"
      ]
     },
     "execution_count": 44,
     "metadata": {},
     "output_type": "execute_result"
    }
   ],
   "source": [
    "train_df[\"indrel_1mes\"].value_counts()"
   ]
  },
  {
   "cell_type": "code",
   "execution_count": 45,
   "metadata": {
    "collapsed": false
   },
   "outputs": [
    {
     "data": {
      "text/plain": [
       " 1    929565\n",
       " 3        27\n",
       "-1        23\n",
       "Name: indrel_1mes, dtype: int64"
      ]
     },
     "execution_count": 45,
     "metadata": {},
     "output_type": "execute_result"
    }
   ],
   "source": [
    "test_df[\"indrel_1mes\"].value_counts()"
   ]
  },
  {
   "cell_type": "markdown",
   "metadata": {},
   "source": [
    "filling missing values with the most frequent value, which is 1."
   ]
  },
  {
   "cell_type": "code",
   "execution_count": 46,
   "metadata": {
    "collapsed": true
   },
   "outputs": [],
   "source": [
    "train_df.ix[train_df.indrel_1mes.isin([-1]), \"indrel_1mes\"] = 1\n",
    "test_df.ix[test_df.indrel_1mes.isin([-1]), \"indrel_1mes\"] = 1"
   ]
  },
  {
   "cell_type": "markdown",
   "metadata": {},
   "source": [
    "### tiprel_1mes\n",
    "Customer relation type at the beginning of the month, 0 (active), 1 (inactive), 2 (former customer), 4 (Potential)"
   ]
  },
  {
   "cell_type": "code",
   "execution_count": 47,
   "metadata": {
    "collapsed": false
   },
   "outputs": [
    {
     "data": {
      "text/plain": [
       " 1    47293\n",
       " 0    44214\n",
       "-1     1019\n",
       " 2       18\n",
       " 4        5\n",
       "Name: tiprel_1mes, dtype: int64"
      ]
     },
     "execution_count": 47,
     "metadata": {},
     "output_type": "execute_result"
    }
   ],
   "source": [
    "train_df[\"tiprel_1mes\"].value_counts()"
   ]
  },
  {
   "cell_type": "code",
   "execution_count": 48,
   "metadata": {
    "collapsed": false
   },
   "outputs": [
    {
     "data": {
      "text/plain": [
       " 1    535943\n",
       " 0    393622\n",
       " 2        27\n",
       "-1        23\n",
       "Name: tiprel_1mes, dtype: int64"
      ]
     },
     "execution_count": 48,
     "metadata": {},
     "output_type": "execute_result"
    }
   ],
   "source": [
    "test_df['tiprel_1mes'].value_counts()"
   ]
  },
  {
   "cell_type": "code",
   "execution_count": 49,
   "metadata": {
    "collapsed": true
   },
   "outputs": [],
   "source": [
    "train_df.ix[train_df.tiprel_1mes.isin([-1]), \"tiprel_1mes\"] = 0\n",
    "test_df.ix[test_df.tiprel_1mes.isin([-1]), \"tiprel_1mes\"] = 0"
   ]
  },
  {
   "cell_type": "markdown",
   "metadata": {},
   "source": [
    "### segmento\n",
    "segmentation: 01 - VIP, 02 - Individuals 03 - college graduated"
   ]
  },
  {
   "cell_type": "code",
   "execution_count": 50,
   "metadata": {
    "collapsed": false
   },
   "outputs": [
    {
     "data": {
      "text/plain": [
       " 2    54397\n",
       " 3    32745\n",
       " 1     4154\n",
       "-1     1253\n",
       "Name: segmento, dtype: int64"
      ]
     },
     "execution_count": 50,
     "metadata": {},
     "output_type": "execute_result"
    }
   ],
   "source": [
    "train_df[\"segmento\"].value_counts()"
   ]
  },
  {
   "cell_type": "code",
   "execution_count": 51,
   "metadata": {
    "collapsed": false
   },
   "outputs": [
    {
     "data": {
      "text/plain": [
       " 2    545378\n",
       " 3    346028\n",
       " 1     35961\n",
       "-1      2248\n",
       "Name: segmento, dtype: int64"
      ]
     },
     "execution_count": 51,
     "metadata": {},
     "output_type": "execute_result"
    }
   ],
   "source": [
    "test_df[\"segmento\"].value_counts()"
   ]
  },
  {
   "cell_type": "code",
   "execution_count": 52,
   "metadata": {
    "collapsed": false,
    "scrolled": true
   },
   "outputs": [],
   "source": [
    "train_df.ix[train_df.segmento.isin([-1]), \"segmento\"] = 2\n",
    "test_df.ix[test_df.segmento.isin([-1]), \"segmento\"] = 2"
   ]
  },
  {
   "cell_type": "markdown",
   "metadata": {},
   "source": [
    "### ind_nomina_ult1, ind_nom_pens_ult1"
   ]
  },
  {
   "cell_type": "code",
   "execution_count": 53,
   "metadata": {
    "collapsed": false
   },
   "outputs": [
    {
     "data": {
      "text/plain": [
       " 0    87204\n",
       " 1     5344\n",
       "-1        1\n",
       "Name: ind_nomina_ult1, dtype: int64"
      ]
     },
     "execution_count": 53,
     "metadata": {},
     "output_type": "execute_result"
    }
   ],
   "source": [
    "train_df[\"ind_nomina_ult1\"].value_counts()"
   ]
  },
  {
   "cell_type": "code",
   "execution_count": 54,
   "metadata": {
    "collapsed": false
   },
   "outputs": [
    {
     "data": {
      "text/plain": [
       " 0    86806\n",
       " 1     5742\n",
       "-1        1\n",
       "Name: ind_nom_pens_ult1, dtype: int64"
      ]
     },
     "execution_count": 54,
     "metadata": {},
     "output_type": "execute_result"
    }
   ],
   "source": [
    "train_df[\"ind_nom_pens_ult1\"].value_counts()"
   ]
  },
  {
   "cell_type": "markdown",
   "metadata": {},
   "source": [
    "The numer of missing values is very small. just replace them with the most common value."
   ]
  },
  {
   "cell_type": "code",
   "execution_count": 55,
   "metadata": {
    "collapsed": false
   },
   "outputs": [],
   "source": [
    "train_df.ix[train_df.ind_nomina_ult1.isin([-1]), \"ind_nomina_ult1\"] = 0\n",
    "train_df.ix[train_df.ind_nom_pens_ult1.isin([-1]), \"ind_nom_pens_ult1\"] = 0"
   ]
  },
  {
   "cell_type": "code",
   "execution_count": 56,
   "metadata": {
    "collapsed": false
   },
   "outputs": [
    {
     "data": {
      "text/plain": [
       "0"
      ]
     },
     "execution_count": 56,
     "metadata": {},
     "output_type": "execute_result"
    }
   ],
   "source": [
    "train_df.isin([-1]).any().sum()"
   ]
  },
  {
   "cell_type": "code",
   "execution_count": 57,
   "metadata": {
    "collapsed": false,
    "scrolled": true
   },
   "outputs": [
    {
     "data": {
      "text/plain": [
       "index                    False\n",
       "ncodpers                 False\n",
       "ind_empleado             False\n",
       "pais_residencia          False\n",
       "sexo                     False\n",
       "age                      False\n",
       "ind_nuevo                False\n",
       "antiguedad               False\n",
       "indrel                   False\n",
       "indrel_1mes              False\n",
       "tiprel_1mes              False\n",
       "indresi                  False\n",
       "indext                   False\n",
       "canal_entrada            False\n",
       "indfall                  False\n",
       "cod_prov                 False\n",
       "ind_actividad_cliente    False\n",
       "renta                    False\n",
       "segmento                 False\n",
       "ind_ahor_fin_ult1        False\n",
       "ind_aval_fin_ult1        False\n",
       "ind_cco_fin_ult1         False\n",
       "ind_cder_fin_ult1        False\n",
       "ind_cno_fin_ult1         False\n",
       "ind_ctju_fin_ult1        False\n",
       "ind_ctma_fin_ult1        False\n",
       "ind_ctop_fin_ult1        False\n",
       "ind_ctpp_fin_ult1        False\n",
       "ind_deco_fin_ult1        False\n",
       "ind_deme_fin_ult1        False\n",
       "ind_dela_fin_ult1        False\n",
       "ind_ecue_fin_ult1        False\n",
       "ind_fond_fin_ult1        False\n",
       "ind_hip_fin_ult1         False\n",
       "ind_plan_fin_ult1        False\n",
       "ind_pres_fin_ult1        False\n",
       "ind_reca_fin_ult1        False\n",
       "ind_tjcr_fin_ult1        False\n",
       "ind_valo_fin_ult1        False\n",
       "ind_viv_fin_ult1         False\n",
       "ind_nomina_ult1          False\n",
       "ind_nom_pens_ult1        False\n",
       "ind_recibo_ult1          False\n",
       "fecha_dato_month         False\n",
       "fecha_dato_year          False\n",
       "month_int                False\n",
       "fecha_alta_month         False\n",
       "fecha_alta_year          False\n",
       "fecha_alta_day           False\n",
       "fecha_alta_month_int     False\n",
       "dtype: bool"
      ]
     },
     "execution_count": 57,
     "metadata": {},
     "output_type": "execute_result"
    }
   ],
   "source": [
    "train_df.isnull().any()"
   ]
  },
  {
   "cell_type": "markdown",
   "metadata": {},
   "source": [
    "### sexo"
   ]
  },
  {
   "cell_type": "code",
   "execution_count": 58,
   "metadata": {
    "collapsed": false
   },
   "outputs": [
    {
     "data": {
      "text/plain": [
       "0    51180\n",
       "1    41369\n",
       "Name: sexo, dtype: int64"
      ]
     },
     "execution_count": 58,
     "metadata": {},
     "output_type": "execute_result"
    }
   ],
   "source": [
    "train_df[\"sexo\"].value_counts()"
   ]
  },
  {
   "cell_type": "code",
   "execution_count": 59,
   "metadata": {
    "collapsed": false
   },
   "outputs": [
    {
     "data": {
      "text/plain": [
       " 0    504515\n",
       " 1    425095\n",
       "-1         5\n",
       "Name: sexo, dtype: int64"
      ]
     },
     "execution_count": 59,
     "metadata": {},
     "output_type": "execute_result"
    }
   ],
   "source": [
    "test_df[\"sexo\"].value_counts()"
   ]
  },
  {
   "cell_type": "code",
   "execution_count": 60,
   "metadata": {
    "collapsed": false
   },
   "outputs": [],
   "source": [
    "train_df.ix[train_df.sexo.isin([-1]), \"sexo\"] = 0\n",
    "test_df.ix[test_df.sexo.isin([-1]), \"sexo\"] = 0"
   ]
  },
  {
   "cell_type": "markdown",
   "metadata": {},
   "source": [
    "double check if there any missing values"
   ]
  },
  {
   "cell_type": "markdown",
   "metadata": {
    "collapsed": true
   },
   "source": [
    "### preparing for fitting"
   ]
  },
  {
   "cell_type": "code",
   "execution_count": 151,
   "metadata": {
    "collapsed": false
   },
   "outputs": [],
   "source": [
    "target_cols = ['ncodpers', 'ind_ahor_fin_ult1', 'ind_aval_fin_ult1', 'ind_cco_fin_ult1',\n",
    "               'ind_cder_fin_ult1', 'ind_cno_fin_ult1', 'ind_ctju_fin_ult1',\n",
    "               'ind_ctma_fin_ult1', 'ind_ctop_fin_ult1', 'ind_ctpp_fin_ult1',\n",
    "               'ind_deco_fin_ult1', 'ind_deme_fin_ult1', 'ind_dela_fin_ult1',\n",
    "               'ind_ecue_fin_ult1', 'ind_fond_fin_ult1', 'ind_hip_fin_ult1',\n",
    "               'ind_plan_fin_ult1', 'ind_pres_fin_ult1', 'ind_reca_fin_ult1',\n",
    "               'ind_tjcr_fin_ult1', 'ind_valo_fin_ult1', 'ind_viv_fin_ult1',\n",
    "               'ind_nomina_ult1', 'ind_nom_pens_ult1', 'ind_recibo_ult1']\n",
    "\n",
    "feature_cols = [\"ind_empleado\",\"pais_residencia\",\"sexo\", \"age\", \"ind_nuevo\", \"antiguedad\",\n",
    "                \"indrel\",\"indrel_1mes\",\"tiprel_1mes\",\"indresi\",\"indext\",\"canal_entrada\",\"indfall\",\"cod_prov\",\"ind_actividad_cliente\",\n",
    "                \"renta\",\"segmento\",\"fecha_dato_month\",\"fecha_dato_year\",\"month_int\",\"fecha_alta_month\",\"fecha_alta_year\",\"fecha_alta_day\",\n",
    "                \"fecha_alta_month_int\"]"
   ]
  },
  {
   "cell_type": "markdown",
   "metadata": {},
   "source": [
    "I got warning message when fitting data into Random Forest.(Input contains NaN, infinity or a value too large for dtype('float32').)\n",
    "I look into data's info as below."
   ]
  },
  {
   "cell_type": "code",
   "execution_count": 62,
   "metadata": {
    "collapsed": false
   },
   "outputs": [
    {
     "data": {
      "text/html": [
       "<div>\n",
       "<table border=\"1\" class=\"dataframe\">\n",
       "  <thead>\n",
       "    <tr style=\"text-align: right;\">\n",
       "      <th></th>\n",
       "      <th>index</th>\n",
       "      <th>ncodpers</th>\n",
       "      <th>ind_empleado</th>\n",
       "      <th>pais_residencia</th>\n",
       "      <th>sexo</th>\n",
       "      <th>age</th>\n",
       "      <th>ind_nuevo</th>\n",
       "      <th>antiguedad</th>\n",
       "      <th>indrel</th>\n",
       "      <th>indrel_1mes</th>\n",
       "      <th>...</th>\n",
       "      <th>ind_nomina_ult1</th>\n",
       "      <th>ind_nom_pens_ult1</th>\n",
       "      <th>ind_recibo_ult1</th>\n",
       "      <th>fecha_dato_month</th>\n",
       "      <th>fecha_dato_year</th>\n",
       "      <th>month_int</th>\n",
       "      <th>fecha_alta_month</th>\n",
       "      <th>fecha_alta_year</th>\n",
       "      <th>fecha_alta_day</th>\n",
       "      <th>fecha_alta_month_int</th>\n",
       "    </tr>\n",
       "  </thead>\n",
       "  <tbody>\n",
       "    <tr>\n",
       "      <th>count</th>\n",
       "      <td>9.254900e+04</td>\n",
       "      <td>9.254900e+04</td>\n",
       "      <td>92549.000000</td>\n",
       "      <td>92549.000000</td>\n",
       "      <td>92549.000000</td>\n",
       "      <td>92549.000000</td>\n",
       "      <td>92549.000000</td>\n",
       "      <td>92549.000000</td>\n",
       "      <td>92549.000000</td>\n",
       "      <td>92549.000000</td>\n",
       "      <td>...</td>\n",
       "      <td>92549.000000</td>\n",
       "      <td>92549.000000</td>\n",
       "      <td>92549.000000</td>\n",
       "      <td>92549.000000</td>\n",
       "      <td>92549.0</td>\n",
       "      <td>92549.000000</td>\n",
       "      <td>92549.000000</td>\n",
       "      <td>92549.000000</td>\n",
       "      <td>92549.000000</td>\n",
       "      <td>92549.000000</td>\n",
       "    </tr>\n",
       "    <tr>\n",
       "      <th>mean</th>\n",
       "      <td>3.506967e+06</td>\n",
       "      <td>7.988560e+05</td>\n",
       "      <td>0.001599</td>\n",
       "      <td>0.105339</td>\n",
       "      <td>0.446996</td>\n",
       "      <td>40.453273</td>\n",
       "      <td>0.037656</td>\n",
       "      <td>81.002971</td>\n",
       "      <td>1.001891</td>\n",
       "      <td>1.000292</td>\n",
       "      <td>...</td>\n",
       "      <td>0.057742</td>\n",
       "      <td>0.062043</td>\n",
       "      <td>0.132892</td>\n",
       "      <td>5.787323</td>\n",
       "      <td>0.0</td>\n",
       "      <td>5.787323</td>\n",
       "      <td>7.397562</td>\n",
       "      <td>-9.382867</td>\n",
       "      <td>15.821468</td>\n",
       "      <td>7.397562</td>\n",
       "    </tr>\n",
       "    <tr>\n",
       "      <th>std</th>\n",
       "      <td>2.020898e+06</td>\n",
       "      <td>4.211841e+05</td>\n",
       "      <td>0.060233</td>\n",
       "      <td>2.061739</td>\n",
       "      <td>0.497185</td>\n",
       "      <td>17.029479</td>\n",
       "      <td>0.190363</td>\n",
       "      <td>66.380060</td>\n",
       "      <td>0.043443</td>\n",
       "      <td>0.037622</td>\n",
       "      <td>...</td>\n",
       "      <td>0.233257</td>\n",
       "      <td>0.241235</td>\n",
       "      <td>0.339460</td>\n",
       "      <td>2.855817</td>\n",
       "      <td>0.0</td>\n",
       "      <td>2.855817</td>\n",
       "      <td>3.267457</td>\n",
       "      <td>6.513818</td>\n",
       "      <td>8.894133</td>\n",
       "      <td>3.267457</td>\n",
       "    </tr>\n",
       "    <tr>\n",
       "      <th>min</th>\n",
       "      <td>8.300000e+01</td>\n",
       "      <td>1.592400e+04</td>\n",
       "      <td>0.000000</td>\n",
       "      <td>0.000000</td>\n",
       "      <td>0.000000</td>\n",
       "      <td>18.000000</td>\n",
       "      <td>0.000000</td>\n",
       "      <td>0.000000</td>\n",
       "      <td>1.000000</td>\n",
       "      <td>-2.000000</td>\n",
       "      <td>...</td>\n",
       "      <td>0.000000</td>\n",
       "      <td>0.000000</td>\n",
       "      <td>0.000000</td>\n",
       "      <td>1.000000</td>\n",
       "      <td>0.0</td>\n",
       "      <td>1.000000</td>\n",
       "      <td>1.000000</td>\n",
       "      <td>-20.000000</td>\n",
       "      <td>1.000000</td>\n",
       "      <td>1.000000</td>\n",
       "    </tr>\n",
       "    <tr>\n",
       "      <th>25%</th>\n",
       "      <td>1.756843e+06</td>\n",
       "      <td>4.139790e+05</td>\n",
       "      <td>0.000000</td>\n",
       "      <td>0.000000</td>\n",
       "      <td>0.000000</td>\n",
       "      <td>24.000000</td>\n",
       "      <td>0.000000</td>\n",
       "      <td>23.000000</td>\n",
       "      <td>1.000000</td>\n",
       "      <td>1.000000</td>\n",
       "      <td>...</td>\n",
       "      <td>0.000000</td>\n",
       "      <td>0.000000</td>\n",
       "      <td>0.000000</td>\n",
       "      <td>3.000000</td>\n",
       "      <td>0.0</td>\n",
       "      <td>3.000000</td>\n",
       "      <td>5.000000</td>\n",
       "      <td>-14.000000</td>\n",
       "      <td>8.000000</td>\n",
       "      <td>5.000000</td>\n",
       "    </tr>\n",
       "    <tr>\n",
       "      <th>50%</th>\n",
       "      <td>3.516178e+06</td>\n",
       "      <td>9.129750e+05</td>\n",
       "      <td>0.000000</td>\n",
       "      <td>0.000000</td>\n",
       "      <td>0.000000</td>\n",
       "      <td>39.000000</td>\n",
       "      <td>0.000000</td>\n",
       "      <td>48.000000</td>\n",
       "      <td>1.000000</td>\n",
       "      <td>1.000000</td>\n",
       "      <td>...</td>\n",
       "      <td>0.000000</td>\n",
       "      <td>0.000000</td>\n",
       "      <td>0.000000</td>\n",
       "      <td>6.000000</td>\n",
       "      <td>0.0</td>\n",
       "      <td>6.000000</td>\n",
       "      <td>8.000000</td>\n",
       "      <td>-9.000000</td>\n",
       "      <td>16.000000</td>\n",
       "      <td>8.000000</td>\n",
       "    </tr>\n",
       "    <tr>\n",
       "      <th>75%</th>\n",
       "      <td>5.261196e+06</td>\n",
       "      <td>1.161081e+06</td>\n",
       "      <td>0.000000</td>\n",
       "      <td>0.000000</td>\n",
       "      <td>1.000000</td>\n",
       "      <td>51.000000</td>\n",
       "      <td>0.000000</td>\n",
       "      <td>140.000000</td>\n",
       "      <td>1.000000</td>\n",
       "      <td>1.000000</td>\n",
       "      <td>...</td>\n",
       "      <td>0.000000</td>\n",
       "      <td>0.000000</td>\n",
       "      <td>0.000000</td>\n",
       "      <td>8.000000</td>\n",
       "      <td>0.0</td>\n",
       "      <td>8.000000</td>\n",
       "      <td>10.000000</td>\n",
       "      <td>-3.000000</td>\n",
       "      <td>24.000000</td>\n",
       "      <td>10.000000</td>\n",
       "    </tr>\n",
       "    <tr>\n",
       "      <th>max</th>\n",
       "      <td>6.999961e+06</td>\n",
       "      <td>1.495415e+06</td>\n",
       "      <td>3.000000</td>\n",
       "      <td>93.000000</td>\n",
       "      <td>1.000000</td>\n",
       "      <td>100.000000</td>\n",
       "      <td>1.000000</td>\n",
       "      <td>249.000000</td>\n",
       "      <td>2.000000</td>\n",
       "      <td>4.000000</td>\n",
       "      <td>...</td>\n",
       "      <td>1.000000</td>\n",
       "      <td>1.000000</td>\n",
       "      <td>1.000000</td>\n",
       "      <td>10.000000</td>\n",
       "      <td>0.0</td>\n",
       "      <td>10.000000</td>\n",
       "      <td>12.000000</td>\n",
       "      <td>0.000000</td>\n",
       "      <td>31.000000</td>\n",
       "      <td>12.000000</td>\n",
       "    </tr>\n",
       "  </tbody>\n",
       "</table>\n",
       "<p>8 rows × 50 columns</p>\n",
       "</div>"
      ],
      "text/plain": [
       "              index      ncodpers  ind_empleado  pais_residencia  \\\n",
       "count  9.254900e+04  9.254900e+04  92549.000000     92549.000000   \n",
       "mean   3.506967e+06  7.988560e+05      0.001599         0.105339   \n",
       "std    2.020898e+06  4.211841e+05      0.060233         2.061739   \n",
       "min    8.300000e+01  1.592400e+04      0.000000         0.000000   \n",
       "25%    1.756843e+06  4.139790e+05      0.000000         0.000000   \n",
       "50%    3.516178e+06  9.129750e+05      0.000000         0.000000   \n",
       "75%    5.261196e+06  1.161081e+06      0.000000         0.000000   \n",
       "max    6.999961e+06  1.495415e+06      3.000000        93.000000   \n",
       "\n",
       "               sexo           age     ind_nuevo    antiguedad        indrel  \\\n",
       "count  92549.000000  92549.000000  92549.000000  92549.000000  92549.000000   \n",
       "mean       0.446996     40.453273      0.037656     81.002971      1.001891   \n",
       "std        0.497185     17.029479      0.190363     66.380060      0.043443   \n",
       "min        0.000000     18.000000      0.000000      0.000000      1.000000   \n",
       "25%        0.000000     24.000000      0.000000     23.000000      1.000000   \n",
       "50%        0.000000     39.000000      0.000000     48.000000      1.000000   \n",
       "75%        1.000000     51.000000      0.000000    140.000000      1.000000   \n",
       "max        1.000000    100.000000      1.000000    249.000000      2.000000   \n",
       "\n",
       "        indrel_1mes          ...           ind_nomina_ult1  ind_nom_pens_ult1  \\\n",
       "count  92549.000000          ...              92549.000000       92549.000000   \n",
       "mean       1.000292          ...                  0.057742           0.062043   \n",
       "std        0.037622          ...                  0.233257           0.241235   \n",
       "min       -2.000000          ...                  0.000000           0.000000   \n",
       "25%        1.000000          ...                  0.000000           0.000000   \n",
       "50%        1.000000          ...                  0.000000           0.000000   \n",
       "75%        1.000000          ...                  0.000000           0.000000   \n",
       "max        4.000000          ...                  1.000000           1.000000   \n",
       "\n",
       "       ind_recibo_ult1  fecha_dato_month  fecha_dato_year     month_int  \\\n",
       "count     92549.000000      92549.000000          92549.0  92549.000000   \n",
       "mean          0.132892          5.787323              0.0      5.787323   \n",
       "std           0.339460          2.855817              0.0      2.855817   \n",
       "min           0.000000          1.000000              0.0      1.000000   \n",
       "25%           0.000000          3.000000              0.0      3.000000   \n",
       "50%           0.000000          6.000000              0.0      6.000000   \n",
       "75%           0.000000          8.000000              0.0      8.000000   \n",
       "max           1.000000         10.000000              0.0     10.000000   \n",
       "\n",
       "       fecha_alta_month  fecha_alta_year  fecha_alta_day  fecha_alta_month_int  \n",
       "count      92549.000000     92549.000000    92549.000000          92549.000000  \n",
       "mean           7.397562        -9.382867       15.821468              7.397562  \n",
       "std            3.267457         6.513818        8.894133              3.267457  \n",
       "min            1.000000       -20.000000        1.000000              1.000000  \n",
       "25%            5.000000       -14.000000        8.000000              5.000000  \n",
       "50%            8.000000        -9.000000       16.000000              8.000000  \n",
       "75%           10.000000        -3.000000       24.000000             10.000000  \n",
       "max           12.000000         0.000000       31.000000             12.000000  \n",
       "\n",
       "[8 rows x 50 columns]"
      ]
     },
     "execution_count": 62,
     "metadata": {},
     "output_type": "execute_result"
    }
   ],
   "source": [
    "train_df.describe()"
   ]
  },
  {
   "cell_type": "code",
   "execution_count": 63,
   "metadata": {
    "collapsed": false
   },
   "outputs": [
    {
     "data": {
      "text/html": [
       "<div>\n",
       "<table border=\"1\" class=\"dataframe\">\n",
       "  <thead>\n",
       "    <tr style=\"text-align: right;\">\n",
       "      <th></th>\n",
       "      <th>tiprel_1mes</th>\n",
       "      <th>indresi</th>\n",
       "      <th>indext</th>\n",
       "      <th>canal_entrada</th>\n",
       "      <th>indfall</th>\n",
       "      <th>cod_prov</th>\n",
       "      <th>ind_actividad_cliente</th>\n",
       "      <th>renta</th>\n",
       "      <th>segmento</th>\n",
       "      <th>ind_ahor_fin_ult1</th>\n",
       "      <th>...</th>\n",
       "      <th>ind_ecue_fin_ult1</th>\n",
       "      <th>ind_fond_fin_ult1</th>\n",
       "      <th>ind_hip_fin_ult1</th>\n",
       "      <th>ind_plan_fin_ult1</th>\n",
       "      <th>ind_pres_fin_ult1</th>\n",
       "      <th>ind_reca_fin_ult1</th>\n",
       "      <th>ind_tjcr_fin_ult1</th>\n",
       "      <th>ind_valo_fin_ult1</th>\n",
       "      <th>ind_viv_fin_ult1</th>\n",
       "      <th>ind_nomina_ult1</th>\n",
       "    </tr>\n",
       "  </thead>\n",
       "  <tbody>\n",
       "    <tr>\n",
       "      <th>count</th>\n",
       "      <td>92549.000000</td>\n",
       "      <td>92549.000000</td>\n",
       "      <td>92549.000000</td>\n",
       "      <td>92549.000000</td>\n",
       "      <td>92549.000000</td>\n",
       "      <td>92549.000000</td>\n",
       "      <td>92549.000000</td>\n",
       "      <td>9.254900e+04</td>\n",
       "      <td>92549.000000</td>\n",
       "      <td>92549.0</td>\n",
       "      <td>...</td>\n",
       "      <td>92549.000000</td>\n",
       "      <td>92549.000000</td>\n",
       "      <td>92549.000000</td>\n",
       "      <td>92549.000000</td>\n",
       "      <td>92549.000000</td>\n",
       "      <td>92549.000000</td>\n",
       "      <td>92549.000000</td>\n",
       "      <td>92549.000000</td>\n",
       "      <td>92549.000000</td>\n",
       "      <td>92549.000000</td>\n",
       "    </tr>\n",
       "    <tr>\n",
       "      <th>mean</th>\n",
       "      <td>0.511610</td>\n",
       "      <td>0.995602</td>\n",
       "      <td>0.045100</td>\n",
       "      <td>9.366120</td>\n",
       "      <td>0.002528</td>\n",
       "      <td>26.448022</td>\n",
       "      <td>0.483258</td>\n",
       "      <td>1.281819e+05</td>\n",
       "      <td>2.308928</td>\n",
       "      <td>0.0</td>\n",
       "      <td>...</td>\n",
       "      <td>0.084485</td>\n",
       "      <td>0.021589</td>\n",
       "      <td>0.006861</td>\n",
       "      <td>0.010211</td>\n",
       "      <td>0.002410</td>\n",
       "      <td>0.054242</td>\n",
       "      <td>0.049282</td>\n",
       "      <td>0.028190</td>\n",
       "      <td>0.003036</td>\n",
       "      <td>0.057742</td>\n",
       "    </tr>\n",
       "    <tr>\n",
       "      <th>std</th>\n",
       "      <td>0.500904</td>\n",
       "      <td>0.066169</td>\n",
       "      <td>0.207526</td>\n",
       "      <td>22.088076</td>\n",
       "      <td>0.050220</td>\n",
       "      <td>12.747415</td>\n",
       "      <td>0.499722</td>\n",
       "      <td>1.795710e+05</td>\n",
       "      <td>0.550694</td>\n",
       "      <td>0.0</td>\n",
       "      <td>...</td>\n",
       "      <td>0.278115</td>\n",
       "      <td>0.145337</td>\n",
       "      <td>0.082548</td>\n",
       "      <td>0.100532</td>\n",
       "      <td>0.049028</td>\n",
       "      <td>0.226495</td>\n",
       "      <td>0.216457</td>\n",
       "      <td>0.165518</td>\n",
       "      <td>0.055019</td>\n",
       "      <td>0.233257</td>\n",
       "    </tr>\n",
       "    <tr>\n",
       "      <th>min</th>\n",
       "      <td>0.000000</td>\n",
       "      <td>0.000000</td>\n",
       "      <td>0.000000</td>\n",
       "      <td>0.000000</td>\n",
       "      <td>0.000000</td>\n",
       "      <td>1.000000</td>\n",
       "      <td>0.000000</td>\n",
       "      <td>7.143540e+03</td>\n",
       "      <td>1.000000</td>\n",
       "      <td>0.0</td>\n",
       "      <td>...</td>\n",
       "      <td>0.000000</td>\n",
       "      <td>0.000000</td>\n",
       "      <td>0.000000</td>\n",
       "      <td>0.000000</td>\n",
       "      <td>0.000000</td>\n",
       "      <td>0.000000</td>\n",
       "      <td>0.000000</td>\n",
       "      <td>0.000000</td>\n",
       "      <td>0.000000</td>\n",
       "      <td>0.000000</td>\n",
       "    </tr>\n",
       "    <tr>\n",
       "      <th>25%</th>\n",
       "      <td>0.000000</td>\n",
       "      <td>1.000000</td>\n",
       "      <td>0.000000</td>\n",
       "      <td>1.000000</td>\n",
       "      <td>0.000000</td>\n",
       "      <td>15.000000</td>\n",
       "      <td>0.000000</td>\n",
       "      <td>7.303491e+04</td>\n",
       "      <td>2.000000</td>\n",
       "      <td>0.0</td>\n",
       "      <td>...</td>\n",
       "      <td>0.000000</td>\n",
       "      <td>0.000000</td>\n",
       "      <td>0.000000</td>\n",
       "      <td>0.000000</td>\n",
       "      <td>0.000000</td>\n",
       "      <td>0.000000</td>\n",
       "      <td>0.000000</td>\n",
       "      <td>0.000000</td>\n",
       "      <td>0.000000</td>\n",
       "      <td>0.000000</td>\n",
       "    </tr>\n",
       "    <tr>\n",
       "      <th>50%</th>\n",
       "      <td>1.000000</td>\n",
       "      <td>1.000000</td>\n",
       "      <td>0.000000</td>\n",
       "      <td>4.000000</td>\n",
       "      <td>0.000000</td>\n",
       "      <td>28.000000</td>\n",
       "      <td>0.000000</td>\n",
       "      <td>9.987369e+04</td>\n",
       "      <td>2.000000</td>\n",
       "      <td>0.0</td>\n",
       "      <td>...</td>\n",
       "      <td>0.000000</td>\n",
       "      <td>0.000000</td>\n",
       "      <td>0.000000</td>\n",
       "      <td>0.000000</td>\n",
       "      <td>0.000000</td>\n",
       "      <td>0.000000</td>\n",
       "      <td>0.000000</td>\n",
       "      <td>0.000000</td>\n",
       "      <td>0.000000</td>\n",
       "      <td>0.000000</td>\n",
       "    </tr>\n",
       "    <tr>\n",
       "      <th>75%</th>\n",
       "      <td>1.000000</td>\n",
       "      <td>1.000000</td>\n",
       "      <td>0.000000</td>\n",
       "      <td>5.000000</td>\n",
       "      <td>0.000000</td>\n",
       "      <td>33.000000</td>\n",
       "      <td>1.000000</td>\n",
       "      <td>1.418798e+05</td>\n",
       "      <td>3.000000</td>\n",
       "      <td>0.0</td>\n",
       "      <td>...</td>\n",
       "      <td>0.000000</td>\n",
       "      <td>0.000000</td>\n",
       "      <td>0.000000</td>\n",
       "      <td>0.000000</td>\n",
       "      <td>0.000000</td>\n",
       "      <td>0.000000</td>\n",
       "      <td>0.000000</td>\n",
       "      <td>0.000000</td>\n",
       "      <td>0.000000</td>\n",
       "      <td>0.000000</td>\n",
       "    </tr>\n",
       "    <tr>\n",
       "      <th>max</th>\n",
       "      <td>4.000000</td>\n",
       "      <td>1.000000</td>\n",
       "      <td>1.000000</td>\n",
       "      <td>157.000000</td>\n",
       "      <td>1.000000</td>\n",
       "      <td>52.000000</td>\n",
       "      <td>1.000000</td>\n",
       "      <td>1.185786e+07</td>\n",
       "      <td>3.000000</td>\n",
       "      <td>0.0</td>\n",
       "      <td>...</td>\n",
       "      <td>1.000000</td>\n",
       "      <td>1.000000</td>\n",
       "      <td>1.000000</td>\n",
       "      <td>1.000000</td>\n",
       "      <td>1.000000</td>\n",
       "      <td>1.000000</td>\n",
       "      <td>1.000000</td>\n",
       "      <td>1.000000</td>\n",
       "      <td>1.000000</td>\n",
       "      <td>1.000000</td>\n",
       "    </tr>\n",
       "  </tbody>\n",
       "</table>\n",
       "<p>8 rows × 31 columns</p>\n",
       "</div>"
      ],
      "text/plain": [
       "        tiprel_1mes       indresi        indext  canal_entrada       indfall  \\\n",
       "count  92549.000000  92549.000000  92549.000000   92549.000000  92549.000000   \n",
       "mean       0.511610      0.995602      0.045100       9.366120      0.002528   \n",
       "std        0.500904      0.066169      0.207526      22.088076      0.050220   \n",
       "min        0.000000      0.000000      0.000000       0.000000      0.000000   \n",
       "25%        0.000000      1.000000      0.000000       1.000000      0.000000   \n",
       "50%        1.000000      1.000000      0.000000       4.000000      0.000000   \n",
       "75%        1.000000      1.000000      0.000000       5.000000      0.000000   \n",
       "max        4.000000      1.000000      1.000000     157.000000      1.000000   \n",
       "\n",
       "           cod_prov  ind_actividad_cliente         renta      segmento  \\\n",
       "count  92549.000000           92549.000000  9.254900e+04  92549.000000   \n",
       "mean      26.448022               0.483258  1.281819e+05      2.308928   \n",
       "std       12.747415               0.499722  1.795710e+05      0.550694   \n",
       "min        1.000000               0.000000  7.143540e+03      1.000000   \n",
       "25%       15.000000               0.000000  7.303491e+04      2.000000   \n",
       "50%       28.000000               0.000000  9.987369e+04      2.000000   \n",
       "75%       33.000000               1.000000  1.418798e+05      3.000000   \n",
       "max       52.000000               1.000000  1.185786e+07      3.000000   \n",
       "\n",
       "       ind_ahor_fin_ult1       ...         ind_ecue_fin_ult1  \\\n",
       "count            92549.0       ...              92549.000000   \n",
       "mean                 0.0       ...                  0.084485   \n",
       "std                  0.0       ...                  0.278115   \n",
       "min                  0.0       ...                  0.000000   \n",
       "25%                  0.0       ...                  0.000000   \n",
       "50%                  0.0       ...                  0.000000   \n",
       "75%                  0.0       ...                  0.000000   \n",
       "max                  0.0       ...                  1.000000   \n",
       "\n",
       "       ind_fond_fin_ult1  ind_hip_fin_ult1  ind_plan_fin_ult1  \\\n",
       "count       92549.000000      92549.000000       92549.000000   \n",
       "mean            0.021589          0.006861           0.010211   \n",
       "std             0.145337          0.082548           0.100532   \n",
       "min             0.000000          0.000000           0.000000   \n",
       "25%             0.000000          0.000000           0.000000   \n",
       "50%             0.000000          0.000000           0.000000   \n",
       "75%             0.000000          0.000000           0.000000   \n",
       "max             1.000000          1.000000           1.000000   \n",
       "\n",
       "       ind_pres_fin_ult1  ind_reca_fin_ult1  ind_tjcr_fin_ult1  \\\n",
       "count       92549.000000       92549.000000       92549.000000   \n",
       "mean            0.002410           0.054242           0.049282   \n",
       "std             0.049028           0.226495           0.216457   \n",
       "min             0.000000           0.000000           0.000000   \n",
       "25%             0.000000           0.000000           0.000000   \n",
       "50%             0.000000           0.000000           0.000000   \n",
       "75%             0.000000           0.000000           0.000000   \n",
       "max             1.000000           1.000000           1.000000   \n",
       "\n",
       "       ind_valo_fin_ult1  ind_viv_fin_ult1  ind_nomina_ult1  \n",
       "count       92549.000000      92549.000000     92549.000000  \n",
       "mean            0.028190          0.003036         0.057742  \n",
       "std             0.165518          0.055019         0.233257  \n",
       "min             0.000000          0.000000         0.000000  \n",
       "25%             0.000000          0.000000         0.000000  \n",
       "50%             0.000000          0.000000         0.000000  \n",
       "75%             0.000000          0.000000         0.000000  \n",
       "max             1.000000          1.000000         1.000000  \n",
       "\n",
       "[8 rows x 31 columns]"
      ]
     },
     "execution_count": 63,
     "metadata": {},
     "output_type": "execute_result"
    }
   ],
   "source": [
    "train_df.ix[:,'tiprel_1mes':'ind_nomina_ult1'].describe()"
   ]
  },
  {
   "cell_type": "code",
   "execution_count": 64,
   "metadata": {
    "collapsed": false
   },
   "outputs": [
    {
     "data": {
      "text/html": [
       "<div>\n",
       "<table border=\"1\" class=\"dataframe\">\n",
       "  <thead>\n",
       "    <tr style=\"text-align: right;\">\n",
       "      <th></th>\n",
       "      <th>renta</th>\n",
       "      <th>segmento</th>\n",
       "      <th>ind_ahor_fin_ult1</th>\n",
       "      <th>ind_aval_fin_ult1</th>\n",
       "      <th>ind_cco_fin_ult1</th>\n",
       "      <th>ind_cder_fin_ult1</th>\n",
       "      <th>ind_cno_fin_ult1</th>\n",
       "      <th>ind_ctju_fin_ult1</th>\n",
       "      <th>ind_ctma_fin_ult1</th>\n",
       "      <th>ind_ctop_fin_ult1</th>\n",
       "      <th>ind_ctpp_fin_ult1</th>\n",
       "      <th>ind_deco_fin_ult1</th>\n",
       "      <th>ind_deme_fin_ult1</th>\n",
       "      <th>ind_dela_fin_ult1</th>\n",
       "      <th>ind_ecue_fin_ult1</th>\n",
       "    </tr>\n",
       "  </thead>\n",
       "  <tbody>\n",
       "    <tr>\n",
       "      <th>count</th>\n",
       "      <td>9.254900e+04</td>\n",
       "      <td>92549.000000</td>\n",
       "      <td>92549.0</td>\n",
       "      <td>92549.000000</td>\n",
       "      <td>92549.000000</td>\n",
       "      <td>92549.000000</td>\n",
       "      <td>92549.000000</td>\n",
       "      <td>92549.000000</td>\n",
       "      <td>92549.000000</td>\n",
       "      <td>92549.000000</td>\n",
       "      <td>92549.000000</td>\n",
       "      <td>92549.000000</td>\n",
       "      <td>92549.000000</td>\n",
       "      <td>92549.000000</td>\n",
       "      <td>92549.000000</td>\n",
       "    </tr>\n",
       "    <tr>\n",
       "      <th>mean</th>\n",
       "      <td>1.281819e+05</td>\n",
       "      <td>2.308928</td>\n",
       "      <td>0.0</td>\n",
       "      <td>0.000065</td>\n",
       "      <td>0.705108</td>\n",
       "      <td>0.000443</td>\n",
       "      <td>0.082659</td>\n",
       "      <td>0.012685</td>\n",
       "      <td>0.010340</td>\n",
       "      <td>0.148667</td>\n",
       "      <td>0.048785</td>\n",
       "      <td>0.002604</td>\n",
       "      <td>0.002917</td>\n",
       "      <td>0.048785</td>\n",
       "      <td>0.084485</td>\n",
       "    </tr>\n",
       "    <tr>\n",
       "      <th>std</th>\n",
       "      <td>1.795710e+05</td>\n",
       "      <td>0.550694</td>\n",
       "      <td>0.0</td>\n",
       "      <td>0.008052</td>\n",
       "      <td>0.455997</td>\n",
       "      <td>0.021043</td>\n",
       "      <td>0.275367</td>\n",
       "      <td>0.111912</td>\n",
       "      <td>0.101162</td>\n",
       "      <td>0.355762</td>\n",
       "      <td>0.215419</td>\n",
       "      <td>0.050963</td>\n",
       "      <td>0.053934</td>\n",
       "      <td>0.215419</td>\n",
       "      <td>0.278115</td>\n",
       "    </tr>\n",
       "    <tr>\n",
       "      <th>min</th>\n",
       "      <td>7.143540e+03</td>\n",
       "      <td>1.000000</td>\n",
       "      <td>0.0</td>\n",
       "      <td>0.000000</td>\n",
       "      <td>0.000000</td>\n",
       "      <td>0.000000</td>\n",
       "      <td>0.000000</td>\n",
       "      <td>0.000000</td>\n",
       "      <td>0.000000</td>\n",
       "      <td>0.000000</td>\n",
       "      <td>0.000000</td>\n",
       "      <td>0.000000</td>\n",
       "      <td>0.000000</td>\n",
       "      <td>0.000000</td>\n",
       "      <td>0.000000</td>\n",
       "    </tr>\n",
       "    <tr>\n",
       "      <th>25%</th>\n",
       "      <td>7.303491e+04</td>\n",
       "      <td>2.000000</td>\n",
       "      <td>0.0</td>\n",
       "      <td>0.000000</td>\n",
       "      <td>0.000000</td>\n",
       "      <td>0.000000</td>\n",
       "      <td>0.000000</td>\n",
       "      <td>0.000000</td>\n",
       "      <td>0.000000</td>\n",
       "      <td>0.000000</td>\n",
       "      <td>0.000000</td>\n",
       "      <td>0.000000</td>\n",
       "      <td>0.000000</td>\n",
       "      <td>0.000000</td>\n",
       "      <td>0.000000</td>\n",
       "    </tr>\n",
       "    <tr>\n",
       "      <th>50%</th>\n",
       "      <td>9.987369e+04</td>\n",
       "      <td>2.000000</td>\n",
       "      <td>0.0</td>\n",
       "      <td>0.000000</td>\n",
       "      <td>1.000000</td>\n",
       "      <td>0.000000</td>\n",
       "      <td>0.000000</td>\n",
       "      <td>0.000000</td>\n",
       "      <td>0.000000</td>\n",
       "      <td>0.000000</td>\n",
       "      <td>0.000000</td>\n",
       "      <td>0.000000</td>\n",
       "      <td>0.000000</td>\n",
       "      <td>0.000000</td>\n",
       "      <td>0.000000</td>\n",
       "    </tr>\n",
       "    <tr>\n",
       "      <th>75%</th>\n",
       "      <td>1.418798e+05</td>\n",
       "      <td>3.000000</td>\n",
       "      <td>0.0</td>\n",
       "      <td>0.000000</td>\n",
       "      <td>1.000000</td>\n",
       "      <td>0.000000</td>\n",
       "      <td>0.000000</td>\n",
       "      <td>0.000000</td>\n",
       "      <td>0.000000</td>\n",
       "      <td>0.000000</td>\n",
       "      <td>0.000000</td>\n",
       "      <td>0.000000</td>\n",
       "      <td>0.000000</td>\n",
       "      <td>0.000000</td>\n",
       "      <td>0.000000</td>\n",
       "    </tr>\n",
       "    <tr>\n",
       "      <th>max</th>\n",
       "      <td>1.185786e+07</td>\n",
       "      <td>3.000000</td>\n",
       "      <td>0.0</td>\n",
       "      <td>1.000000</td>\n",
       "      <td>1.000000</td>\n",
       "      <td>1.000000</td>\n",
       "      <td>1.000000</td>\n",
       "      <td>1.000000</td>\n",
       "      <td>1.000000</td>\n",
       "      <td>1.000000</td>\n",
       "      <td>1.000000</td>\n",
       "      <td>1.000000</td>\n",
       "      <td>1.000000</td>\n",
       "      <td>1.000000</td>\n",
       "      <td>1.000000</td>\n",
       "    </tr>\n",
       "  </tbody>\n",
       "</table>\n",
       "</div>"
      ],
      "text/plain": [
       "              renta      segmento  ind_ahor_fin_ult1  ind_aval_fin_ult1  \\\n",
       "count  9.254900e+04  92549.000000            92549.0       92549.000000   \n",
       "mean   1.281819e+05      2.308928                0.0           0.000065   \n",
       "std    1.795710e+05      0.550694                0.0           0.008052   \n",
       "min    7.143540e+03      1.000000                0.0           0.000000   \n",
       "25%    7.303491e+04      2.000000                0.0           0.000000   \n",
       "50%    9.987369e+04      2.000000                0.0           0.000000   \n",
       "75%    1.418798e+05      3.000000                0.0           0.000000   \n",
       "max    1.185786e+07      3.000000                0.0           1.000000   \n",
       "\n",
       "       ind_cco_fin_ult1  ind_cder_fin_ult1  ind_cno_fin_ult1  \\\n",
       "count      92549.000000       92549.000000      92549.000000   \n",
       "mean           0.705108           0.000443          0.082659   \n",
       "std            0.455997           0.021043          0.275367   \n",
       "min            0.000000           0.000000          0.000000   \n",
       "25%            0.000000           0.000000          0.000000   \n",
       "50%            1.000000           0.000000          0.000000   \n",
       "75%            1.000000           0.000000          0.000000   \n",
       "max            1.000000           1.000000          1.000000   \n",
       "\n",
       "       ind_ctju_fin_ult1  ind_ctma_fin_ult1  ind_ctop_fin_ult1  \\\n",
       "count       92549.000000       92549.000000       92549.000000   \n",
       "mean            0.012685           0.010340           0.148667   \n",
       "std             0.111912           0.101162           0.355762   \n",
       "min             0.000000           0.000000           0.000000   \n",
       "25%             0.000000           0.000000           0.000000   \n",
       "50%             0.000000           0.000000           0.000000   \n",
       "75%             0.000000           0.000000           0.000000   \n",
       "max             1.000000           1.000000           1.000000   \n",
       "\n",
       "       ind_ctpp_fin_ult1  ind_deco_fin_ult1  ind_deme_fin_ult1  \\\n",
       "count       92549.000000       92549.000000       92549.000000   \n",
       "mean            0.048785           0.002604           0.002917   \n",
       "std             0.215419           0.050963           0.053934   \n",
       "min             0.000000           0.000000           0.000000   \n",
       "25%             0.000000           0.000000           0.000000   \n",
       "50%             0.000000           0.000000           0.000000   \n",
       "75%             0.000000           0.000000           0.000000   \n",
       "max             1.000000           1.000000           1.000000   \n",
       "\n",
       "       ind_dela_fin_ult1  ind_ecue_fin_ult1  \n",
       "count       92549.000000       92549.000000  \n",
       "mean            0.048785           0.084485  \n",
       "std             0.215419           0.278115  \n",
       "min             0.000000           0.000000  \n",
       "25%             0.000000           0.000000  \n",
       "50%             0.000000           0.000000  \n",
       "75%             0.000000           0.000000  \n",
       "max             1.000000           1.000000  "
      ]
     },
     "execution_count": 64,
     "metadata": {},
     "output_type": "execute_result"
    }
   ],
   "source": [
    "train_df.ix[:,'renta':'ind_ecue_fin_ult1'].describe()"
   ]
  },
  {
   "cell_type": "markdown",
   "metadata": {},
   "source": [
    "resize data"
   ]
  },
  {
   "cell_type": "code",
   "execution_count": 65,
   "metadata": {
    "collapsed": false,
    "scrolled": true
   },
   "outputs": [
    {
     "data": {
      "text/html": [
       "<div>\n",
       "<table border=\"1\" class=\"dataframe\">\n",
       "  <thead>\n",
       "    <tr style=\"text-align: right;\">\n",
       "      <th></th>\n",
       "      <th>index</th>\n",
       "      <th>ncodpers</th>\n",
       "      <th>ind_empleado</th>\n",
       "      <th>pais_residencia</th>\n",
       "      <th>sexo</th>\n",
       "      <th>age</th>\n",
       "      <th>ind_nuevo</th>\n",
       "      <th>antiguedad</th>\n",
       "      <th>indrel</th>\n",
       "      <th>indrel_1mes</th>\n",
       "      <th>...</th>\n",
       "      <th>ind_actividad_cliente</th>\n",
       "      <th>renta</th>\n",
       "      <th>segmento</th>\n",
       "      <th>fecha_dato_month</th>\n",
       "      <th>fecha_dato_year</th>\n",
       "      <th>month_int</th>\n",
       "      <th>fecha_alta_month</th>\n",
       "      <th>fecha_alta_year</th>\n",
       "      <th>fecha_alta_day</th>\n",
       "      <th>fecha_alta_month_int</th>\n",
       "    </tr>\n",
       "  </thead>\n",
       "  <tbody>\n",
       "    <tr>\n",
       "      <th>0</th>\n",
       "      <td>791423</td>\n",
       "      <td>891715</td>\n",
       "      <td>0</td>\n",
       "      <td>0</td>\n",
       "      <td>0</td>\n",
       "      <td>42</td>\n",
       "      <td>0</td>\n",
       "      <td>69</td>\n",
       "      <td>1</td>\n",
       "      <td>1</td>\n",
       "      <td>...</td>\n",
       "      <td>0</td>\n",
       "      <td>-2.000000</td>\n",
       "      <td>2</td>\n",
       "      <td>6</td>\n",
       "      <td>1</td>\n",
       "      <td>18</td>\n",
       "      <td>9</td>\n",
       "      <td>-5</td>\n",
       "      <td>15</td>\n",
       "      <td>21</td>\n",
       "    </tr>\n",
       "    <tr>\n",
       "      <th>1</th>\n",
       "      <td>874349</td>\n",
       "      <td>702294</td>\n",
       "      <td>0</td>\n",
       "      <td>0</td>\n",
       "      <td>0</td>\n",
       "      <td>40</td>\n",
       "      <td>0</td>\n",
       "      <td>107</td>\n",
       "      <td>1</td>\n",
       "      <td>1</td>\n",
       "      <td>...</td>\n",
       "      <td>1</td>\n",
       "      <td>-2.000000</td>\n",
       "      <td>2</td>\n",
       "      <td>6</td>\n",
       "      <td>1</td>\n",
       "      <td>18</td>\n",
       "      <td>7</td>\n",
       "      <td>-8</td>\n",
       "      <td>10</td>\n",
       "      <td>19</td>\n",
       "    </tr>\n",
       "    <tr>\n",
       "      <th>2</th>\n",
       "      <td>570480</td>\n",
       "      <td>425683</td>\n",
       "      <td>0</td>\n",
       "      <td>0</td>\n",
       "      <td>1</td>\n",
       "      <td>44</td>\n",
       "      <td>0</td>\n",
       "      <td>156</td>\n",
       "      <td>1</td>\n",
       "      <td>1</td>\n",
       "      <td>...</td>\n",
       "      <td>1</td>\n",
       "      <td>-2.000000</td>\n",
       "      <td>2</td>\n",
       "      <td>6</td>\n",
       "      <td>1</td>\n",
       "      <td>18</td>\n",
       "      <td>7</td>\n",
       "      <td>-12</td>\n",
       "      <td>1</td>\n",
       "      <td>19</td>\n",
       "    </tr>\n",
       "    <tr>\n",
       "      <th>3</th>\n",
       "      <td>865971</td>\n",
       "      <td>515631</td>\n",
       "      <td>0</td>\n",
       "      <td>0</td>\n",
       "      <td>0</td>\n",
       "      <td>70</td>\n",
       "      <td>0</td>\n",
       "      <td>136</td>\n",
       "      <td>1</td>\n",
       "      <td>1</td>\n",
       "      <td>...</td>\n",
       "      <td>0</td>\n",
       "      <td>-2.000000</td>\n",
       "      <td>2</td>\n",
       "      <td>6</td>\n",
       "      <td>1</td>\n",
       "      <td>18</td>\n",
       "      <td>2</td>\n",
       "      <td>-10</td>\n",
       "      <td>3</td>\n",
       "      <td>14</td>\n",
       "    </tr>\n",
       "    <tr>\n",
       "      <th>4</th>\n",
       "      <td>842031</td>\n",
       "      <td>596057</td>\n",
       "      <td>0</td>\n",
       "      <td>0</td>\n",
       "      <td>0</td>\n",
       "      <td>66</td>\n",
       "      <td>0</td>\n",
       "      <td>123</td>\n",
       "      <td>1</td>\n",
       "      <td>1</td>\n",
       "      <td>...</td>\n",
       "      <td>0</td>\n",
       "      <td>-2.000000</td>\n",
       "      <td>2</td>\n",
       "      <td>6</td>\n",
       "      <td>1</td>\n",
       "      <td>18</td>\n",
       "      <td>3</td>\n",
       "      <td>-9</td>\n",
       "      <td>22</td>\n",
       "      <td>15</td>\n",
       "    </tr>\n",
       "    <tr>\n",
       "      <th>5</th>\n",
       "      <td>687336</td>\n",
       "      <td>184568</td>\n",
       "      <td>0</td>\n",
       "      <td>0</td>\n",
       "      <td>0</td>\n",
       "      <td>82</td>\n",
       "      <td>0</td>\n",
       "      <td>191</td>\n",
       "      <td>1</td>\n",
       "      <td>1</td>\n",
       "      <td>...</td>\n",
       "      <td>1</td>\n",
       "      <td>-2.000000</td>\n",
       "      <td>2</td>\n",
       "      <td>6</td>\n",
       "      <td>1</td>\n",
       "      <td>18</td>\n",
       "      <td>7</td>\n",
       "      <td>-15</td>\n",
       "      <td>24</td>\n",
       "      <td>19</td>\n",
       "    </tr>\n",
       "    <tr>\n",
       "      <th>6</th>\n",
       "      <td>269956</td>\n",
       "      <td>1430713</td>\n",
       "      <td>0</td>\n",
       "      <td>0</td>\n",
       "      <td>0</td>\n",
       "      <td>22</td>\n",
       "      <td>0</td>\n",
       "      <td>10</td>\n",
       "      <td>1</td>\n",
       "      <td>1</td>\n",
       "      <td>...</td>\n",
       "      <td>1</td>\n",
       "      <td>-2.000000</td>\n",
       "      <td>3</td>\n",
       "      <td>6</td>\n",
       "      <td>1</td>\n",
       "      <td>18</td>\n",
       "      <td>8</td>\n",
       "      <td>0</td>\n",
       "      <td>6</td>\n",
       "      <td>20</td>\n",
       "    </tr>\n",
       "    <tr>\n",
       "      <th>7</th>\n",
       "      <td>472592</td>\n",
       "      <td>313344</td>\n",
       "      <td>0</td>\n",
       "      <td>0</td>\n",
       "      <td>0</td>\n",
       "      <td>42</td>\n",
       "      <td>0</td>\n",
       "      <td>173</td>\n",
       "      <td>1</td>\n",
       "      <td>1</td>\n",
       "      <td>...</td>\n",
       "      <td>0</td>\n",
       "      <td>-2.000000</td>\n",
       "      <td>2</td>\n",
       "      <td>6</td>\n",
       "      <td>1</td>\n",
       "      <td>18</td>\n",
       "      <td>1</td>\n",
       "      <td>-13</td>\n",
       "      <td>7</td>\n",
       "      <td>13</td>\n",
       "    </tr>\n",
       "    <tr>\n",
       "      <th>8</th>\n",
       "      <td>80529</td>\n",
       "      <td>1250706</td>\n",
       "      <td>0</td>\n",
       "      <td>0</td>\n",
       "      <td>0</td>\n",
       "      <td>44</td>\n",
       "      <td>0</td>\n",
       "      <td>27</td>\n",
       "      <td>1</td>\n",
       "      <td>1</td>\n",
       "      <td>...</td>\n",
       "      <td>1</td>\n",
       "      <td>-2.000000</td>\n",
       "      <td>2</td>\n",
       "      <td>6</td>\n",
       "      <td>1</td>\n",
       "      <td>18</td>\n",
       "      <td>3</td>\n",
       "      <td>-1</td>\n",
       "      <td>27</td>\n",
       "      <td>15</td>\n",
       "    </tr>\n",
       "    <tr>\n",
       "      <th>9</th>\n",
       "      <td>475725</td>\n",
       "      <td>321548</td>\n",
       "      <td>0</td>\n",
       "      <td>0</td>\n",
       "      <td>0</td>\n",
       "      <td>60</td>\n",
       "      <td>0</td>\n",
       "      <td>160</td>\n",
       "      <td>1</td>\n",
       "      <td>1</td>\n",
       "      <td>...</td>\n",
       "      <td>1</td>\n",
       "      <td>-2.000000</td>\n",
       "      <td>2</td>\n",
       "      <td>6</td>\n",
       "      <td>1</td>\n",
       "      <td>18</td>\n",
       "      <td>1</td>\n",
       "      <td>-13</td>\n",
       "      <td>24</td>\n",
       "      <td>13</td>\n",
       "    </tr>\n",
       "    <tr>\n",
       "      <th>10</th>\n",
       "      <td>490908</td>\n",
       "      <td>351086</td>\n",
       "      <td>0</td>\n",
       "      <td>0</td>\n",
       "      <td>0</td>\n",
       "      <td>23</td>\n",
       "      <td>0</td>\n",
       "      <td>170</td>\n",
       "      <td>1</td>\n",
       "      <td>1</td>\n",
       "      <td>...</td>\n",
       "      <td>0</td>\n",
       "      <td>-2.000000</td>\n",
       "      <td>2</td>\n",
       "      <td>6</td>\n",
       "      <td>1</td>\n",
       "      <td>18</td>\n",
       "      <td>4</td>\n",
       "      <td>-13</td>\n",
       "      <td>16</td>\n",
       "      <td>16</td>\n",
       "    </tr>\n",
       "    <tr>\n",
       "      <th>11</th>\n",
       "      <td>898892</td>\n",
       "      <td>726218</td>\n",
       "      <td>0</td>\n",
       "      <td>0</td>\n",
       "      <td>0</td>\n",
       "      <td>36</td>\n",
       "      <td>0</td>\n",
       "      <td>104</td>\n",
       "      <td>1</td>\n",
       "      <td>1</td>\n",
       "      <td>...</td>\n",
       "      <td>1</td>\n",
       "      <td>-2.000000</td>\n",
       "      <td>2</td>\n",
       "      <td>6</td>\n",
       "      <td>1</td>\n",
       "      <td>18</td>\n",
       "      <td>10</td>\n",
       "      <td>-8</td>\n",
       "      <td>16</td>\n",
       "      <td>22</td>\n",
       "    </tr>\n",
       "    <tr>\n",
       "      <th>12</th>\n",
       "      <td>914095</td>\n",
       "      <td>627069</td>\n",
       "      <td>0</td>\n",
       "      <td>0</td>\n",
       "      <td>1</td>\n",
       "      <td>42</td>\n",
       "      <td>0</td>\n",
       "      <td>119</td>\n",
       "      <td>1</td>\n",
       "      <td>1</td>\n",
       "      <td>...</td>\n",
       "      <td>0</td>\n",
       "      <td>-2.000000</td>\n",
       "      <td>2</td>\n",
       "      <td>6</td>\n",
       "      <td>1</td>\n",
       "      <td>18</td>\n",
       "      <td>7</td>\n",
       "      <td>-9</td>\n",
       "      <td>12</td>\n",
       "      <td>19</td>\n",
       "    </tr>\n",
       "    <tr>\n",
       "      <th>13</th>\n",
       "      <td>582641</td>\n",
       "      <td>93287</td>\n",
       "      <td>0</td>\n",
       "      <td>0</td>\n",
       "      <td>0</td>\n",
       "      <td>44</td>\n",
       "      <td>0</td>\n",
       "      <td>218</td>\n",
       "      <td>1</td>\n",
       "      <td>1</td>\n",
       "      <td>...</td>\n",
       "      <td>1</td>\n",
       "      <td>-2.000000</td>\n",
       "      <td>2</td>\n",
       "      <td>6</td>\n",
       "      <td>1</td>\n",
       "      <td>18</td>\n",
       "      <td>4</td>\n",
       "      <td>-17</td>\n",
       "      <td>20</td>\n",
       "      <td>16</td>\n",
       "    </tr>\n",
       "    <tr>\n",
       "      <th>14</th>\n",
       "      <td>850049</td>\n",
       "      <td>489174</td>\n",
       "      <td>0</td>\n",
       "      <td>0</td>\n",
       "      <td>0</td>\n",
       "      <td>42</td>\n",
       "      <td>0</td>\n",
       "      <td>142</td>\n",
       "      <td>1</td>\n",
       "      <td>1</td>\n",
       "      <td>...</td>\n",
       "      <td>1</td>\n",
       "      <td>-2.000000</td>\n",
       "      <td>2</td>\n",
       "      <td>6</td>\n",
       "      <td>1</td>\n",
       "      <td>18</td>\n",
       "      <td>9</td>\n",
       "      <td>-11</td>\n",
       "      <td>1</td>\n",
       "      <td>21</td>\n",
       "    </tr>\n",
       "    <tr>\n",
       "      <th>15</th>\n",
       "      <td>678992</td>\n",
       "      <td>144797</td>\n",
       "      <td>0</td>\n",
       "      <td>0</td>\n",
       "      <td>0</td>\n",
       "      <td>63</td>\n",
       "      <td>0</td>\n",
       "      <td>200</td>\n",
       "      <td>1</td>\n",
       "      <td>1</td>\n",
       "      <td>...</td>\n",
       "      <td>0</td>\n",
       "      <td>-2.000000</td>\n",
       "      <td>2</td>\n",
       "      <td>6</td>\n",
       "      <td>1</td>\n",
       "      <td>18</td>\n",
       "      <td>10</td>\n",
       "      <td>-16</td>\n",
       "      <td>6</td>\n",
       "      <td>22</td>\n",
       "    </tr>\n",
       "    <tr>\n",
       "      <th>16</th>\n",
       "      <td>524436</td>\n",
       "      <td>447146</td>\n",
       "      <td>0</td>\n",
       "      <td>0</td>\n",
       "      <td>0</td>\n",
       "      <td>45</td>\n",
       "      <td>0</td>\n",
       "      <td>151</td>\n",
       "      <td>1</td>\n",
       "      <td>1</td>\n",
       "      <td>...</td>\n",
       "      <td>1</td>\n",
       "      <td>-2.000000</td>\n",
       "      <td>1</td>\n",
       "      <td>6</td>\n",
       "      <td>1</td>\n",
       "      <td>18</td>\n",
       "      <td>11</td>\n",
       "      <td>-12</td>\n",
       "      <td>29</td>\n",
       "      <td>23</td>\n",
       "    </tr>\n",
       "    <tr>\n",
       "      <th>17</th>\n",
       "      <td>36629</td>\n",
       "      <td>1118768</td>\n",
       "      <td>0</td>\n",
       "      <td>0</td>\n",
       "      <td>0</td>\n",
       "      <td>51</td>\n",
       "      <td>0</td>\n",
       "      <td>41</td>\n",
       "      <td>1</td>\n",
       "      <td>1</td>\n",
       "      <td>...</td>\n",
       "      <td>1</td>\n",
       "      <td>-2.000000</td>\n",
       "      <td>1</td>\n",
       "      <td>6</td>\n",
       "      <td>1</td>\n",
       "      <td>18</td>\n",
       "      <td>1</td>\n",
       "      <td>-2</td>\n",
       "      <td>21</td>\n",
       "      <td>13</td>\n",
       "    </tr>\n",
       "    <tr>\n",
       "      <th>18</th>\n",
       "      <td>192140</td>\n",
       "      <td>1106539</td>\n",
       "      <td>0</td>\n",
       "      <td>0</td>\n",
       "      <td>0</td>\n",
       "      <td>23</td>\n",
       "      <td>0</td>\n",
       "      <td>43</td>\n",
       "      <td>1</td>\n",
       "      <td>1</td>\n",
       "      <td>...</td>\n",
       "      <td>0</td>\n",
       "      <td>-2.000000</td>\n",
       "      <td>2</td>\n",
       "      <td>6</td>\n",
       "      <td>1</td>\n",
       "      <td>18</td>\n",
       "      <td>11</td>\n",
       "      <td>-3</td>\n",
       "      <td>27</td>\n",
       "      <td>23</td>\n",
       "    </tr>\n",
       "    <tr>\n",
       "      <th>19</th>\n",
       "      <td>560670</td>\n",
       "      <td>377055</td>\n",
       "      <td>0</td>\n",
       "      <td>0</td>\n",
       "      <td>1</td>\n",
       "      <td>40</td>\n",
       "      <td>0</td>\n",
       "      <td>167</td>\n",
       "      <td>1</td>\n",
       "      <td>1</td>\n",
       "      <td>...</td>\n",
       "      <td>1</td>\n",
       "      <td>173662.468750</td>\n",
       "      <td>2</td>\n",
       "      <td>6</td>\n",
       "      <td>1</td>\n",
       "      <td>18</td>\n",
       "      <td>8</td>\n",
       "      <td>-13</td>\n",
       "      <td>2</td>\n",
       "      <td>20</td>\n",
       "    </tr>\n",
       "    <tr>\n",
       "      <th>20</th>\n",
       "      <td>462176</td>\n",
       "      <td>1362856</td>\n",
       "      <td>0</td>\n",
       "      <td>0</td>\n",
       "      <td>1</td>\n",
       "      <td>24</td>\n",
       "      <td>0</td>\n",
       "      <td>19</td>\n",
       "      <td>1</td>\n",
       "      <td>1</td>\n",
       "      <td>...</td>\n",
       "      <td>0</td>\n",
       "      <td>-2.000000</td>\n",
       "      <td>3</td>\n",
       "      <td>6</td>\n",
       "      <td>1</td>\n",
       "      <td>18</td>\n",
       "      <td>11</td>\n",
       "      <td>-1</td>\n",
       "      <td>28</td>\n",
       "      <td>23</td>\n",
       "    </tr>\n",
       "    <tr>\n",
       "      <th>21</th>\n",
       "      <td>606743</td>\n",
       "      <td>116752</td>\n",
       "      <td>0</td>\n",
       "      <td>0</td>\n",
       "      <td>0</td>\n",
       "      <td>50</td>\n",
       "      <td>0</td>\n",
       "      <td>210</td>\n",
       "      <td>1</td>\n",
       "      <td>1</td>\n",
       "      <td>...</td>\n",
       "      <td>0</td>\n",
       "      <td>-2.000000</td>\n",
       "      <td>2</td>\n",
       "      <td>6</td>\n",
       "      <td>1</td>\n",
       "      <td>18</td>\n",
       "      <td>12</td>\n",
       "      <td>-17</td>\n",
       "      <td>28</td>\n",
       "      <td>24</td>\n",
       "    </tr>\n",
       "    <tr>\n",
       "      <th>22</th>\n",
       "      <td>623733</td>\n",
       "      <td>65374</td>\n",
       "      <td>0</td>\n",
       "      <td>0</td>\n",
       "      <td>1</td>\n",
       "      <td>62</td>\n",
       "      <td>0</td>\n",
       "      <td>139</td>\n",
       "      <td>1</td>\n",
       "      <td>1</td>\n",
       "      <td>...</td>\n",
       "      <td>1</td>\n",
       "      <td>-2.000000</td>\n",
       "      <td>1</td>\n",
       "      <td>6</td>\n",
       "      <td>1</td>\n",
       "      <td>18</td>\n",
       "      <td>6</td>\n",
       "      <td>-18</td>\n",
       "      <td>6</td>\n",
       "      <td>18</td>\n",
       "    </tr>\n",
       "    <tr>\n",
       "      <th>23</th>\n",
       "      <td>316270</td>\n",
       "      <td>1546569</td>\n",
       "      <td>0</td>\n",
       "      <td>0</td>\n",
       "      <td>1</td>\n",
       "      <td>29</td>\n",
       "      <td>1</td>\n",
       "      <td>2</td>\n",
       "      <td>1</td>\n",
       "      <td>1</td>\n",
       "      <td>...</td>\n",
       "      <td>1</td>\n",
       "      <td>-2.000000</td>\n",
       "      <td>2</td>\n",
       "      <td>6</td>\n",
       "      <td>1</td>\n",
       "      <td>18</td>\n",
       "      <td>4</td>\n",
       "      <td>1</td>\n",
       "      <td>20</td>\n",
       "      <td>16</td>\n",
       "    </tr>\n",
       "    <tr>\n",
       "      <th>24</th>\n",
       "      <td>481520</td>\n",
       "      <td>369706</td>\n",
       "      <td>0</td>\n",
       "      <td>0</td>\n",
       "      <td>1</td>\n",
       "      <td>29</td>\n",
       "      <td>0</td>\n",
       "      <td>113</td>\n",
       "      <td>1</td>\n",
       "      <td>1</td>\n",
       "      <td>...</td>\n",
       "      <td>1</td>\n",
       "      <td>-2.000000</td>\n",
       "      <td>3</td>\n",
       "      <td>6</td>\n",
       "      <td>1</td>\n",
       "      <td>18</td>\n",
       "      <td>7</td>\n",
       "      <td>-13</td>\n",
       "      <td>8</td>\n",
       "      <td>19</td>\n",
       "    </tr>\n",
       "    <tr>\n",
       "      <th>25</th>\n",
       "      <td>791421</td>\n",
       "      <td>891710</td>\n",
       "      <td>0</td>\n",
       "      <td>0</td>\n",
       "      <td>0</td>\n",
       "      <td>42</td>\n",
       "      <td>0</td>\n",
       "      <td>69</td>\n",
       "      <td>1</td>\n",
       "      <td>1</td>\n",
       "      <td>...</td>\n",
       "      <td>0</td>\n",
       "      <td>-2.000000</td>\n",
       "      <td>2</td>\n",
       "      <td>6</td>\n",
       "      <td>1</td>\n",
       "      <td>18</td>\n",
       "      <td>9</td>\n",
       "      <td>-5</td>\n",
       "      <td>15</td>\n",
       "      <td>21</td>\n",
       "    </tr>\n",
       "    <tr>\n",
       "      <th>26</th>\n",
       "      <td>926377</td>\n",
       "      <td>663144</td>\n",
       "      <td>0</td>\n",
       "      <td>0</td>\n",
       "      <td>1</td>\n",
       "      <td>45</td>\n",
       "      <td>0</td>\n",
       "      <td>114</td>\n",
       "      <td>1</td>\n",
       "      <td>1</td>\n",
       "      <td>...</td>\n",
       "      <td>0</td>\n",
       "      <td>-2.000000</td>\n",
       "      <td>2</td>\n",
       "      <td>6</td>\n",
       "      <td>1</td>\n",
       "      <td>18</td>\n",
       "      <td>12</td>\n",
       "      <td>-9</td>\n",
       "      <td>15</td>\n",
       "      <td>24</td>\n",
       "    </tr>\n",
       "    <tr>\n",
       "      <th>27</th>\n",
       "      <td>926376</td>\n",
       "      <td>663142</td>\n",
       "      <td>0</td>\n",
       "      <td>0</td>\n",
       "      <td>0</td>\n",
       "      <td>46</td>\n",
       "      <td>0</td>\n",
       "      <td>114</td>\n",
       "      <td>1</td>\n",
       "      <td>1</td>\n",
       "      <td>...</td>\n",
       "      <td>0</td>\n",
       "      <td>-2.000000</td>\n",
       "      <td>2</td>\n",
       "      <td>6</td>\n",
       "      <td>1</td>\n",
       "      <td>18</td>\n",
       "      <td>12</td>\n",
       "      <td>-9</td>\n",
       "      <td>15</td>\n",
       "      <td>24</td>\n",
       "    </tr>\n",
       "    <tr>\n",
       "      <th>28</th>\n",
       "      <td>724986</td>\n",
       "      <td>869394</td>\n",
       "      <td>0</td>\n",
       "      <td>0</td>\n",
       "      <td>0</td>\n",
       "      <td>53</td>\n",
       "      <td>0</td>\n",
       "      <td>75</td>\n",
       "      <td>1</td>\n",
       "      <td>1</td>\n",
       "      <td>...</td>\n",
       "      <td>1</td>\n",
       "      <td>-2.000000</td>\n",
       "      <td>2</td>\n",
       "      <td>6</td>\n",
       "      <td>1</td>\n",
       "      <td>18</td>\n",
       "      <td>3</td>\n",
       "      <td>-5</td>\n",
       "      <td>23</td>\n",
       "      <td>15</td>\n",
       "    </tr>\n",
       "    <tr>\n",
       "      <th>29</th>\n",
       "      <td>48146</td>\n",
       "      <td>1156499</td>\n",
       "      <td>0</td>\n",
       "      <td>0</td>\n",
       "      <td>0</td>\n",
       "      <td>22</td>\n",
       "      <td>0</td>\n",
       "      <td>34</td>\n",
       "      <td>1</td>\n",
       "      <td>1</td>\n",
       "      <td>...</td>\n",
       "      <td>1</td>\n",
       "      <td>-2.000000</td>\n",
       "      <td>3</td>\n",
       "      <td>6</td>\n",
       "      <td>1</td>\n",
       "      <td>18</td>\n",
       "      <td>8</td>\n",
       "      <td>-2</td>\n",
       "      <td>3</td>\n",
       "      <td>20</td>\n",
       "    </tr>\n",
       "    <tr>\n",
       "      <th>...</th>\n",
       "      <td>...</td>\n",
       "      <td>...</td>\n",
       "      <td>...</td>\n",
       "      <td>...</td>\n",
       "      <td>...</td>\n",
       "      <td>...</td>\n",
       "      <td>...</td>\n",
       "      <td>...</td>\n",
       "      <td>...</td>\n",
       "      <td>...</td>\n",
       "      <td>...</td>\n",
       "      <td>...</td>\n",
       "      <td>...</td>\n",
       "      <td>...</td>\n",
       "      <td>...</td>\n",
       "      <td>...</td>\n",
       "      <td>...</td>\n",
       "      <td>...</td>\n",
       "      <td>...</td>\n",
       "      <td>...</td>\n",
       "      <td>...</td>\n",
       "    </tr>\n",
       "    <tr>\n",
       "      <th>929585</th>\n",
       "      <td>752523</td>\n",
       "      <td>803996</td>\n",
       "      <td>0</td>\n",
       "      <td>0</td>\n",
       "      <td>0</td>\n",
       "      <td>39</td>\n",
       "      <td>0</td>\n",
       "      <td>92</td>\n",
       "      <td>1</td>\n",
       "      <td>1</td>\n",
       "      <td>...</td>\n",
       "      <td>1</td>\n",
       "      <td>-2.000000</td>\n",
       "      <td>2</td>\n",
       "      <td>6</td>\n",
       "      <td>1</td>\n",
       "      <td>18</td>\n",
       "      <td>10</td>\n",
       "      <td>-7</td>\n",
       "      <td>12</td>\n",
       "      <td>22</td>\n",
       "    </tr>\n",
       "    <tr>\n",
       "      <th>929586</th>\n",
       "      <td>114120</td>\n",
       "      <td>1217528</td>\n",
       "      <td>0</td>\n",
       "      <td>0</td>\n",
       "      <td>1</td>\n",
       "      <td>35</td>\n",
       "      <td>0</td>\n",
       "      <td>31</td>\n",
       "      <td>1</td>\n",
       "      <td>1</td>\n",
       "      <td>...</td>\n",
       "      <td>0</td>\n",
       "      <td>116037.179688</td>\n",
       "      <td>2</td>\n",
       "      <td>6</td>\n",
       "      <td>1</td>\n",
       "      <td>18</td>\n",
       "      <td>11</td>\n",
       "      <td>-2</td>\n",
       "      <td>11</td>\n",
       "      <td>23</td>\n",
       "    </tr>\n",
       "    <tr>\n",
       "      <th>929587</th>\n",
       "      <td>820048</td>\n",
       "      <td>579405</td>\n",
       "      <td>0</td>\n",
       "      <td>0</td>\n",
       "      <td>1</td>\n",
       "      <td>57</td>\n",
       "      <td>0</td>\n",
       "      <td>127</td>\n",
       "      <td>1</td>\n",
       "      <td>1</td>\n",
       "      <td>...</td>\n",
       "      <td>0</td>\n",
       "      <td>-2.000000</td>\n",
       "      <td>2</td>\n",
       "      <td>6</td>\n",
       "      <td>1</td>\n",
       "      <td>18</td>\n",
       "      <td>11</td>\n",
       "      <td>-10</td>\n",
       "      <td>14</td>\n",
       "      <td>23</td>\n",
       "    </tr>\n",
       "    <tr>\n",
       "      <th>929588</th>\n",
       "      <td>177662</td>\n",
       "      <td>1089338</td>\n",
       "      <td>0</td>\n",
       "      <td>0</td>\n",
       "      <td>0</td>\n",
       "      <td>24</td>\n",
       "      <td>0</td>\n",
       "      <td>44</td>\n",
       "      <td>1</td>\n",
       "      <td>1</td>\n",
       "      <td>...</td>\n",
       "      <td>0</td>\n",
       "      <td>97478.968750</td>\n",
       "      <td>3</td>\n",
       "      <td>6</td>\n",
       "      <td>1</td>\n",
       "      <td>18</td>\n",
       "      <td>10</td>\n",
       "      <td>-3</td>\n",
       "      <td>26</td>\n",
       "      <td>22</td>\n",
       "    </tr>\n",
       "    <tr>\n",
       "      <th>929589</th>\n",
       "      <td>153369</td>\n",
       "      <td>971903</td>\n",
       "      <td>0</td>\n",
       "      <td>0</td>\n",
       "      <td>1</td>\n",
       "      <td>26</td>\n",
       "      <td>0</td>\n",
       "      <td>55</td>\n",
       "      <td>1</td>\n",
       "      <td>1</td>\n",
       "      <td>...</td>\n",
       "      <td>0</td>\n",
       "      <td>-2.000000</td>\n",
       "      <td>3</td>\n",
       "      <td>6</td>\n",
       "      <td>1</td>\n",
       "      <td>18</td>\n",
       "      <td>11</td>\n",
       "      <td>-4</td>\n",
       "      <td>2</td>\n",
       "      <td>23</td>\n",
       "    </tr>\n",
       "    <tr>\n",
       "      <th>929590</th>\n",
       "      <td>838804</td>\n",
       "      <td>599031</td>\n",
       "      <td>0</td>\n",
       "      <td>0</td>\n",
       "      <td>0</td>\n",
       "      <td>55</td>\n",
       "      <td>0</td>\n",
       "      <td>124</td>\n",
       "      <td>1</td>\n",
       "      <td>1</td>\n",
       "      <td>...</td>\n",
       "      <td>1</td>\n",
       "      <td>100115.367188</td>\n",
       "      <td>2</td>\n",
       "      <td>6</td>\n",
       "      <td>1</td>\n",
       "      <td>18</td>\n",
       "      <td>2</td>\n",
       "      <td>-9</td>\n",
       "      <td>24</td>\n",
       "      <td>14</td>\n",
       "    </tr>\n",
       "    <tr>\n",
       "      <th>929591</th>\n",
       "      <td>517288</td>\n",
       "      <td>284567</td>\n",
       "      <td>0</td>\n",
       "      <td>0</td>\n",
       "      <td>0</td>\n",
       "      <td>51</td>\n",
       "      <td>0</td>\n",
       "      <td>176</td>\n",
       "      <td>1</td>\n",
       "      <td>1</td>\n",
       "      <td>...</td>\n",
       "      <td>0</td>\n",
       "      <td>161653.796875</td>\n",
       "      <td>2</td>\n",
       "      <td>6</td>\n",
       "      <td>1</td>\n",
       "      <td>18</td>\n",
       "      <td>10</td>\n",
       "      <td>-14</td>\n",
       "      <td>22</td>\n",
       "      <td>22</td>\n",
       "    </tr>\n",
       "    <tr>\n",
       "      <th>929592</th>\n",
       "      <td>164679</td>\n",
       "      <td>1003542</td>\n",
       "      <td>0</td>\n",
       "      <td>0</td>\n",
       "      <td>0</td>\n",
       "      <td>30</td>\n",
       "      <td>0</td>\n",
       "      <td>53</td>\n",
       "      <td>1</td>\n",
       "      <td>1</td>\n",
       "      <td>...</td>\n",
       "      <td>0</td>\n",
       "      <td>48352.230469</td>\n",
       "      <td>2</td>\n",
       "      <td>6</td>\n",
       "      <td>1</td>\n",
       "      <td>18</td>\n",
       "      <td>1</td>\n",
       "      <td>-3</td>\n",
       "      <td>30</td>\n",
       "      <td>13</td>\n",
       "    </tr>\n",
       "    <tr>\n",
       "      <th>929593</th>\n",
       "      <td>681686</td>\n",
       "      <td>180424</td>\n",
       "      <td>0</td>\n",
       "      <td>0</td>\n",
       "      <td>1</td>\n",
       "      <td>48</td>\n",
       "      <td>0</td>\n",
       "      <td>192</td>\n",
       "      <td>1</td>\n",
       "      <td>1</td>\n",
       "      <td>...</td>\n",
       "      <td>1</td>\n",
       "      <td>520670.781250</td>\n",
       "      <td>1</td>\n",
       "      <td>6</td>\n",
       "      <td>1</td>\n",
       "      <td>18</td>\n",
       "      <td>7</td>\n",
       "      <td>-15</td>\n",
       "      <td>4</td>\n",
       "      <td>19</td>\n",
       "    </tr>\n",
       "    <tr>\n",
       "      <th>929594</th>\n",
       "      <td>693327</td>\n",
       "      <td>172471</td>\n",
       "      <td>0</td>\n",
       "      <td>0</td>\n",
       "      <td>0</td>\n",
       "      <td>52</td>\n",
       "      <td>0</td>\n",
       "      <td>173</td>\n",
       "      <td>1</td>\n",
       "      <td>1</td>\n",
       "      <td>...</td>\n",
       "      <td>0</td>\n",
       "      <td>140457.625000</td>\n",
       "      <td>2</td>\n",
       "      <td>6</td>\n",
       "      <td>1</td>\n",
       "      <td>18</td>\n",
       "      <td>4</td>\n",
       "      <td>-15</td>\n",
       "      <td>12</td>\n",
       "      <td>16</td>\n",
       "    </tr>\n",
       "    <tr>\n",
       "      <th>929595</th>\n",
       "      <td>787411</td>\n",
       "      <td>912444</td>\n",
       "      <td>0</td>\n",
       "      <td>0</td>\n",
       "      <td>0</td>\n",
       "      <td>25</td>\n",
       "      <td>0</td>\n",
       "      <td>61</td>\n",
       "      <td>1</td>\n",
       "      <td>1</td>\n",
       "      <td>...</td>\n",
       "      <td>0</td>\n",
       "      <td>-2.000000</td>\n",
       "      <td>2</td>\n",
       "      <td>6</td>\n",
       "      <td>1</td>\n",
       "      <td>18</td>\n",
       "      <td>5</td>\n",
       "      <td>-4</td>\n",
       "      <td>11</td>\n",
       "      <td>17</td>\n",
       "    </tr>\n",
       "    <tr>\n",
       "      <th>929596</th>\n",
       "      <td>432937</td>\n",
       "      <td>1404481</td>\n",
       "      <td>0</td>\n",
       "      <td>0</td>\n",
       "      <td>0</td>\n",
       "      <td>33</td>\n",
       "      <td>0</td>\n",
       "      <td>12</td>\n",
       "      <td>1</td>\n",
       "      <td>1</td>\n",
       "      <td>...</td>\n",
       "      <td>1</td>\n",
       "      <td>-2.000000</td>\n",
       "      <td>2</td>\n",
       "      <td>6</td>\n",
       "      <td>1</td>\n",
       "      <td>18</td>\n",
       "      <td>7</td>\n",
       "      <td>0</td>\n",
       "      <td>3</td>\n",
       "      <td>19</td>\n",
       "    </tr>\n",
       "    <tr>\n",
       "      <th>929597</th>\n",
       "      <td>141011</td>\n",
       "      <td>1027857</td>\n",
       "      <td>0</td>\n",
       "      <td>0</td>\n",
       "      <td>1</td>\n",
       "      <td>24</td>\n",
       "      <td>0</td>\n",
       "      <td>47</td>\n",
       "      <td>1</td>\n",
       "      <td>1</td>\n",
       "      <td>...</td>\n",
       "      <td>0</td>\n",
       "      <td>107323.140625</td>\n",
       "      <td>3</td>\n",
       "      <td>6</td>\n",
       "      <td>1</td>\n",
       "      <td>18</td>\n",
       "      <td>7</td>\n",
       "      <td>-3</td>\n",
       "      <td>23</td>\n",
       "      <td>19</td>\n",
       "    </tr>\n",
       "    <tr>\n",
       "      <th>929598</th>\n",
       "      <td>141006</td>\n",
       "      <td>1027912</td>\n",
       "      <td>0</td>\n",
       "      <td>0</td>\n",
       "      <td>0</td>\n",
       "      <td>25</td>\n",
       "      <td>0</td>\n",
       "      <td>47</td>\n",
       "      <td>1</td>\n",
       "      <td>1</td>\n",
       "      <td>...</td>\n",
       "      <td>0</td>\n",
       "      <td>91466.851562</td>\n",
       "      <td>3</td>\n",
       "      <td>6</td>\n",
       "      <td>1</td>\n",
       "      <td>18</td>\n",
       "      <td>7</td>\n",
       "      <td>-3</td>\n",
       "      <td>23</td>\n",
       "      <td>19</td>\n",
       "    </tr>\n",
       "    <tr>\n",
       "      <th>929599</th>\n",
       "      <td>485462</td>\n",
       "      <td>347294</td>\n",
       "      <td>0</td>\n",
       "      <td>0</td>\n",
       "      <td>1</td>\n",
       "      <td>41</td>\n",
       "      <td>0</td>\n",
       "      <td>170</td>\n",
       "      <td>1</td>\n",
       "      <td>1</td>\n",
       "      <td>...</td>\n",
       "      <td>1</td>\n",
       "      <td>112796.039062</td>\n",
       "      <td>2</td>\n",
       "      <td>6</td>\n",
       "      <td>1</td>\n",
       "      <td>18</td>\n",
       "      <td>6</td>\n",
       "      <td>-7</td>\n",
       "      <td>19</td>\n",
       "      <td>18</td>\n",
       "    </tr>\n",
       "    <tr>\n",
       "      <th>929600</th>\n",
       "      <td>628955</td>\n",
       "      <td>70676</td>\n",
       "      <td>0</td>\n",
       "      <td>0</td>\n",
       "      <td>0</td>\n",
       "      <td>45</td>\n",
       "      <td>0</td>\n",
       "      <td>226</td>\n",
       "      <td>1</td>\n",
       "      <td>1</td>\n",
       "      <td>...</td>\n",
       "      <td>1</td>\n",
       "      <td>53982.511719</td>\n",
       "      <td>2</td>\n",
       "      <td>6</td>\n",
       "      <td>1</td>\n",
       "      <td>18</td>\n",
       "      <td>8</td>\n",
       "      <td>-18</td>\n",
       "      <td>21</td>\n",
       "      <td>20</td>\n",
       "    </tr>\n",
       "    <tr>\n",
       "      <th>929601</th>\n",
       "      <td>488405</td>\n",
       "      <td>355504</td>\n",
       "      <td>0</td>\n",
       "      <td>0</td>\n",
       "      <td>0</td>\n",
       "      <td>22</td>\n",
       "      <td>0</td>\n",
       "      <td>170</td>\n",
       "      <td>1</td>\n",
       "      <td>1</td>\n",
       "      <td>...</td>\n",
       "      <td>0</td>\n",
       "      <td>92454.750000</td>\n",
       "      <td>2</td>\n",
       "      <td>6</td>\n",
       "      <td>1</td>\n",
       "      <td>18</td>\n",
       "      <td>4</td>\n",
       "      <td>-13</td>\n",
       "      <td>29</td>\n",
       "      <td>16</td>\n",
       "    </tr>\n",
       "    <tr>\n",
       "      <th>929602</th>\n",
       "      <td>927285</td>\n",
       "      <td>665015</td>\n",
       "      <td>0</td>\n",
       "      <td>0</td>\n",
       "      <td>0</td>\n",
       "      <td>64</td>\n",
       "      <td>0</td>\n",
       "      <td>114</td>\n",
       "      <td>1</td>\n",
       "      <td>1</td>\n",
       "      <td>...</td>\n",
       "      <td>0</td>\n",
       "      <td>240504.062500</td>\n",
       "      <td>2</td>\n",
       "      <td>6</td>\n",
       "      <td>1</td>\n",
       "      <td>18</td>\n",
       "      <td>12</td>\n",
       "      <td>-9</td>\n",
       "      <td>27</td>\n",
       "      <td>24</td>\n",
       "    </tr>\n",
       "    <tr>\n",
       "      <th>929603</th>\n",
       "      <td>628792</td>\n",
       "      <td>70280</td>\n",
       "      <td>0</td>\n",
       "      <td>0</td>\n",
       "      <td>0</td>\n",
       "      <td>55</td>\n",
       "      <td>0</td>\n",
       "      <td>226</td>\n",
       "      <td>1</td>\n",
       "      <td>1</td>\n",
       "      <td>...</td>\n",
       "      <td>0</td>\n",
       "      <td>104192.187500</td>\n",
       "      <td>2</td>\n",
       "      <td>6</td>\n",
       "      <td>1</td>\n",
       "      <td>18</td>\n",
       "      <td>8</td>\n",
       "      <td>-18</td>\n",
       "      <td>11</td>\n",
       "      <td>20</td>\n",
       "    </tr>\n",
       "    <tr>\n",
       "      <th>929604</th>\n",
       "      <td>485460</td>\n",
       "      <td>347292</td>\n",
       "      <td>0</td>\n",
       "      <td>0</td>\n",
       "      <td>0</td>\n",
       "      <td>48</td>\n",
       "      <td>0</td>\n",
       "      <td>170</td>\n",
       "      <td>1</td>\n",
       "      <td>1</td>\n",
       "      <td>...</td>\n",
       "      <td>1</td>\n",
       "      <td>112796.039062</td>\n",
       "      <td>1</td>\n",
       "      <td>6</td>\n",
       "      <td>1</td>\n",
       "      <td>18</td>\n",
       "      <td>4</td>\n",
       "      <td>-13</td>\n",
       "      <td>4</td>\n",
       "      <td>16</td>\n",
       "    </tr>\n",
       "    <tr>\n",
       "      <th>929605</th>\n",
       "      <td>643453</td>\n",
       "      <td>214433</td>\n",
       "      <td>0</td>\n",
       "      <td>0</td>\n",
       "      <td>0</td>\n",
       "      <td>60</td>\n",
       "      <td>0</td>\n",
       "      <td>185</td>\n",
       "      <td>1</td>\n",
       "      <td>1</td>\n",
       "      <td>...</td>\n",
       "      <td>1</td>\n",
       "      <td>130102.773438</td>\n",
       "      <td>2</td>\n",
       "      <td>6</td>\n",
       "      <td>1</td>\n",
       "      <td>18</td>\n",
       "      <td>1</td>\n",
       "      <td>-14</td>\n",
       "      <td>11</td>\n",
       "      <td>13</td>\n",
       "    </tr>\n",
       "    <tr>\n",
       "      <th>929606</th>\n",
       "      <td>10916</td>\n",
       "      <td>1159765</td>\n",
       "      <td>0</td>\n",
       "      <td>0</td>\n",
       "      <td>0</td>\n",
       "      <td>20</td>\n",
       "      <td>0</td>\n",
       "      <td>34</td>\n",
       "      <td>1</td>\n",
       "      <td>1</td>\n",
       "      <td>...</td>\n",
       "      <td>0</td>\n",
       "      <td>116510.789062</td>\n",
       "      <td>2</td>\n",
       "      <td>6</td>\n",
       "      <td>1</td>\n",
       "      <td>18</td>\n",
       "      <td>8</td>\n",
       "      <td>-2</td>\n",
       "      <td>8</td>\n",
       "      <td>20</td>\n",
       "    </tr>\n",
       "    <tr>\n",
       "      <th>929607</th>\n",
       "      <td>609392</td>\n",
       "      <td>35746</td>\n",
       "      <td>0</td>\n",
       "      <td>0</td>\n",
       "      <td>0</td>\n",
       "      <td>53</td>\n",
       "      <td>0</td>\n",
       "      <td>243</td>\n",
       "      <td>1</td>\n",
       "      <td>1</td>\n",
       "      <td>...</td>\n",
       "      <td>1</td>\n",
       "      <td>170054.640625</td>\n",
       "      <td>2</td>\n",
       "      <td>6</td>\n",
       "      <td>1</td>\n",
       "      <td>18</td>\n",
       "      <td>3</td>\n",
       "      <td>-19</td>\n",
       "      <td>30</td>\n",
       "      <td>15</td>\n",
       "    </tr>\n",
       "    <tr>\n",
       "      <th>929608</th>\n",
       "      <td>480795</td>\n",
       "      <td>360985</td>\n",
       "      <td>0</td>\n",
       "      <td>0</td>\n",
       "      <td>0</td>\n",
       "      <td>22</td>\n",
       "      <td>0</td>\n",
       "      <td>169</td>\n",
       "      <td>1</td>\n",
       "      <td>1</td>\n",
       "      <td>...</td>\n",
       "      <td>1</td>\n",
       "      <td>121031.578125</td>\n",
       "      <td>3</td>\n",
       "      <td>6</td>\n",
       "      <td>1</td>\n",
       "      <td>18</td>\n",
       "      <td>5</td>\n",
       "      <td>-13</td>\n",
       "      <td>27</td>\n",
       "      <td>17</td>\n",
       "    </tr>\n",
       "    <tr>\n",
       "      <th>929609</th>\n",
       "      <td>480796</td>\n",
       "      <td>360986</td>\n",
       "      <td>0</td>\n",
       "      <td>0</td>\n",
       "      <td>1</td>\n",
       "      <td>79</td>\n",
       "      <td>0</td>\n",
       "      <td>164</td>\n",
       "      <td>1</td>\n",
       "      <td>1</td>\n",
       "      <td>...</td>\n",
       "      <td>1</td>\n",
       "      <td>66008.703125</td>\n",
       "      <td>2</td>\n",
       "      <td>6</td>\n",
       "      <td>1</td>\n",
       "      <td>18</td>\n",
       "      <td>10</td>\n",
       "      <td>-13</td>\n",
       "      <td>14</td>\n",
       "      <td>22</td>\n",
       "    </tr>\n",
       "    <tr>\n",
       "      <th>929610</th>\n",
       "      <td>643454</td>\n",
       "      <td>214436</td>\n",
       "      <td>0</td>\n",
       "      <td>0</td>\n",
       "      <td>1</td>\n",
       "      <td>60</td>\n",
       "      <td>0</td>\n",
       "      <td>185</td>\n",
       "      <td>1</td>\n",
       "      <td>1</td>\n",
       "      <td>...</td>\n",
       "      <td>0</td>\n",
       "      <td>113678.757812</td>\n",
       "      <td>2</td>\n",
       "      <td>6</td>\n",
       "      <td>1</td>\n",
       "      <td>18</td>\n",
       "      <td>1</td>\n",
       "      <td>-14</td>\n",
       "      <td>19</td>\n",
       "      <td>13</td>\n",
       "    </tr>\n",
       "    <tr>\n",
       "      <th>929611</th>\n",
       "      <td>390557</td>\n",
       "      <td>1299601</td>\n",
       "      <td>0</td>\n",
       "      <td>0</td>\n",
       "      <td>0</td>\n",
       "      <td>25</td>\n",
       "      <td>0</td>\n",
       "      <td>22</td>\n",
       "      <td>1</td>\n",
       "      <td>1</td>\n",
       "      <td>...</td>\n",
       "      <td>0</td>\n",
       "      <td>85542.179688</td>\n",
       "      <td>3</td>\n",
       "      <td>6</td>\n",
       "      <td>1</td>\n",
       "      <td>18</td>\n",
       "      <td>8</td>\n",
       "      <td>-1</td>\n",
       "      <td>28</td>\n",
       "      <td>20</td>\n",
       "    </tr>\n",
       "    <tr>\n",
       "      <th>929612</th>\n",
       "      <td>480875</td>\n",
       "      <td>360576</td>\n",
       "      <td>0</td>\n",
       "      <td>0</td>\n",
       "      <td>0</td>\n",
       "      <td>49</td>\n",
       "      <td>0</td>\n",
       "      <td>169</td>\n",
       "      <td>1</td>\n",
       "      <td>1</td>\n",
       "      <td>...</td>\n",
       "      <td>0</td>\n",
       "      <td>-2.000000</td>\n",
       "      <td>2</td>\n",
       "      <td>6</td>\n",
       "      <td>1</td>\n",
       "      <td>18</td>\n",
       "      <td>5</td>\n",
       "      <td>-13</td>\n",
       "      <td>23</td>\n",
       "      <td>17</td>\n",
       "    </tr>\n",
       "    <tr>\n",
       "      <th>929613</th>\n",
       "      <td>10750</td>\n",
       "      <td>1159771</td>\n",
       "      <td>0</td>\n",
       "      <td>0</td>\n",
       "      <td>0</td>\n",
       "      <td>16</td>\n",
       "      <td>0</td>\n",
       "      <td>34</td>\n",
       "      <td>1</td>\n",
       "      <td>1</td>\n",
       "      <td>...</td>\n",
       "      <td>0</td>\n",
       "      <td>116510.789062</td>\n",
       "      <td>2</td>\n",
       "      <td>6</td>\n",
       "      <td>1</td>\n",
       "      <td>18</td>\n",
       "      <td>8</td>\n",
       "      <td>-2</td>\n",
       "      <td>8</td>\n",
       "      <td>20</td>\n",
       "    </tr>\n",
       "    <tr>\n",
       "      <th>929614</th>\n",
       "      <td>456620</td>\n",
       "      <td>1360933</td>\n",
       "      <td>0</td>\n",
       "      <td>0</td>\n",
       "      <td>1</td>\n",
       "      <td>43</td>\n",
       "      <td>0</td>\n",
       "      <td>19</td>\n",
       "      <td>1</td>\n",
       "      <td>1</td>\n",
       "      <td>...</td>\n",
       "      <td>1</td>\n",
       "      <td>98660.820312</td>\n",
       "      <td>2</td>\n",
       "      <td>6</td>\n",
       "      <td>1</td>\n",
       "      <td>18</td>\n",
       "      <td>11</td>\n",
       "      <td>-1</td>\n",
       "      <td>25</td>\n",
       "      <td>23</td>\n",
       "    </tr>\n",
       "  </tbody>\n",
       "</table>\n",
       "<p>929615 rows × 26 columns</p>\n",
       "</div>"
      ],
      "text/plain": [
       "         index  ncodpers  ind_empleado  pais_residencia  sexo  age  ind_nuevo  \\\n",
       "0       791423    891715             0                0     0   42          0   \n",
       "1       874349    702294             0                0     0   40          0   \n",
       "2       570480    425683             0                0     1   44          0   \n",
       "3       865971    515631             0                0     0   70          0   \n",
       "4       842031    596057             0                0     0   66          0   \n",
       "5       687336    184568             0                0     0   82          0   \n",
       "6       269956   1430713             0                0     0   22          0   \n",
       "7       472592    313344             0                0     0   42          0   \n",
       "8        80529   1250706             0                0     0   44          0   \n",
       "9       475725    321548             0                0     0   60          0   \n",
       "10      490908    351086             0                0     0   23          0   \n",
       "11      898892    726218             0                0     0   36          0   \n",
       "12      914095    627069             0                0     1   42          0   \n",
       "13      582641     93287             0                0     0   44          0   \n",
       "14      850049    489174             0                0     0   42          0   \n",
       "15      678992    144797             0                0     0   63          0   \n",
       "16      524436    447146             0                0     0   45          0   \n",
       "17       36629   1118768             0                0     0   51          0   \n",
       "18      192140   1106539             0                0     0   23          0   \n",
       "19      560670    377055             0                0     1   40          0   \n",
       "20      462176   1362856             0                0     1   24          0   \n",
       "21      606743    116752             0                0     0   50          0   \n",
       "22      623733     65374             0                0     1   62          0   \n",
       "23      316270   1546569             0                0     1   29          1   \n",
       "24      481520    369706             0                0     1   29          0   \n",
       "25      791421    891710             0                0     0   42          0   \n",
       "26      926377    663144             0                0     1   45          0   \n",
       "27      926376    663142             0                0     0   46          0   \n",
       "28      724986    869394             0                0     0   53          0   \n",
       "29       48146   1156499             0                0     0   22          0   \n",
       "...        ...       ...           ...              ...   ...  ...        ...   \n",
       "929585  752523    803996             0                0     0   39          0   \n",
       "929586  114120   1217528             0                0     1   35          0   \n",
       "929587  820048    579405             0                0     1   57          0   \n",
       "929588  177662   1089338             0                0     0   24          0   \n",
       "929589  153369    971903             0                0     1   26          0   \n",
       "929590  838804    599031             0                0     0   55          0   \n",
       "929591  517288    284567             0                0     0   51          0   \n",
       "929592  164679   1003542             0                0     0   30          0   \n",
       "929593  681686    180424             0                0     1   48          0   \n",
       "929594  693327    172471             0                0     0   52          0   \n",
       "929595  787411    912444             0                0     0   25          0   \n",
       "929596  432937   1404481             0                0     0   33          0   \n",
       "929597  141011   1027857             0                0     1   24          0   \n",
       "929598  141006   1027912             0                0     0   25          0   \n",
       "929599  485462    347294             0                0     1   41          0   \n",
       "929600  628955     70676             0                0     0   45          0   \n",
       "929601  488405    355504             0                0     0   22          0   \n",
       "929602  927285    665015             0                0     0   64          0   \n",
       "929603  628792     70280             0                0     0   55          0   \n",
       "929604  485460    347292             0                0     0   48          0   \n",
       "929605  643453    214433             0                0     0   60          0   \n",
       "929606   10916   1159765             0                0     0   20          0   \n",
       "929607  609392     35746             0                0     0   53          0   \n",
       "929608  480795    360985             0                0     0   22          0   \n",
       "929609  480796    360986             0                0     1   79          0   \n",
       "929610  643454    214436             0                0     1   60          0   \n",
       "929611  390557   1299601             0                0     0   25          0   \n",
       "929612  480875    360576             0                0     0   49          0   \n",
       "929613   10750   1159771             0                0     0   16          0   \n",
       "929614  456620   1360933             0                0     1   43          0   \n",
       "\n",
       "        antiguedad  indrel  indrel_1mes          ...           \\\n",
       "0               69       1            1          ...            \n",
       "1              107       1            1          ...            \n",
       "2              156       1            1          ...            \n",
       "3              136       1            1          ...            \n",
       "4              123       1            1          ...            \n",
       "5              191       1            1          ...            \n",
       "6               10       1            1          ...            \n",
       "7              173       1            1          ...            \n",
       "8               27       1            1          ...            \n",
       "9              160       1            1          ...            \n",
       "10             170       1            1          ...            \n",
       "11             104       1            1          ...            \n",
       "12             119       1            1          ...            \n",
       "13             218       1            1          ...            \n",
       "14             142       1            1          ...            \n",
       "15             200       1            1          ...            \n",
       "16             151       1            1          ...            \n",
       "17              41       1            1          ...            \n",
       "18              43       1            1          ...            \n",
       "19             167       1            1          ...            \n",
       "20              19       1            1          ...            \n",
       "21             210       1            1          ...            \n",
       "22             139       1            1          ...            \n",
       "23               2       1            1          ...            \n",
       "24             113       1            1          ...            \n",
       "25              69       1            1          ...            \n",
       "26             114       1            1          ...            \n",
       "27             114       1            1          ...            \n",
       "28              75       1            1          ...            \n",
       "29              34       1            1          ...            \n",
       "...            ...     ...          ...          ...            \n",
       "929585          92       1            1          ...            \n",
       "929586          31       1            1          ...            \n",
       "929587         127       1            1          ...            \n",
       "929588          44       1            1          ...            \n",
       "929589          55       1            1          ...            \n",
       "929590         124       1            1          ...            \n",
       "929591         176       1            1          ...            \n",
       "929592          53       1            1          ...            \n",
       "929593         192       1            1          ...            \n",
       "929594         173       1            1          ...            \n",
       "929595          61       1            1          ...            \n",
       "929596          12       1            1          ...            \n",
       "929597          47       1            1          ...            \n",
       "929598          47       1            1          ...            \n",
       "929599         170       1            1          ...            \n",
       "929600         226       1            1          ...            \n",
       "929601         170       1            1          ...            \n",
       "929602         114       1            1          ...            \n",
       "929603         226       1            1          ...            \n",
       "929604         170       1            1          ...            \n",
       "929605         185       1            1          ...            \n",
       "929606          34       1            1          ...            \n",
       "929607         243       1            1          ...            \n",
       "929608         169       1            1          ...            \n",
       "929609         164       1            1          ...            \n",
       "929610         185       1            1          ...            \n",
       "929611          22       1            1          ...            \n",
       "929612         169       1            1          ...            \n",
       "929613          34       1            1          ...            \n",
       "929614          19       1            1          ...            \n",
       "\n",
       "        ind_actividad_cliente          renta  segmento  fecha_dato_month  \\\n",
       "0                           0      -2.000000         2                 6   \n",
       "1                           1      -2.000000         2                 6   \n",
       "2                           1      -2.000000         2                 6   \n",
       "3                           0      -2.000000         2                 6   \n",
       "4                           0      -2.000000         2                 6   \n",
       "5                           1      -2.000000         2                 6   \n",
       "6                           1      -2.000000         3                 6   \n",
       "7                           0      -2.000000         2                 6   \n",
       "8                           1      -2.000000         2                 6   \n",
       "9                           1      -2.000000         2                 6   \n",
       "10                          0      -2.000000         2                 6   \n",
       "11                          1      -2.000000         2                 6   \n",
       "12                          0      -2.000000         2                 6   \n",
       "13                          1      -2.000000         2                 6   \n",
       "14                          1      -2.000000         2                 6   \n",
       "15                          0      -2.000000         2                 6   \n",
       "16                          1      -2.000000         1                 6   \n",
       "17                          1      -2.000000         1                 6   \n",
       "18                          0      -2.000000         2                 6   \n",
       "19                          1  173662.468750         2                 6   \n",
       "20                          0      -2.000000         3                 6   \n",
       "21                          0      -2.000000         2                 6   \n",
       "22                          1      -2.000000         1                 6   \n",
       "23                          1      -2.000000         2                 6   \n",
       "24                          1      -2.000000         3                 6   \n",
       "25                          0      -2.000000         2                 6   \n",
       "26                          0      -2.000000         2                 6   \n",
       "27                          0      -2.000000         2                 6   \n",
       "28                          1      -2.000000         2                 6   \n",
       "29                          1      -2.000000         3                 6   \n",
       "...                       ...            ...       ...               ...   \n",
       "929585                      1      -2.000000         2                 6   \n",
       "929586                      0  116037.179688         2                 6   \n",
       "929587                      0      -2.000000         2                 6   \n",
       "929588                      0   97478.968750         3                 6   \n",
       "929589                      0      -2.000000         3                 6   \n",
       "929590                      1  100115.367188         2                 6   \n",
       "929591                      0  161653.796875         2                 6   \n",
       "929592                      0   48352.230469         2                 6   \n",
       "929593                      1  520670.781250         1                 6   \n",
       "929594                      0  140457.625000         2                 6   \n",
       "929595                      0      -2.000000         2                 6   \n",
       "929596                      1      -2.000000         2                 6   \n",
       "929597                      0  107323.140625         3                 6   \n",
       "929598                      0   91466.851562         3                 6   \n",
       "929599                      1  112796.039062         2                 6   \n",
       "929600                      1   53982.511719         2                 6   \n",
       "929601                      0   92454.750000         2                 6   \n",
       "929602                      0  240504.062500         2                 6   \n",
       "929603                      0  104192.187500         2                 6   \n",
       "929604                      1  112796.039062         1                 6   \n",
       "929605                      1  130102.773438         2                 6   \n",
       "929606                      0  116510.789062         2                 6   \n",
       "929607                      1  170054.640625         2                 6   \n",
       "929608                      1  121031.578125         3                 6   \n",
       "929609                      1   66008.703125         2                 6   \n",
       "929610                      0  113678.757812         2                 6   \n",
       "929611                      0   85542.179688         3                 6   \n",
       "929612                      0      -2.000000         2                 6   \n",
       "929613                      0  116510.789062         2                 6   \n",
       "929614                      1   98660.820312         2                 6   \n",
       "\n",
       "        fecha_dato_year  month_int  fecha_alta_month  fecha_alta_year  \\\n",
       "0                     1         18                 9               -5   \n",
       "1                     1         18                 7               -8   \n",
       "2                     1         18                 7              -12   \n",
       "3                     1         18                 2              -10   \n",
       "4                     1         18                 3               -9   \n",
       "5                     1         18                 7              -15   \n",
       "6                     1         18                 8                0   \n",
       "7                     1         18                 1              -13   \n",
       "8                     1         18                 3               -1   \n",
       "9                     1         18                 1              -13   \n",
       "10                    1         18                 4              -13   \n",
       "11                    1         18                10               -8   \n",
       "12                    1         18                 7               -9   \n",
       "13                    1         18                 4              -17   \n",
       "14                    1         18                 9              -11   \n",
       "15                    1         18                10              -16   \n",
       "16                    1         18                11              -12   \n",
       "17                    1         18                 1               -2   \n",
       "18                    1         18                11               -3   \n",
       "19                    1         18                 8              -13   \n",
       "20                    1         18                11               -1   \n",
       "21                    1         18                12              -17   \n",
       "22                    1         18                 6              -18   \n",
       "23                    1         18                 4                1   \n",
       "24                    1         18                 7              -13   \n",
       "25                    1         18                 9               -5   \n",
       "26                    1         18                12               -9   \n",
       "27                    1         18                12               -9   \n",
       "28                    1         18                 3               -5   \n",
       "29                    1         18                 8               -2   \n",
       "...                 ...        ...               ...              ...   \n",
       "929585                1         18                10               -7   \n",
       "929586                1         18                11               -2   \n",
       "929587                1         18                11              -10   \n",
       "929588                1         18                10               -3   \n",
       "929589                1         18                11               -4   \n",
       "929590                1         18                 2               -9   \n",
       "929591                1         18                10              -14   \n",
       "929592                1         18                 1               -3   \n",
       "929593                1         18                 7              -15   \n",
       "929594                1         18                 4              -15   \n",
       "929595                1         18                 5               -4   \n",
       "929596                1         18                 7                0   \n",
       "929597                1         18                 7               -3   \n",
       "929598                1         18                 7               -3   \n",
       "929599                1         18                 6               -7   \n",
       "929600                1         18                 8              -18   \n",
       "929601                1         18                 4              -13   \n",
       "929602                1         18                12               -9   \n",
       "929603                1         18                 8              -18   \n",
       "929604                1         18                 4              -13   \n",
       "929605                1         18                 1              -14   \n",
       "929606                1         18                 8               -2   \n",
       "929607                1         18                 3              -19   \n",
       "929608                1         18                 5              -13   \n",
       "929609                1         18                10              -13   \n",
       "929610                1         18                 1              -14   \n",
       "929611                1         18                 8               -1   \n",
       "929612                1         18                 5              -13   \n",
       "929613                1         18                 8               -2   \n",
       "929614                1         18                11               -1   \n",
       "\n",
       "        fecha_alta_day  fecha_alta_month_int  \n",
       "0                   15                    21  \n",
       "1                   10                    19  \n",
       "2                    1                    19  \n",
       "3                    3                    14  \n",
       "4                   22                    15  \n",
       "5                   24                    19  \n",
       "6                    6                    20  \n",
       "7                    7                    13  \n",
       "8                   27                    15  \n",
       "9                   24                    13  \n",
       "10                  16                    16  \n",
       "11                  16                    22  \n",
       "12                  12                    19  \n",
       "13                  20                    16  \n",
       "14                   1                    21  \n",
       "15                   6                    22  \n",
       "16                  29                    23  \n",
       "17                  21                    13  \n",
       "18                  27                    23  \n",
       "19                   2                    20  \n",
       "20                  28                    23  \n",
       "21                  28                    24  \n",
       "22                   6                    18  \n",
       "23                  20                    16  \n",
       "24                   8                    19  \n",
       "25                  15                    21  \n",
       "26                  15                    24  \n",
       "27                  15                    24  \n",
       "28                  23                    15  \n",
       "29                   3                    20  \n",
       "...                ...                   ...  \n",
       "929585              12                    22  \n",
       "929586              11                    23  \n",
       "929587              14                    23  \n",
       "929588              26                    22  \n",
       "929589               2                    23  \n",
       "929590              24                    14  \n",
       "929591              22                    22  \n",
       "929592              30                    13  \n",
       "929593               4                    19  \n",
       "929594              12                    16  \n",
       "929595              11                    17  \n",
       "929596               3                    19  \n",
       "929597              23                    19  \n",
       "929598              23                    19  \n",
       "929599              19                    18  \n",
       "929600              21                    20  \n",
       "929601              29                    16  \n",
       "929602              27                    24  \n",
       "929603              11                    20  \n",
       "929604               4                    16  \n",
       "929605              11                    13  \n",
       "929606               8                    20  \n",
       "929607              30                    15  \n",
       "929608              27                    17  \n",
       "929609              14                    22  \n",
       "929610              19                    13  \n",
       "929611              28                    20  \n",
       "929612              23                    17  \n",
       "929613               8                    20  \n",
       "929614              25                    23  \n",
       "\n",
       "[929615 rows x 26 columns]"
      ]
     },
     "execution_count": 65,
     "metadata": {},
     "output_type": "execute_result"
    }
   ],
   "source": [
    "def resize_data(DF,is_DF):\n",
    "    DF['ncodpers'] = DF['ncodpers'].astype(np.int32)\n",
    "    DF['renta'] = DF['renta'].astype(np.float32)\n",
    "    DF['indrel'] = DF['indrel'].astype(np.int8)\n",
    "    DF['ind_empleado'] = DF['ind_empleado'].astype(np.int8)\n",
    "    DF['sexo'] = DF['sexo'].astype(np.int8)\n",
    "    DF['age'] = DF['age'].astype(np.int16)\n",
    "    DF['ind_nuevo'] = DF['ind_nuevo'].astype(np.int8)\n",
    "    DF['antiguedad'] = DF['antiguedad'].astype(int)\n",
    "    DF['antiguedad'] = DF['antiguedad'].astype(np.int16)\n",
    "    DF['indrel_1mes'] = DF['indrel_1mes'].astype(np.float16)\n",
    "    DF['indrel_1mes'] = DF['indrel_1mes'].astype(np.int8)\n",
    "    DF['tiprel_1mes'] = DF['tiprel_1mes'].astype(np.int8)\n",
    "    DF['indresi'] = DF['indresi'].astype(np.int8)\n",
    "    DF['indext'] = DF['indext'].astype(np.int8)\n",
    "    DF['canal_entrada'] = DF['canal_entrada'].astype(np.int16)\n",
    "    DF['indfall'] = DF['indfall'].astype(np.int8)\n",
    "    DF['pais_residencia'] = DF['pais_residencia'].astype(np.int8)\n",
    "    DF['cod_prov'] = DF['cod_prov'].astype(np.int8)\n",
    "    DF['ind_actividad_cliente'].astype(np.int8)\n",
    "    DF['fecha_dato_month'] = DF['fecha_dato_month'].astype(np.int8)\n",
    "    DF['fecha_dato_year'] = DF['fecha_dato_year'].astype(np.int8)\n",
    "    DF['month_int'] = DF['month_int'].astype(np.int8)\n",
    "\n",
    "    DF['fecha_alta_month'] = DF['fecha_alta_month'].astype(np.int8)\n",
    "    DF['fecha_alta_year'] = DF['fecha_alta_year'].astype(np.int8)\n",
    "    DF['fecha_alta_day'] = DF['fecha_alta_day'].astype(np.int8)\n",
    "    DF['fecha_alta_month_int'] = DF['fecha_alta_month_int'].astype(np.int8)\n",
    "\n",
    "    DF['segmento'] = DF['segmento'].astype(np.int8)\n",
    "\n",
    "    for col in target_cols:\n",
    "        if is_DF:\n",
    "            DF[col] = DF[col].astype(np.int8)\n",
    "\n",
    "    return DF\n",
    "\n",
    "resize_data(train_df, True)\n",
    "resize_data(test_df, False)"
   ]
  },
  {
   "cell_type": "code",
   "execution_count": 66,
   "metadata": {
    "collapsed": false
   },
   "outputs": [
    {
     "name": "stdout",
     "output_type": "stream",
     "text": [
      "<class 'pandas.core.frame.DataFrame'>\n",
      "RangeIndex: 92517 entries, 0 to 92516\n",
      "Data columns (total 50 columns):\n",
      "index                    92517 non-null int64\n",
      "ncodpers                 92517 non-null int8\n",
      "ind_empleado             92517 non-null int8\n",
      "pais_residencia          92517 non-null int8\n",
      "sexo                     92517 non-null int8\n",
      "age                      92517 non-null int16\n",
      "ind_nuevo                92517 non-null int8\n",
      "antiguedad               92517 non-null int16\n",
      "indrel                   92517 non-null int8\n",
      "indrel_1mes              92517 non-null int8\n",
      "tiprel_1mes              92517 non-null int8\n",
      "indresi                  92517 non-null int8\n",
      "indext                   92517 non-null int8\n",
      "canal_entrada            92517 non-null int16\n",
      "indfall                  92517 non-null int8\n",
      "cod_prov                 92517 non-null int8\n",
      "ind_actividad_cliente    92517 non-null int64\n",
      "renta                    92517 non-null float32\n",
      "segmento                 92517 non-null int8\n",
      "ind_ahor_fin_ult1        92517 non-null int8\n",
      "ind_aval_fin_ult1        92517 non-null int8\n",
      "ind_cco_fin_ult1         92517 non-null int8\n",
      "ind_cder_fin_ult1        92517 non-null int8\n",
      "ind_cno_fin_ult1         92517 non-null int8\n",
      "ind_ctju_fin_ult1        92517 non-null int8\n",
      "ind_ctma_fin_ult1        92517 non-null int8\n",
      "ind_ctop_fin_ult1        92517 non-null int8\n",
      "ind_ctpp_fin_ult1        92517 non-null int8\n",
      "ind_deco_fin_ult1        92517 non-null int8\n",
      "ind_deme_fin_ult1        92517 non-null int8\n",
      "ind_dela_fin_ult1        92517 non-null int8\n",
      "ind_ecue_fin_ult1        92517 non-null int8\n",
      "ind_fond_fin_ult1        92517 non-null int8\n",
      "ind_hip_fin_ult1         92517 non-null int8\n",
      "ind_plan_fin_ult1        92517 non-null int8\n",
      "ind_pres_fin_ult1        92517 non-null int8\n",
      "ind_reca_fin_ult1        92517 non-null int8\n",
      "ind_tjcr_fin_ult1        92517 non-null int8\n",
      "ind_valo_fin_ult1        92517 non-null int8\n",
      "ind_viv_fin_ult1         92517 non-null int8\n",
      "ind_nomina_ult1          92517 non-null int8\n",
      "ind_nom_pens_ult1        92517 non-null int8\n",
      "ind_recibo_ult1          92517 non-null int8\n",
      "fecha_dato_month         92517 non-null int8\n",
      "fecha_dato_year          92517 non-null int8\n",
      "month_int                92517 non-null int8\n",
      "fecha_alta_month         92517 non-null int8\n",
      "fecha_alta_year          92517 non-null int8\n",
      "fecha_alta_day           92517 non-null int8\n",
      "fecha_alta_month_int     92517 non-null int8\n",
      "dtypes: float32(1), int16(3), int64(2), int8(44)\n",
      "memory usage: 6.2 MB\n"
     ]
    }
   ],
   "source": [
    "train_df.info()"
   ]
  },
  {
   "cell_type": "markdown",
   "metadata": {},
   "source": [
    "devide train data set into y_train and x_train."
   ]
  },
  {
   "cell_type": "code",
   "execution_count": 195,
   "metadata": {
    "collapsed": false
   },
   "outputs": [
    {
     "name": "stdout",
     "output_type": "stream",
     "text": [
      "(92549, 25)\n",
      "((92549L, 24L), (92549, 24), (929615, 24))\n"
     ]
    }
   ],
   "source": [
    "train_y = DataFrame(data=train_df, columns = target_cols)\n",
    "print train_y.shape\n",
    "train_yy = train_y # for feature selection\n",
    "train_x = DataFrame(data=train_df, columns = feature_cols)\n",
    "test_x = DataFrame(data=test_df, columns = feature_cols)\n",
    "\n",
    "last_instance_df = train_y.drop_duplicates('ncodpers', keep='last')\n",
    "train_y = np.array(train_y.fillna(0)).astype('int')[:,1:]\n",
    "print(train_y.shape, train_x.shape, test_x.shape)"
   ]
  },
  {
   "cell_type": "markdown",
   "metadata": {
    "collapsed": true
   },
   "source": [
    "## 2. Feature Selection"
   ]
  },
  {
   "cell_type": "code",
   "execution_count": 196,
   "metadata": {
    "collapsed": false
   },
   "outputs": [],
   "source": [
    "X = train_x.values\n",
    "skb = SelectKBest()\n",
    "prod_cols = list(train_yy.columns)"
   ]
  },
  {
   "cell_type": "code",
   "execution_count": 197,
   "metadata": {
    "collapsed": false
   },
   "outputs": [],
   "source": [
    "d = {}\n",
    "for p in prod_cols:\n",
    "    y = np.array(train_df[p])\n",
    "    fit = skb.fit(X, y)\n",
    "    l = zip(train_x.columns, np.around(fit.scores_))\n",
    "    d[p] = sorted(l, key=lambda x: x[1], reverse=True)"
   ]
  },
  {
   "cell_type": "code",
   "execution_count": 198,
   "metadata": {
    "collapsed": false
   },
   "outputs": [],
   "source": [
    "ranking = pd.DataFrame(index=train_x.columns,columns=prod_cols)"
   ]
  },
  {
   "cell_type": "code",
   "execution_count": 199,
   "metadata": {
    "collapsed": false
   },
   "outputs": [],
   "source": [
    "for p in prod_cols:\n",
    "    i = 0\n",
    "    for r in d[p]:\n",
    "        ranking[p][r[0]] = i\n",
    "        i += 1"
   ]
  },
  {
   "cell_type": "code",
   "execution_count": 200,
   "metadata": {
    "collapsed": true
   },
   "outputs": [],
   "source": [
    "ranking['total'] = ranking.sum(axis=1)"
   ]
  },
  {
   "cell_type": "code",
   "execution_count": 201,
   "metadata": {
    "collapsed": false
   },
   "outputs": [
    {
     "data": {
      "text/plain": [
       "<matplotlib.axes._subplots.AxesSubplot at 0x9e2e2ef0>"
      ]
     },
     "execution_count": 201,
     "metadata": {},
     "output_type": "execute_result"
    },
    {
     "data": {
      "image/png": "[encoded data removed]",
      "text/plain": [
       "<matplotlib.figure.Figure at 0x3b03fcc0>"
      ]
     },
     "metadata": {},
     "output_type": "display_data"
    }
   ],
   "source": [
    "ranking.sort_values('total')\n",
    "ranking.sort_values('total')['total'].plot(kind='bar')"
   ]
  },
  {
   "cell_type": "code",
   "execution_count": 202,
   "metadata": {
    "collapsed": false,
    "scrolled": true
   },
   "outputs": [
    {
     "data": {
      "text/html": [
       "<div>\n",
       "<table border=\"1\" class=\"dataframe\">\n",
       "  <thead>\n",
       "    <tr style=\"text-align: right;\">\n",
       "      <th></th>\n",
       "      <th>index</th>\n",
       "      <th>total</th>\n",
       "    </tr>\n",
       "  </thead>\n",
       "  <tbody>\n",
       "    <tr>\n",
       "      <th>6</th>\n",
       "      <td>indrel</td>\n",
       "      <td>503.0</td>\n",
       "    </tr>\n",
       "    <tr>\n",
       "      <th>7</th>\n",
       "      <td>indrel_1mes</td>\n",
       "      <td>494.0</td>\n",
       "    </tr>\n",
       "    <tr>\n",
       "      <th>12</th>\n",
       "      <td>indfall</td>\n",
       "      <td>436.0</td>\n",
       "    </tr>\n",
       "    <tr>\n",
       "      <th>13</th>\n",
       "      <td>cod_prov</td>\n",
       "      <td>420.0</td>\n",
       "    </tr>\n",
       "    <tr>\n",
       "      <th>1</th>\n",
       "      <td>pais_residencia</td>\n",
       "      <td>418.0</td>\n",
       "    </tr>\n",
       "    <tr>\n",
       "      <th>9</th>\n",
       "      <td>indresi</td>\n",
       "      <td>406.0</td>\n",
       "    </tr>\n",
       "    <tr>\n",
       "      <th>22</th>\n",
       "      <td>fecha_alta_day</td>\n",
       "      <td>399.0</td>\n",
       "    </tr>\n",
       "    <tr>\n",
       "      <th>0</th>\n",
       "      <td>ind_empleado</td>\n",
       "      <td>383.0</td>\n",
       "    </tr>\n",
       "    <tr>\n",
       "      <th>15</th>\n",
       "      <td>renta</td>\n",
       "      <td>381.0</td>\n",
       "    </tr>\n",
       "    <tr>\n",
       "      <th>11</th>\n",
       "      <td>canal_entrada</td>\n",
       "      <td>373.0</td>\n",
       "    </tr>\n",
       "    <tr>\n",
       "      <th>19</th>\n",
       "      <td>month_int</td>\n",
       "      <td>336.0</td>\n",
       "    </tr>\n",
       "    <tr>\n",
       "      <th>10</th>\n",
       "      <td>indext</td>\n",
       "      <td>305.0</td>\n",
       "    </tr>\n",
       "    <tr>\n",
       "      <th>17</th>\n",
       "      <td>fecha_dato_month</td>\n",
       "      <td>304.0</td>\n",
       "    </tr>\n",
       "    <tr>\n",
       "      <th>2</th>\n",
       "      <td>sexo</td>\n",
       "      <td>279.0</td>\n",
       "    </tr>\n",
       "    <tr>\n",
       "      <th>23</th>\n",
       "      <td>fecha_alta_month_int</td>\n",
       "      <td>233.0</td>\n",
       "    </tr>\n",
       "    <tr>\n",
       "      <th>21</th>\n",
       "      <td>fecha_alta_year</td>\n",
       "      <td>229.0</td>\n",
       "    </tr>\n",
       "    <tr>\n",
       "      <th>4</th>\n",
       "      <td>ind_nuevo</td>\n",
       "      <td>225.0</td>\n",
       "    </tr>\n",
       "    <tr>\n",
       "      <th>20</th>\n",
       "      <td>fecha_alta_month</td>\n",
       "      <td>206.0</td>\n",
       "    </tr>\n",
       "    <tr>\n",
       "      <th>18</th>\n",
       "      <td>fecha_dato_year</td>\n",
       "      <td>154.0</td>\n",
       "    </tr>\n",
       "    <tr>\n",
       "      <th>3</th>\n",
       "      <td>age</td>\n",
       "      <td>116.0</td>\n",
       "    </tr>\n",
       "  </tbody>\n",
       "</table>\n",
       "</div>"
      ],
      "text/plain": [
       "                   index  total\n",
       "6                 indrel  503.0\n",
       "7            indrel_1mes  494.0\n",
       "12               indfall  436.0\n",
       "13              cod_prov  420.0\n",
       "1        pais_residencia  418.0\n",
       "9                indresi  406.0\n",
       "22        fecha_alta_day  399.0\n",
       "0           ind_empleado  383.0\n",
       "15                 renta  381.0\n",
       "11         canal_entrada  373.0\n",
       "19             month_int  336.0\n",
       "10                indext  305.0\n",
       "17      fecha_dato_month  304.0\n",
       "2                   sexo  279.0\n",
       "23  fecha_alta_month_int  233.0\n",
       "21       fecha_alta_year  229.0\n",
       "4              ind_nuevo  225.0\n",
       "20      fecha_alta_month  206.0\n",
       "18       fecha_dato_year  154.0\n",
       "3                    age  116.0"
      ]
     },
     "execution_count": 202,
     "metadata": {},
     "output_type": "execute_result"
    }
   ],
   "source": [
    "ranking_df = ranking.total.reset_index()\n",
    "ranking_df = ranking_df[ranking_df.total > 100]\n",
    "ranking_df.sort_values(\"total\", ascending=False, inplace=True)\n",
    "ranking_df"
   ]
  },
  {
   "cell_type": "code",
   "execution_count": 203,
   "metadata": {
    "collapsed": false
   },
   "outputs": [],
   "source": [
    "selected_xs = list(ranking_df[\"index\"])\n",
    "# drop uneffective features\n",
    "train_x = DataFrame(data=train_x, columns = selected_xs)\n",
    "test_x = DataFrame(data=test_x, columns = selected_xs)\n",
    "\n",
    "del train_yy"
   ]
  },
  {
   "cell_type": "code",
   "execution_count": 204,
   "metadata": {
    "collapsed": false
   },
   "outputs": [
    {
     "name": "stdout",
     "output_type": "stream",
     "text": [
      "((92549, 20), (929615, 20))\n"
     ]
    }
   ],
   "source": [
    "print(train_x.shape, test_x.shape)"
   ]
  },
  {
   "cell_type": "markdown",
   "metadata": {},
   "source": [
    "## 3. Model Fitting"
   ]
  },
  {
   "cell_type": "markdown",
   "metadata": {},
   "source": [
    "### XGB"
   ]
  },
  {
   "cell_type": "markdown",
   "metadata": {},
   "source": [
    "convert dataframe to numpy array.  \n",
    "XGB takes numpy array not dataframe."
   ]
  },
  {
   "cell_type": "code",
   "execution_count": 205,
   "metadata": {
    "collapsed": false
   },
   "outputs": [],
   "source": [
    "#numpyMatrix = df.as_matrix()\n",
    "\n",
    "train_x = train_x.as_matrix()\n",
    "test_x = test_x.as_matrix()"
   ]
  },
  {
   "cell_type": "markdown",
   "metadata": {},
   "source": [
    "bulid model"
   ]
  },
  {
   "cell_type": "code",
   "execution_count": 143,
   "metadata": {
    "collapsed": false
   },
   "outputs": [
    {
     "ename": "ValueError",
     "evalue": "operands could not be broadcast together with shapes (18510,) (18509,) ",
     "output_type": "error",
     "traceback": [
      "\u001b[1;31m---------------------------------------------------------------------------\u001b[0m",
      "\u001b[1;31mValueError\u001b[0m                                Traceback (most recent call last)",
      "\u001b[1;32m<ipython-input-143-7e7b3f6a8731>\u001b[0m in \u001b[0;36m<module>\u001b[1;34m()\u001b[0m\n\u001b[0;32m     54\u001b[0m \u001b[0mmeans\u001b[0m \u001b[1;33m=\u001b[0m \u001b[1;33m[\u001b[0m\u001b[1;33m]\u001b[0m\u001b[1;33m\u001b[0m\u001b[0m\n\u001b[0;32m     55\u001b[0m \u001b[1;32mfor\u001b[0m \u001b[0mi\u001b[0m \u001b[1;32min\u001b[0m \u001b[0mpreds_a\u001b[0m\u001b[1;33m:\u001b[0m\u001b[1;33m\u001b[0m\u001b[0m\n\u001b[1;32m---> 56\u001b[1;33m     \u001b[0mj\u001b[0m \u001b[1;33m=\u001b[0m \u001b[0mnp\u001b[0m\u001b[1;33m.\u001b[0m\u001b[0mmean\u001b[0m\u001b[1;33m(\u001b[0m\u001b[0mi\u001b[0m\u001b[1;33m,\u001b[0m \u001b[0maxis\u001b[0m \u001b[1;33m=\u001b[0m \u001b[1;36m0\u001b[0m\u001b[1;33m)\u001b[0m\u001b[1;33m\u001b[0m\u001b[0m\n\u001b[0m\u001b[0;32m     57\u001b[0m     \u001b[0mmeans\u001b[0m\u001b[1;33m.\u001b[0m\u001b[0mappend\u001b[0m\u001b[1;33m(\u001b[0m\u001b[0mj\u001b[0m\u001b[1;33m)\u001b[0m\u001b[1;33m\u001b[0m\u001b[0m\n\u001b[0;32m     58\u001b[0m \u001b[1;33m\u001b[0m\u001b[0m\n",
      "\u001b[1;32mC:\\Users\\prill\\Anaconda2\\lib\\site-packages\\numpy\\core\\fromnumeric.pyc\u001b[0m in \u001b[0;36mmean\u001b[1;34m(a, axis, dtype, out, keepdims)\u001b[0m\n\u001b[0;32m   2883\u001b[0m \u001b[1;33m\u001b[0m\u001b[0m\n\u001b[0;32m   2884\u001b[0m     return _methods._mean(a, axis=axis, dtype=dtype,\n\u001b[1;32m-> 2885\u001b[1;33m                           out=out, keepdims=keepdims)\n\u001b[0m\u001b[0;32m   2886\u001b[0m \u001b[1;33m\u001b[0m\u001b[0m\n\u001b[0;32m   2887\u001b[0m \u001b[1;33m\u001b[0m\u001b[0m\n",
      "\u001b[1;32mC:\\Users\\prill\\Anaconda2\\lib\\site-packages\\numpy\\core\\_methods.pyc\u001b[0m in \u001b[0;36m_mean\u001b[1;34m(a, axis, dtype, out, keepdims)\u001b[0m\n\u001b[0;32m     63\u001b[0m         \u001b[0mdtype\u001b[0m \u001b[1;33m=\u001b[0m \u001b[0mmu\u001b[0m\u001b[1;33m.\u001b[0m\u001b[0mdtype\u001b[0m\u001b[1;33m(\u001b[0m\u001b[1;34m'f8'\u001b[0m\u001b[1;33m)\u001b[0m\u001b[1;33m\u001b[0m\u001b[0m\n\u001b[0;32m     64\u001b[0m \u001b[1;33m\u001b[0m\u001b[0m\n\u001b[1;32m---> 65\u001b[1;33m     \u001b[0mret\u001b[0m \u001b[1;33m=\u001b[0m \u001b[0mumr_sum\u001b[0m\u001b[1;33m(\u001b[0m\u001b[0marr\u001b[0m\u001b[1;33m,\u001b[0m \u001b[0maxis\u001b[0m\u001b[1;33m,\u001b[0m \u001b[0mdtype\u001b[0m\u001b[1;33m,\u001b[0m \u001b[0mout\u001b[0m\u001b[1;33m,\u001b[0m \u001b[0mkeepdims\u001b[0m\u001b[1;33m)\u001b[0m\u001b[1;33m\u001b[0m\u001b[0m\n\u001b[0m\u001b[0;32m     66\u001b[0m     \u001b[1;32mif\u001b[0m \u001b[0misinstance\u001b[0m\u001b[1;33m(\u001b[0m\u001b[0mret\u001b[0m\u001b[1;33m,\u001b[0m \u001b[0mmu\u001b[0m\u001b[1;33m.\u001b[0m\u001b[0mndarray\u001b[0m\u001b[1;33m)\u001b[0m\u001b[1;33m:\u001b[0m\u001b[1;33m\u001b[0m\u001b[0m\n\u001b[0;32m     67\u001b[0m         ret = um.true_divide(\n",
      "\u001b[1;31mValueError\u001b[0m: operands could not be broadcast together with shapes (18510,) (18509,) "
     ]
    }
   ],
   "source": [
    "xgb_params = {\n",
    "    'seed': 0,\n",
    "    'colsample_bytree': 0.7,\n",
    "    'silent': 1,\n",
    "    'subsample': 0.5,\n",
    "    'learning_rate': 0.1,\n",
    "    'objective': 'binary:logistic',\n",
    "    'max_depth': 10,\n",
    "    'min_child_weight': 100,\n",
    "    'booster': 'gbtree',\n",
    "    'eval_metric': 'logloss'\n",
    "    }\n",
    "\n",
    "preds = []\n",
    "preds_test = []\n",
    "\n",
    "folds = 5\n",
    "kf = KFold(train_x.shape[0], n_folds = folds)\n",
    "\n",
    "for ind, col in enumerate(train_y.T):\n",
    "    \n",
    "    fold_preds = []\n",
    "    fold_test = []\n",
    "    \n",
    "    for i, (train_index, test_index) in enumerate(kf):\n",
    "        \n",
    "        X_train, X_val = train_x[train_index], train_x[test_index]\n",
    "        y_train, y_val = col[train_index], col[test_index]\n",
    "\n",
    "        d_train = xgb.DMatrix(X_train, label=y_train)\n",
    "        d_valid = xgb.DMatrix(X_val, label=y_val)\n",
    "        d_test = xgb.DMatrix(test_x)\n",
    "\n",
    "        watchlist = [(d_train, 'train'), (d_valid, 'eval')]\n",
    "\n",
    "        clf = xgb.train(xgb_params,\n",
    "                    d_train,\n",
    "                    300,\n",
    "                    watchlist,\n",
    "                    early_stopping_rounds = 50, verbose_eval = False)\n",
    "\n",
    "        probs = clf.predict(d_valid)\n",
    "        probs_test = clf.predict(d_test)\n",
    "        \n",
    "        fold_preds.append(probs)\n",
    "        fold_test.append(probs_test)\n",
    "        \n",
    "    preds.append(fold_preds)\n",
    "    preds_test.append(fold_test)\n",
    "\n",
    "preds_a = np.asarray(preds)\n",
    "preds_at = np.asarray(preds_test)"
   ]
  },
  {
   "cell_type": "code",
   "execution_count": 155,
   "metadata": {
    "collapsed": false
   },
   "outputs": [
    {
     "ename": "ValueError",
     "evalue": "operands could not be broadcast together with shapes (18510,) (18509,) ",
     "output_type": "error",
     "traceback": [
      "\u001b[1;31m---------------------------------------------------------------------------\u001b[0m",
      "\u001b[1;31mValueError\u001b[0m                                Traceback (most recent call last)",
      "\u001b[1;32m<ipython-input-155-139e06d216e0>\u001b[0m in \u001b[0;36m<module>\u001b[1;34m()\u001b[0m\n\u001b[0;32m      1\u001b[0m \u001b[0mmeans\u001b[0m \u001b[1;33m=\u001b[0m \u001b[1;33m[\u001b[0m\u001b[1;33m]\u001b[0m\u001b[1;33m\u001b[0m\u001b[0m\n\u001b[0;32m      2\u001b[0m \u001b[1;32mfor\u001b[0m \u001b[0mi\u001b[0m \u001b[1;32min\u001b[0m \u001b[0mpreds_a\u001b[0m\u001b[1;33m:\u001b[0m\u001b[1;33m\u001b[0m\u001b[0m\n\u001b[1;32m----> 3\u001b[1;33m     \u001b[0mj\u001b[0m \u001b[1;33m=\u001b[0m \u001b[0mnp\u001b[0m\u001b[1;33m.\u001b[0m\u001b[0mmean\u001b[0m\u001b[1;33m(\u001b[0m\u001b[0mi\u001b[0m\u001b[1;33m,\u001b[0m \u001b[0maxis\u001b[0m \u001b[1;33m=\u001b[0m \u001b[1;36m0\u001b[0m\u001b[1;33m)\u001b[0m\u001b[1;33m\u001b[0m\u001b[0m\n\u001b[0m\u001b[0;32m      4\u001b[0m     \u001b[0mmeans\u001b[0m\u001b[1;33m.\u001b[0m\u001b[0mappend\u001b[0m\u001b[1;33m(\u001b[0m\u001b[0mj\u001b[0m\u001b[1;33m)\u001b[0m\u001b[1;33m\u001b[0m\u001b[0m\n\u001b[0;32m      5\u001b[0m \u001b[1;33m\u001b[0m\u001b[0m\n",
      "\u001b[1;32mC:\\Users\\prill\\Anaconda2\\lib\\site-packages\\numpy\\core\\fromnumeric.pyc\u001b[0m in \u001b[0;36mmean\u001b[1;34m(a, axis, dtype, out, keepdims)\u001b[0m\n\u001b[0;32m   2883\u001b[0m \u001b[1;33m\u001b[0m\u001b[0m\n\u001b[0;32m   2884\u001b[0m     return _methods._mean(a, axis=axis, dtype=dtype,\n\u001b[1;32m-> 2885\u001b[1;33m                           out=out, keepdims=keepdims)\n\u001b[0m\u001b[0;32m   2886\u001b[0m \u001b[1;33m\u001b[0m\u001b[0m\n\u001b[0;32m   2887\u001b[0m \u001b[1;33m\u001b[0m\u001b[0m\n",
      "\u001b[1;32mC:\\Users\\prill\\Anaconda2\\lib\\site-packages\\numpy\\core\\_methods.pyc\u001b[0m in \u001b[0;36m_mean\u001b[1;34m(a, axis, dtype, out, keepdims)\u001b[0m\n\u001b[0;32m     63\u001b[0m         \u001b[0mdtype\u001b[0m \u001b[1;33m=\u001b[0m \u001b[0mmu\u001b[0m\u001b[1;33m.\u001b[0m\u001b[0mdtype\u001b[0m\u001b[1;33m(\u001b[0m\u001b[1;34m'f8'\u001b[0m\u001b[1;33m)\u001b[0m\u001b[1;33m\u001b[0m\u001b[0m\n\u001b[0;32m     64\u001b[0m \u001b[1;33m\u001b[0m\u001b[0m\n\u001b[1;32m---> 65\u001b[1;33m     \u001b[0mret\u001b[0m \u001b[1;33m=\u001b[0m \u001b[0mumr_sum\u001b[0m\u001b[1;33m(\u001b[0m\u001b[0marr\u001b[0m\u001b[1;33m,\u001b[0m \u001b[0maxis\u001b[0m\u001b[1;33m,\u001b[0m \u001b[0mdtype\u001b[0m\u001b[1;33m,\u001b[0m \u001b[0mout\u001b[0m\u001b[1;33m,\u001b[0m \u001b[0mkeepdims\u001b[0m\u001b[1;33m)\u001b[0m\u001b[1;33m\u001b[0m\u001b[0m\n\u001b[0m\u001b[0;32m     66\u001b[0m     \u001b[1;32mif\u001b[0m \u001b[0misinstance\u001b[0m\u001b[1;33m(\u001b[0m\u001b[0mret\u001b[0m\u001b[1;33m,\u001b[0m \u001b[0mmu\u001b[0m\u001b[1;33m.\u001b[0m\u001b[0mndarray\u001b[0m\u001b[1;33m)\u001b[0m\u001b[1;33m:\u001b[0m\u001b[1;33m\u001b[0m\u001b[0m\n\u001b[0;32m     67\u001b[0m         ret = um.true_divide(\n",
      "\u001b[1;31mValueError\u001b[0m: operands could not be broadcast together with shapes (18510,) (18509,) "
     ]
    }
   ],
   "source": [
    "means = []\n",
    "for i in preds_a:\n",
    "    j = np.mean(i, axis = 0)\n",
    "    means.append(j)\n",
    "    \n",
    "means_t = []\n",
    "for i in preds_at:\n",
    "    j = np.mean(i, axis = 0)\n",
    "    means_t.append(j)\n",
    "\n",
    "    \n",
    "means_b = np.asarray(means).T\n",
    "means_tb = np.asarray(means_t).T\n",
    "\n",
    "ROC = roc_auc_score(y_val2, means_b)\n",
    "\n",
    "means_b[means_b >= 0.5] = 1\n",
    "means_b[means_b < 0.5] = 0\n",
    "F1 = f1_score(y_val2, means_b, average = \"macro\")\n",
    "\n",
    "print ('\\n', \"F1 score: \", F1, \"ROC AUC score: \", ROC)\n",
    "\n",
    "preds = means_tb\n",
    "\n",
    "print (\"Test set predictions done.\")"
   ]
  },
  {
   "cell_type": "markdown",
   "metadata": {},
   "source": [
    "get last instance dict"
   ]
  },
  {
   "cell_type": "code",
   "execution_count": 152,
   "metadata": {
    "collapsed": false
   },
   "outputs": [],
   "source": [
    "last_instance_df = last_instance_df.fillna(0).astype('int')\n",
    "cust_dict = {}\n",
    "target_cols2 = np.array(target_cols)[1:]\n",
    "for ind, row in last_instance_df.iterrows():\n",
    "    cust = row['ncodpers']\n",
    "    used_products = set(target_cols2[np.array(row[1:])==1])\n",
    "    cust_dict[cust] = used_products"
   ]
  },
  {
   "cell_type": "markdown",
   "metadata": {},
   "source": [
    "creat csv file of prediction for submitting to kaggle."
   ]
  },
  {
   "cell_type": "code",
   "execution_count": 154,
   "metadata": {
    "collapsed": false
   },
   "outputs": [
    {
     "ename": "ValueError",
     "evalue": "operands could not be broadcast together with shapes (18509,) (18510,) ",
     "output_type": "error",
     "traceback": [
      "\u001b[1;31m---------------------------------------------------------------------------\u001b[0m",
      "\u001b[1;31mValueError\u001b[0m                                Traceback (most recent call last)",
      "\u001b[1;32m<ipython-input-154-0a26c01a368f>\u001b[0m in \u001b[0;36m<module>\u001b[1;34m()\u001b[0m\n\u001b[0;32m      1\u001b[0m \u001b[1;31m#preds = np.argsort(preds, axis=1)\u001b[0m\u001b[1;33m\u001b[0m\u001b[1;33m\u001b[0m\u001b[0m\n\u001b[1;32m----> 2\u001b[1;33m \u001b[0mpreds\u001b[0m \u001b[1;33m=\u001b[0m \u001b[0mnp\u001b[0m\u001b[1;33m.\u001b[0m\u001b[0margsort\u001b[0m\u001b[1;33m(\u001b[0m\u001b[0mpreds\u001b[0m\u001b[1;33m)\u001b[0m\u001b[1;33m\u001b[0m\u001b[0m\n\u001b[0m\u001b[0;32m      3\u001b[0m \u001b[0mpreds\u001b[0m \u001b[1;33m=\u001b[0m \u001b[0mnp\u001b[0m\u001b[1;33m.\u001b[0m\u001b[0mfliplr\u001b[0m\u001b[1;33m(\u001b[0m\u001b[0mpreds\u001b[0m\u001b[1;33m)\u001b[0m\u001b[1;33m\u001b[0m\u001b[0m\n\u001b[0;32m      4\u001b[0m \u001b[0mtest_id\u001b[0m \u001b[1;33m=\u001b[0m \u001b[0mnp\u001b[0m\u001b[1;33m.\u001b[0m\u001b[0marray\u001b[0m\u001b[1;33m(\u001b[0m\u001b[0mpd\u001b[0m\u001b[1;33m.\u001b[0m\u001b[0mread_csv\u001b[0m\u001b[1;33m(\u001b[0m\u001b[0mtest_file\u001b[0m\u001b[1;33m,\u001b[0m \u001b[0musecols\u001b[0m\u001b[1;33m=\u001b[0m\u001b[1;33m[\u001b[0m\u001b[1;34m'ncodpers'\u001b[0m\u001b[1;33m]\u001b[0m\u001b[1;33m)\u001b[0m\u001b[1;33m[\u001b[0m\u001b[1;34m'ncodpers'\u001b[0m\u001b[1;33m]\u001b[0m\u001b[1;33m)\u001b[0m\u001b[1;33m\u001b[0m\u001b[0m\n\u001b[0;32m      5\u001b[0m \u001b[0mfinal_preds\u001b[0m \u001b[1;33m=\u001b[0m \u001b[1;33m[\u001b[0m\u001b[1;33m]\u001b[0m\u001b[1;33m\u001b[0m\u001b[0m\n",
      "\u001b[1;32mC:\\Users\\prill\\Anaconda2\\lib\\site-packages\\numpy\\core\\fromnumeric.pyc\u001b[0m in \u001b[0;36margsort\u001b[1;34m(a, axis, kind, order)\u001b[0m\n\u001b[0;32m    911\u001b[0m         \u001b[0margsort\u001b[0m \u001b[1;33m=\u001b[0m \u001b[0ma\u001b[0m\u001b[1;33m.\u001b[0m\u001b[0margsort\u001b[0m\u001b[1;33m\u001b[0m\u001b[0m\n\u001b[0;32m    912\u001b[0m     \u001b[1;32mexcept\u001b[0m \u001b[0mAttributeError\u001b[0m\u001b[1;33m:\u001b[0m\u001b[1;33m\u001b[0m\u001b[0m\n\u001b[1;32m--> 913\u001b[1;33m         \u001b[1;32mreturn\u001b[0m \u001b[0m_wrapit\u001b[0m\u001b[1;33m(\u001b[0m\u001b[0ma\u001b[0m\u001b[1;33m,\u001b[0m \u001b[1;34m'argsort'\u001b[0m\u001b[1;33m,\u001b[0m \u001b[0maxis\u001b[0m\u001b[1;33m,\u001b[0m \u001b[0mkind\u001b[0m\u001b[1;33m,\u001b[0m \u001b[0morder\u001b[0m\u001b[1;33m)\u001b[0m\u001b[1;33m\u001b[0m\u001b[0m\n\u001b[0m\u001b[0;32m    914\u001b[0m     \u001b[1;32mreturn\u001b[0m \u001b[0margsort\u001b[0m\u001b[1;33m(\u001b[0m\u001b[0maxis\u001b[0m\u001b[1;33m,\u001b[0m \u001b[0mkind\u001b[0m\u001b[1;33m,\u001b[0m \u001b[0morder\u001b[0m\u001b[1;33m)\u001b[0m\u001b[1;33m\u001b[0m\u001b[0m\n\u001b[0;32m    915\u001b[0m \u001b[1;33m\u001b[0m\u001b[0m\n",
      "\u001b[1;32mC:\\Users\\prill\\Anaconda2\\lib\\site-packages\\numpy\\core\\fromnumeric.pyc\u001b[0m in \u001b[0;36m_wrapit\u001b[1;34m(obj, method, *args, **kwds)\u001b[0m\n\u001b[0;32m     46\u001b[0m     \u001b[1;32mexcept\u001b[0m \u001b[0mAttributeError\u001b[0m\u001b[1;33m:\u001b[0m\u001b[1;33m\u001b[0m\u001b[0m\n\u001b[0;32m     47\u001b[0m         \u001b[0mwrap\u001b[0m \u001b[1;33m=\u001b[0m \u001b[0mNone\u001b[0m\u001b[1;33m\u001b[0m\u001b[0m\n\u001b[1;32m---> 48\u001b[1;33m     \u001b[0mresult\u001b[0m \u001b[1;33m=\u001b[0m \u001b[0mgetattr\u001b[0m\u001b[1;33m(\u001b[0m\u001b[0masarray\u001b[0m\u001b[1;33m(\u001b[0m\u001b[0mobj\u001b[0m\u001b[1;33m)\u001b[0m\u001b[1;33m,\u001b[0m \u001b[0mmethod\u001b[0m\u001b[1;33m)\u001b[0m\u001b[1;33m(\u001b[0m\u001b[1;33m*\u001b[0m\u001b[0margs\u001b[0m\u001b[1;33m,\u001b[0m \u001b[1;33m**\u001b[0m\u001b[0mkwds\u001b[0m\u001b[1;33m)\u001b[0m\u001b[1;33m\u001b[0m\u001b[0m\n\u001b[0m\u001b[0;32m     49\u001b[0m     \u001b[1;32mif\u001b[0m \u001b[0mwrap\u001b[0m\u001b[1;33m:\u001b[0m\u001b[1;33m\u001b[0m\u001b[0m\n\u001b[0;32m     50\u001b[0m         \u001b[1;32mif\u001b[0m \u001b[1;32mnot\u001b[0m \u001b[0misinstance\u001b[0m\u001b[1;33m(\u001b[0m\u001b[0mresult\u001b[0m\u001b[1;33m,\u001b[0m \u001b[0mmu\u001b[0m\u001b[1;33m.\u001b[0m\u001b[0mndarray\u001b[0m\u001b[1;33m)\u001b[0m\u001b[1;33m:\u001b[0m\u001b[1;33m\u001b[0m\u001b[0m\n",
      "\u001b[1;31mValueError\u001b[0m: operands could not be broadcast together with shapes (18509,) (18510,) "
     ]
    }
   ],
   "source": [
    "preds = np.argsort(preds, axis=1)\n",
    "preds = np.fliplr(preds)\n",
    "test_id = np.array(pd.read_csv(test_file, usecols=['ncodpers'])['ncodpers'])\n",
    "final_preds = []\n",
    "for ind, pred in enumerate(preds):\n",
    "    cust = test_id[ind]\n",
    "    top_products = target_cols[pred]\n",
    "    used_products = cust_dict.get(cust,[])\n",
    "    new_top_products = []\n",
    "    for product in top_products:\n",
    "        if product not in used_products:\n",
    "            new_top_products.append(product)\n",
    "        if len(new_top_products) == 7:\n",
    "            break\n",
    "    final_preds.append(\" \".join(new_top_products))\n",
    "\n",
    "len(final_preds[0])\n",
    "len(final_preds)\n",
    "final_preds[0]\n",
    "\n",
    "out_df = pd.DataFrame({'ncodpers':test_id, 'added_products':final_preds})\n",
    "out_df.to_csv('XGBoost.csv', index=False)"
   ]
  },
  {
   "cell_type": "code",
   "execution_count": null,
   "metadata": {
    "collapsed": true
   },
   "outputs": [],
   "source": [
    "from sklearn.calibration import CalibratedClassifierCV\n",
    "from sklearn.multiclass import OneVsRestClassifier\n",
    "from xgboost import XGBClassifier\n",
    "\n",
    "nb_classes = labels.shape[1]\n",
    "\n",
    "params = {\n",
    "    'n_estimators': 10,\n",
    "    'max_depth': 10,\n",
    "}\n",
    "\n",
    "xgbc = XGBClassifier(**params)\n",
    "\n",
    "\n",
    "ova_xgbc = OneVsRestClassifier(xgbc)\n",
    "ova_xgbc.fit(X_train, y_train)\n",
    "ova_preds = ova_xgbc.predict(X_val)\n",
    "\n",
    "\n",
    "F1 = f1_score(y_val, ova_preds, average = \"macro\")\n",
    "print(\"F1 score: \", F1 )"
   ]
  },
  {
   "cell_type": "markdown",
   "metadata": {},
   "source": [
    "### 3.2 Random Forest"
   ]
  },
  {
   "cell_type": "code",
   "execution_count": 172,
   "metadata": {
    "collapsed": false,
    "scrolled": true
   },
   "outputs": [
    {
     "data": {
      "text/plain": [
       "RandomForestClassifier(bootstrap=True, class_weight=None, criterion='gini',\n",
       "            max_depth=10, max_features='auto', max_leaf_nodes=None,\n",
       "            min_impurity_split=1e-07, min_samples_leaf=1,\n",
       "            min_samples_split=2, min_weight_fraction_leaf=0.0,\n",
       "            n_estimators=10, n_jobs=1, oob_score=False, random_state=42,\n",
       "            verbose=0, warm_start=False)"
      ]
     },
     "execution_count": 172,
     "metadata": {},
     "output_type": "execute_result"
    }
   ],
   "source": [
    "# running model\n",
    "rf = RandomForestClassifier(n_estimators=10,\n",
    "                             max_depth=10,\n",
    "                             n_jobs=1,\n",
    "                             random_state=42)\n",
    "rf.fit()"
   ]
  },
  {
   "cell_type": "code",
   "execution_count": null,
   "metadata": {
    "collapsed": true
   },
   "outputs": [],
   "source": []
  }
 ],
 "metadata": {
  "kernelspec": {
   "display_name": "Python 2",
   "language": "python",
   "name": "python2"
  },
  "language_info": {
   "codemirror_mode": {
    "name": "ipython",
    "version": 2
   },
   "file_extension": ".py",
   "mimetype": "text/x-python",
   "name": "python",
   "nbconvert_exporter": "python",
   "pygments_lexer": "ipython2",
   "version": "2.7.12"
  }
 },
 "nbformat": 4,
 "nbformat_minor": 0
}
